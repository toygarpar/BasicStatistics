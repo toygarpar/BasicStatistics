{
 "cells": [
  {
   "cell_type": "markdown",
   "id": "f78e884f",
   "metadata": {},
   "source": [
    "# 🧠 Vektörler: \n",
    "\n",
    "## Giriş: Veri Nereye Gidiyor?\n",
    "\n",
    "Diyelim ki bir yapay zeka modeli eğitiyorsun.  \n",
    "Ya da bir müşteri segmentasyonu yapıyorsun.  \n",
    "Ya da fizikteki bir hareketi açıklamaya çalışıyorsun.\n",
    "\n",
    "İşte o zaman karşına çıkacak olan şey,  \n",
    "bir yönü ve büyüklüğü olan soyut nesne: **vektör**.\n",
    "\n",
    "> “Vektör, sadece bir ok değil;  \n",
    "Verinin nereye gittiğini gösteren pusuladır.”  "
   ]
  },
  {
   "cell_type": "markdown",
   "id": "c301e8f7",
   "metadata": {},
   "source": [
    "## 🔍 Vektör Nedir?\n",
    "\n",
    "Vektör, **yönü ve büyüklüğü olan matematiksel nesnedir.**\n",
    "\n",
    "- Büyüklük → Ne kadar ilerliyor?\n",
    "- Yön → Hangi doğrultuda ilerliyor?\n",
    "\n",
    "📌 Farklı şekillerde ifade edilebilir:\n",
    "\n",
    "| Tür | Açıklama | Örnek |\n",
    "|------|----------|--------|\n",
    "| **Geometrik Gösterim** | Ok ile çizilir | ↗️ |\n",
    "| **Koordinat Gösterimi** | Sayılarla ifade edilir | `(2, 3)` |\n",
    "| **Matris Gösterimi** | Sütun veya satır vektörü olarak | `[2] [3]` |\n"
   ]
  },
  {
   "cell_type": "markdown",
   "id": "d93702aa",
   "metadata": {},
   "source": [
    "## 📏 Vektörün Temel Özellikleri\n",
    "\n",
    "### ✅ Yön\n",
    "Bir vektörün **nereye doğru gittiğini** gösterir.\n",
    "\n",
    "```\n",
    "(2, 3) → sağa ve yukarı doğru hareket  \n",
    "(-4, -1) → sola ve aşağıya doğru hareket\n",
    "```\n",
    "\n",
    "📌 Bu yön, yapay zekada **ağırlık güncellemesi**,  \n",
    "fizikte ise **kuvvet yönü** anlamına gelir."
   ]
  },
  {
   "cell_type": "markdown",
   "id": "d4f2e3bd",
   "metadata": {},
   "source": [
    "### ✅ Büyüklük (Uzunluk)\n",
    "Vektörün şiddeti ya da büyüklüğü demektir.\n",
    "\n",
    "📌 Formülü:\n",
    "$$\n",
    "|v| = \\sqrt{x^2 + y^2}\n",
    "$$\n",
    "\n",
    "\n",
    "\n",
    "✅ Sonuç:\n",
    "```\n",
    "Büyüklük: 3.6055...\n",
    "```\n",
    "\n",
    "> “Büyüklük, ne kadar güçlü olduğunu gösterir.  \n",
    "Yön, ne tarafta durduğunu!”  \n",
    "\n",
    "Örneğin:"
   ]
  },
  {
   "cell_type": "code",
   "execution_count": 3,
   "id": "8c387c12",
   "metadata": {},
   "outputs": [
    {
     "name": "stdout",
     "output_type": "stream",
     "text": [
      "Büyüklük: 3.605551275463989\n"
     ]
    }
   ],
   "source": [
    "import numpy as np\n",
    "\n",
    "v = np.array([2, 3])\n",
    "buyukluk = np.linalg.norm(v)\n",
    "print(\"Büyüklük:\", buyukluk)"
   ]
  },
  {
   "cell_type": "markdown",
   "id": "a7d25032",
   "metadata": {},
   "source": [
    "## 🧮 Vektörler Üzerinde İşlemler\n",
    "\n",
    "### 1. **Toplama**\n",
    "İki vektör aynı yönde mi? Ters yönde mi?  \n",
    "Ona göre toplanır."
   ]
  },
  {
   "cell_type": "code",
   "execution_count": 4,
   "id": "2ce4d497",
   "metadata": {},
   "outputs": [
    {
     "name": "stdout",
     "output_type": "stream",
     "text": [
      "Toplam vektör: [3 2]\n"
     ]
    }
   ],
   "source": [
    "\n",
    "u = np.array([2, 3])\n",
    "v = np.array([1, -1])\n",
    "\n",
    "toplam = u + v\n",
    "print(\"Toplam vektör:\", toplam)"
   ]
  },
  {
   "cell_type": "markdown",
   "id": "b04d7060",
   "metadata": {},
   "source": [
    "### 2. **Skalerle Çarpma**\n",
    "Vektörün uzunluğunu değiştirir ama yönünü bozmaz."
   ]
  },
  {
   "cell_type": "code",
   "execution_count": 6,
   "id": "caabfd7c",
   "metadata": {},
   "outputs": [
    {
     "name": "stdout",
     "output_type": "stream",
     "text": [
      "Skaler çarpım: [4 6]\n"
     ]
    }
   ],
   "source": [
    "k = 2\n",
    "carpim = k * u\n",
    "print(\"Skaler çarpım:\", carpim)"
   ]
  },
  {
   "cell_type": "markdown",
   "id": "93d2a23e",
   "metadata": {},
   "source": [
    "📌 Artık daha büyük ama aynı yönde."
   ]
  },
  {
   "cell_type": "markdown",
   "id": "1fd8ed0d",
   "metadata": {},
   "source": [
    "### 3. **Çıkarma**\n",
    "İkinci vektörün yönünü ters çevirip toplamaktır."
   ]
  },
  {
   "cell_type": "code",
   "execution_count": 7,
   "id": "fadccb61",
   "metadata": {},
   "outputs": [
    {
     "name": "stdout",
     "output_type": "stream",
     "text": [
      "Çıkarma sonucu: [1 4]\n"
     ]
    }
   ],
   "source": [
    "cikarma = u - v\n",
    "print(\"Çıkarma sonucu:\", cikarma)"
   ]
  },
  {
   "cell_type": "markdown",
   "id": "5acee7b9",
   "metadata": {},
   "source": [
    "### 4. **Nokta Çarpımı (Dot Product)**\n",
    "\n",
    "İki vektör arasındaki açıyı ölçer.  \n",
    "Yani: “Bu iki vektör, birbirine ne kadar uyumlu?”\n",
    "\n",
    "📌 Formül:\n",
    "$$\n",
    "u \\cdot v = x_1x_2 + y_1y_2\n",
    "$$\n",
    "\n",
    "Python’da:"
   ]
  },
  {
   "cell_type": "code",
   "execution_count": 8,
   "id": "366a406e",
   "metadata": {},
   "outputs": [
    {
     "name": "stdout",
     "output_type": "stream",
     "text": [
      "Nokta çarpım: -1\n"
     ]
    }
   ],
   "source": [
    "dot_product = np.dot(u, v)\n",
    "print(\"Nokta çarpım:\", dot_product)"
   ]
  },
  {
   "cell_type": "markdown",
   "id": "63d3d534",
   "metadata": {},
   "source": [
    "📌 Eğer nokta çarpım pozitifse → yönler benzer  \n",
    "📌 Eğer sıfırsa → dik  \n",
    "📌 Eğer negatifse → ters yönlü"
   ]
  },
  {
   "cell_type": "markdown",
   "id": "6c82775e",
   "metadata": {},
   "source": [
    "### 5. **Vektörel Çarpım (Cross Product)**\n",
    "\n",
    "Sadece üç boyutta geçerlidir.  \n",
    "Sonuç, her iki vektöre de dik olan yeni bir vektördür."
   ]
  },
  {
   "cell_type": "code",
   "execution_count": 9,
   "id": "6e31130c",
   "metadata": {},
   "outputs": [
    {
     "name": "stdout",
     "output_type": "stream",
     "text": [
      "Vektörel çarpım: [0 0 1]\n"
     ]
    }
   ],
   "source": [
    "w = np.array([1, 0, 0])\n",
    "z = np.array([0, 1, 0])\n",
    "\n",
    "cross_product = np.cross(w, z)\n",
    "print(\"Vektörel çarpım:\", cross_product)"
   ]
  },
  {
   "cell_type": "markdown",
   "id": "51773b5f",
   "metadata": {},
   "source": [
    "## 🌐 Vektör Uzayı: \n",
    "\n",
    "Vektör uzayı, vektörlerin toplanıp skalerle çarpıldığı,  \n",
    "ama hep aynı kurallara tabi tutulduğu soyut alan.\n",
    "\n",
    "📌 Ana kurallar:\n",
    "- İki vektör toplanabilir ve sonuç yine uzayda olmalı\n",
    "- Skalerle çarpım yapılabilir ve sonuç yine uzayda olmalı"
   ]
  },
  {
   "cell_type": "markdown",
   "id": "c594c3fb",
   "metadata": {},
   "source": [
    "## 📍 Koordinat Sisteminde Vektör Gösterimi\n",
    "\n",
    "| Tür | Gösterim | Python Kodu |\n",
    "|-----|-----------|-------------|\n",
    "| **2D** | `v = (2, 3)` | `np.array([2, 3])` |\n",
    "| **3D** | `v = (1, 2, 3)` | `np.array([1, 2, 3])` |\n",
    "| **Satır Vektörü** | `[2 3]` | `np.array([[2, 3]])` |\n",
    "| **Sütun Vektörü** | `[2] [3]` | `np.array([[2], [3]])` |\n",
    "\n",
    "📌 Bir vektör, hem yön hem de büyüklük taşır.  \n",
    "Ama onu doğru tanımlarsan,  \n",
    "veriyi doğru yönde taşıyabilirsin.\n"
   ]
  },
  {
   "cell_type": "markdown",
   "id": "502eb8c7",
   "metadata": {},
   "source": [
    "## 🎯 Gerçek Hayat Örneği: Müşteri Segmentasyonu\n",
    "\n",
    "Bir müşterinin profilini şu şekilde tanımlayalım:\n",
    "\n",
    "```\n",
    "Müşteri A: [2, 3] → yaş: 2, harcama: 3  \n",
    "Müşteri B: [4, 1] → yaş: 4, harcama: 1\n",
    "```\n"
   ]
  },
  {
   "cell_type": "code",
   "execution_count": 11,
   "id": "e09879e4",
   "metadata": {},
   "outputs": [
    {
     "name": "stdout",
     "output_type": "stream",
     "text": [
      "Toplam vektör: [6 4]\n"
     ]
    }
   ],
   "source": [
    "\n",
    "\n",
    "musteri_A = np.array([2, 3])\n",
    "musteri_B = np.array([4, 1])\n",
    "\n",
    "toplam_vektor = musteri_A + musteri_B\n",
    "print(\"Toplam vektör:\", toplam_vektor)"
   ]
  },
  {
   "cell_type": "markdown",
   "id": "50b0f697",
   "metadata": {},
   "source": [
    "👉 Bu toplam, yeni bir segment oluşturur.  \n",
    "Yaş arttı, harcama azaldı.  \n",
    "Ama ikisi birlikte yeni bir davranış ortaya koydu."
   ]
  },
  {
   "cell_type": "markdown",
   "id": "d67e038d",
   "metadata": {},
   "source": [
    "## 📊 Nokta Çarpım ve Korelasyon Arasındaki Bağ\n",
    "\n",
    "Nokta çarpım, iki vektör arasındaki ilişkiyi gösterir."
   ]
  },
  {
   "cell_type": "code",
   "execution_count": 12,
   "id": "794054e9",
   "metadata": {},
   "outputs": [
    {
     "name": "stdout",
     "output_type": "stream",
     "text": [
      "Korelasyon matrisi:\n",
      " [[ 1. -1.]\n",
      " [-1.  1.]]\n"
     ]
    }
   ],
   "source": [
    "corr = np.corrcoef(musteri_A, musteri_B)\n",
    "print(\"Korelasyon matrisi:\\n\", corr)"
   ]
  },
  {
   "cell_type": "markdown",
   "id": "40681e1e",
   "metadata": {},
   "source": [
    "📌 Bu matris, nokta çarpımdan türemiş bilgi içerir.  \n",
    "İkisi çok yakınsa, nokta çarpım yüksek çıkar.  \n",
    "Ters yöndeyse, düşük ya da negatif çıkar."
   ]
  },
  {
   "cell_type": "markdown",
   "id": "b5d24bb4",
   "metadata": {},
   "source": [
    "## 🧪 Vektör İşlemlerinin Gücü\n",
    "\n",
    "| İşlem | Açıklama |\n",
    "|--------|----------|\n",
    "| Toplama | Kuvvet birleştirme |\n",
    "| Çıkarma | Farkı görme |\n",
    "| Skaler Çarpım | Şiddet kontrolü |\n",
    "| Nokta Çarpım | Benzerlik ölçüsü |\n",
    "| Vektörel Çarpım | Dik yön bulma |\n",
    "| Norm | Uzunluk ölçümü |\n",
    "| Açı | Yön ilişkisi |\n",
    "\n",
    "📌 Bu işlemler, yapay zekada özelliklerin ağırlıklarıyla çarpımını,  \n",
    "sınıflandırma modellerinde mesafe hesaplarını  \n",
    "ve hatta optimizasyon adımlarında yönü belirler."
   ]
  },
  {
   "cell_type": "markdown",
   "id": "c7b15c22",
   "metadata": {},
   "source": [
    "## 📈 Vektörler ve Yapay Zeka Arasındaki Bağ\n",
    "\n",
    "Yapay zekada her şey aslında vektörlerle anlatılır:\n",
    "\n",
    "- Resim → piksellerle oluşturulmuş vektör\n",
    "- Metin → kelime vektörleriyle temsil edilir\n",
    "- Müşteri → davranışları bir vektörle saklanır\n",
    "\n",
    "📌 Model, bu vektörlerle çalışır.  \n",
    "Eğer vektörleri bilmezsen, modelin neden yanıt verdiğini de bilemezsin."
   ]
  },
  {
   "cell_type": "markdown",
   "id": "71d49090",
   "metadata": {},
   "source": []
  }
 ],
 "metadata": {
  "kernelspec": {
   "display_name": "base",
   "language": "python",
   "name": "python3"
  },
  "language_info": {
   "codemirror_mode": {
    "name": "ipython",
    "version": 3
   },
   "file_extension": ".py",
   "mimetype": "text/x-python",
   "name": "python",
   "nbconvert_exporter": "python",
   "pygments_lexer": "ipython3",
   "version": "3.12.9"
  }
 },
 "nbformat": 4,
 "nbformat_minor": 5
}
