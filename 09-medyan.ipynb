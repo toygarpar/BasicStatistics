{
 "cells": [
  {
   "cell_type": "markdown",
   "id": "c46a6c4e",
   "metadata": {},
   "source": [
    "# 🧮 Medyan (Ortanca): Aykırı Değerlerden Etkilenmeyen Dengenin Noktası\n",
    "\n",
    "## Giriş: Ortalama Her Zaman En Doğruyu Söylemez!\n",
    "\n",
    "Diyelim ki 5 arkadaş arasında şöyle bir maaş dağılımı var:\n",
    "\n",
    "```\n",
    "10.000 TL  \n",
    "12.000 TL  \n",
    "13.000 TL  \n",
    "14.000 TL  \n",
    "100.000 TL\n",
    "```\n",
    "\n",
    "Aritmetik ortalama = **29.800 TL**\n",
    "\n",
    "Ama hepiniz biliyorsunuz ki, 100.000 TL alan bir kişi hariç, geri kalan hep 13.000 civarında maaş alıyor.\n",
    "\n",
    "Bu durumda ortalama, gerçek dengenin çok dışında. İşte tam burada devreye **medyan** giriyor.\n",
    "\n",
    "> “Medyan, aykırı değerlerin arasından geçip, gerçeği ortaya koyan sessiz ama güçlü bir ölçüdür.”  \n"
   ]
  },
  {
   "cell_type": "markdown",
   "id": "4b934dc9",
   "metadata": {},
   "source": [
    "## 🔍 Medyan Nedir?\n",
    "\n",
    "**Medyan (ortanca)**, veri kümesini küçükten büyüğe doğru sıraladığımızda **tam ortada kalan değerdir.**\n",
    "\n",
    "Medyan (ortanca), bir veri kümesini küçükten büyüğe veya büyükten küçüğe doğru sıraladığımızda tam ortada bulunan değerdir. Medyan, özellikle aykırı değerlerin (çok büyük veya çok küçük değerlerin) olduğu veri kümelerinde, merkezi eğilimi göstermek için aritmetik ortalamadan daha iyi bir ölçü olabilir.\n",
    "\n",
    "- **Tek sayıda veri varsa:** Ortadaki tek değer medyandır.\n",
    "- **Çift sayıda veri varsa:** Ortadaki iki değerin ortalaması alınır.\n",
    "\n",
    "📌 Medyan, özellikle **aykırı değerlere karşı dirençli** olduğu için tercih edilir."
   ]
  },
  {
   "cell_type": "markdown",
   "id": "81e21809",
   "metadata": {},
   "source": [
    "## 📋 Medyan Nasıl Hesaplanır? Adım Adım Yöntem\n",
    "\n",
    "### 1. Verileri Sırala\n",
    "Verileri küçükten büyüğe doğru sırala.\n",
    "\n",
    "### 2. Ortadaki Değeri Bul\n",
    "- Eğer veri sayısı **tekse**: Ortadaki değer medyandır.\n",
    "- Eğer veri sayısı **çiftse**: Ortadaki iki sayının ortalaması alınır.\n"
   ]
  },
  {
   "cell_type": "markdown",
   "id": "5b024532",
   "metadata": {},
   "source": [
    "## 💡 Gerçek Hayat Örnekleri ile Anlamak\n",
    "\n",
    "### 🎯 Örnek 1: Tek Sayıda Veri\n",
    "\n",
    "Sınıf notları:\n",
    "```\n",
    "68, 75, 80, 85, 92\n",
    "```\n",
    "\n",
    "Adım adım:\n",
    "1. Sırala → 68, 75, 80, 85, 92\n",
    "2. Ortadaki değer → 80\n",
    "\n",
    "✅ **Medyan = 80**"
   ]
  },
  {
   "cell_type": "markdown",
   "id": "799fcf87",
   "metadata": {},
   "source": [
    "### 🏀 Örnek 2: Çift Sayıda Veri\n",
    "\n",
    "Maç başına attığı sayılar:\n",
    "```\n",
    "10, 12, 15, 16, 18, 20\n",
    "```\n",
    "\n",
    "Adım adım:\n",
    "1. Sırala → 10, 12, 15, 16, 18, 20\n",
    "2. Ortadaki iki sayı → 15 ve 16\n",
    "3. Ortalama → (15 + 16) / 2 = **15.5**\n",
    "\n",
    "✅ **Medyan = 15.5**"
   ]
  },
  {
   "cell_type": "markdown",
   "id": "bc8b3dc0",
   "metadata": {},
   "source": [
    "## 📊 Medyanın Özellikleri\n",
    "\n",
    "| Özellik | Açıklama |\n",
    "|--------|----------|\n",
    "| ✅ Aykırı değerlere dayanıklı | Uç değerler medyanı fazla etkilemez |\n",
    "| ✅ Sıralama ölçeğinde kullanılabilir | Ordinal verilerde bile anlamlıdır |\n",
    "| ⚖️ Verinin %50’si altında, %50’si üstünde | Tam ortada yer alır |\n"
   ]
  },
  {
   "cell_type": "markdown",
   "id": "76e612cb",
   "metadata": {},
   "source": [
    "## 📈 Medyan mı, Aritmetik Ortalama mı?\n",
    "\n",
    "| Özellik | Medyan | Aritmetik Ortalama |\n",
    "|--------|--------|--------------------|\n",
    "| Aykırı değerden etkilenme | ❌ | ✅ |\n",
    "| Kullanılan veri miktarı | Sadece orta nokta | Tüm veriler |\n",
    "| Hangi ölçekte kullanılır? | Ordinal, interval, ratio | Interval, ratio |\n",
    "| Ne zaman tercih edilir? | Dağılım çarpıksa | Normal dağılımda |\n",
    "\n",
    "📌 **Özet:**  \n",
    "- **Normal dağılımlarda** ortalama,\n",
    "- **Aykırı değerlerin olduğu veya çarpık dağılımlarda** ise **medyan** daha güvenilirdir."
   ]
  },
  {
   "cell_type": "code",
   "execution_count": 1,
   "id": "6c46f631",
   "metadata": {},
   "outputs": [
    {
     "name": "stdout",
     "output_type": "stream",
     "text": [
      "Medyan (Tek sayılı veri): 80.0\n",
      "Medyan (Çift sayılı veri): 15.5\n"
     ]
    }
   ],
   "source": [
    "# Python Uygulaması: Medyan Nasıl Hesaplanır?\n",
    "\n",
    "import numpy as np\n",
    "\n",
    "# Örnek 1 - Tek sayıda veri\n",
    "veri1 = [68, 75, 80, 85, 92]\n",
    "print(\"Medyan (Tek sayılı veri):\", np.median(veri1))\n",
    "\n",
    "# Örnek 2 - Çift sayıda veri\n",
    "veri2 = [10, 12, 15, 16, 18, 20]\n",
    "print(\"Medyan (Çift sayılı veri):\", np.median(veri2))\n"
   ]
  },
  {
   "cell_type": "code",
   "execution_count": 2,
   "id": "4fd33ff2",
   "metadata": {},
   "outputs": [
    {
     "name": "stdout",
     "output_type": "stream",
     "text": [
      "Medyan: 15.5\n"
     ]
    }
   ],
   "source": [
    "# alternatif olarak statistics modülü ile:\n",
    "\n",
    "import statistics\n",
    "\n",
    "print(\"Medyan:\", statistics.median([10, 12, 15, 16, 18, 20]))"
   ]
  },
  {
   "cell_type": "code",
   "execution_count": null,
   "id": "e0a952b3",
   "metadata": {},
   "outputs": [],
   "source": []
  }
 ],
 "metadata": {
  "kernelspec": {
   "display_name": "base",
   "language": "python",
   "name": "python3"
  },
  "language_info": {
   "codemirror_mode": {
    "name": "ipython",
    "version": 3
   },
   "file_extension": ".py",
   "mimetype": "text/x-python",
   "name": "python",
   "nbconvert_exporter": "python",
   "pygments_lexer": "ipython3",
   "version": "3.12.9"
  }
 },
 "nbformat": 4,
 "nbformat_minor": 5
}
