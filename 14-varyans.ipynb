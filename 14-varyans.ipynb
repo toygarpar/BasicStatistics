{
 "cells": [
  {
   "cell_type": "markdown",
   "id": "3df8bbcd",
   "metadata": {},
   "source": [
    "# 📐 Varyans: Verinin Yayılımının Kareli Hikayesi\n",
    "\n",
    "## Giriş: Neden Kare Alıyoruz?\n",
    "\n",
    "Diyelim ki bir sınıftaki öğrencilerin sınav notlarını inceledin. Ortalama 75 çıktı ama bazıları 100 aldı, bazıları ise 40 aldı. Bu durumda veri nasıl yayılmış? Bu sorunun cevabını varyans verir."
   ]
  },
  {
   "cell_type": "markdown",
   "id": "e1fd79cd",
   "metadata": {},
   "source": [
    "## 🔍 Varyans Nedir?\n",
    "\n",
    "**Varyans**, bir veri kümesindeki tüm değerlerin **ortalamaya göre ne kadar uzakta olduğunu** gösteren istatistiksel bir ölçüdür.\n",
    "\n",
    "### Anlamı:\n",
    "- **Küçük varyans →** Değerler ortalamaya yakın → Daha homojen dağılım\n",
    "- **Büyük varyans →** Değerler ortalamadan uzak → Daha heterojen dağılım\n",
    "\n",
    "📌 Yani:  \n",
    "- Eğer veri sıkışık duruyorsa → küçük varyans  \n",
    "- Eğer veri yayılmışsa → büyük varyans  "
   ]
  },
  {
   "cell_type": "markdown",
   "id": "90f5ebf9",
   "metadata": {},
   "source": [
    "## 🧮 Varyans Nasıl Hesaplanır?\n",
    "\n",
    "### 1. **Ortalamayı Bul**\n",
    "Tüm sayıların toplamını veri sayısına böl.\n",
    "\n",
    "### 2. **Her Sayının Ortalamadan Farkını Al**\n",
    "Sayı - ortalama = sapma\n",
    "\n",
    "### 3. **Sapmaların Karelerini Al**\n",
    "Negatifleri pozitif yapmak için karesini alıyoruz.\n",
    "\n",
    "### 4. **Karelerin Ortalamasını Al**\n",
    "Kareler toplamını veri sayısının bir eksiğine böl (örneklem için). Ana kütleyse doğrudan veri sayısına böl."
   ]
  },
  {
   "cell_type": "markdown",
   "id": "ce1eae10",
   "metadata": {},
   "source": [
    "## 💡 Gerçek Hayat Örneğiyle Anlamak\n",
    "\n",
    "### 🎯 Sınıf Notları:\n",
    "\n",
    "Notlar: `70, 80, 90, 60, 75`\n",
    "\n",
    "Adım adım çözüm:\n",
    "\n",
    "1. **Ortalama:**  \n",
    "   $$\n",
    "   \\frac{70 + 80 + 90 + 60 + 75}{5} = 75\n",
    "   $$\n",
    "\n",
    "2. **Sapmalar:**  \n",
    "   - 70 - 75 = -5  \n",
    "   - 80 - 75 = +5  \n",
    "   - 90 - 75 = +15  \n",
    "   - 60 - 75 = -15  \n",
    "   - 75 - 75 = 0\n",
    "\n",
    "3. **Kareler Toplamı:**  \n",
    "   - (-5)² = 25  \n",
    "   - (+5)² = 25  \n",
    "   - (+15)² = 225  \n",
    "   - (-15)² = 225  \n",
    "   - 0² = 0  \n",
    "   → Toplam = **500**\n",
    "\n",
    "4. **Varyans (Örneklem için):**  \n",
    "   $$\n",
    "   \\frac{500}{5 - 1} = \\frac{500}{4} = 125\n",
    "   $$\n",
    "\n",
    "✅ Bu sınıfın varyansı **125’tir.**  \n",
    "Bu da bize şu anlama gelir:  \n",
    "Veri noktaları ortalamaya göre oldukça yayılmış."
   ]
  },
  {
   "cell_type": "markdown",
   "id": "cefc145f",
   "metadata": {},
   "source": [
    "## 📊 Varyansın Özellikleri\n",
    "\n",
    "| Özellik | Açıklama |\n",
    "|--------|----------|\n",
    "| ✅ Dağılım ölçüsüdür | Verinin yayılımını gösterir |\n",
    "| ⚠️ Aykırı değerlere duyarlıdır | Çok yüksek veya düşük değerler varyansı büyütür |\n",
    "| 🟢 Standart sapmanın temelidir | Standart sapma = √varyans |\n",
    "| 🔲 Birimi farklıdır | Varyansın birimi orijinal verinin karesidir (örneğin: puan²) |\n"
   ]
  },
  {
   "cell_type": "markdown",
   "id": "9951a98e",
   "metadata": {},
   "source": [
    "## 📈 Varyans mı, Standart Sapma mı?\n",
    "\n",
    "| Özellik | Varyans | Standart Sapma |\n",
    "|---------|---------|----------------|\n",
    "| Formülü | Sapmaların karesi ortalaması | Varyansın karekökü |\n",
    "| Birimi | Kareli (örneğin: puan²) | Aynı birim (örneğin: puan) |\n",
    "| Yorumlanabilirlik | Zor | Kolay |\n",
    "| Kullanım Alanı | İstatistik modellerde | Günlük analizlerde |\n",
    "\n",
    "📌 **Özet:**  \n",
    "- Varyans teknik olarak önemlidir ama  \n",
    "- **Standart sapma günlük dilde daha çok kullanılır**, çünkü anlamlıdır."
   ]
  },
  {
   "cell_type": "markdown",
   "id": "6327c723",
   "metadata": {},
   "source": [
    "## 📌 Nerelerde Kullanılır?\n",
    "\n",
    "| Alan | Kullanım Yeri |\n",
    "|------|----------------|\n",
    "| **Finans** | Hisse senedi fiyatlarının dalgalanması |\n",
    "| **Eğitim** | Öğrenci notlarının dağılımı |\n",
    "| **Kalite Kontrolü** | Ürün boyutlarındaki sapmalar |\n",
    "| **Sağlık** | Tıbbi verilerin dağılımı |\n",
    "| **Veri Bilimi** | Özellik mühendisliği/Feature Engineering ve modelleme |\n"
   ]
  },
  {
   "cell_type": "code",
   "execution_count": 1,
   "id": "195925cc",
   "metadata": {},
   "outputs": [
    {
     "name": "stdout",
     "output_type": "stream",
     "text": [
      "Örneklem Varyansı: 125.00\n",
      "Ana Kütle Varyansı: 100.00\n"
     ]
    }
   ],
   "source": [
    "# Python Uygulaması: Varyans Nasıl Hesaplanır?\n",
    "\n",
    "import numpy as np\n",
    "\n",
    "veri = [70, 80, 90, 60, 75]\n",
    "\n",
    "# Örneklem varyansı (n-1'e göre)\n",
    "var_orneklem = np.var(veri, ddof=1)\n",
    "print(f\"Örneklem Varyansı: {var_orneklem:.2f}\")\n",
    "\n",
    "# Ana kütle varyansı (n'e göre)\n",
    "var_kitle = np.var(veri)\n",
    "print(f\"Ana Kütle Varyansı: {var_kitle:.2f}\")"
   ]
  },
  {
   "cell_type": "markdown",
   "id": "5e585505",
   "metadata": {},
   "source": [
    "📌 `ddof=1`: örneklem için farkı hesaplamayı sağlar  \n",
    "📌 `np.std()`: standart sapmayı hesaplamak için kullanılabilir"
   ]
  },
  {
   "cell_type": "markdown",
   "id": "3d19f33b",
   "metadata": {},
   "source": [
    "## 🧠 Varyans ile Karşılaştırma Yapalım\n",
    "\n",
    "| Sınıf A Notları | Sınıf B Notları |\n",
    "|------------------|------------------|\n",
    "| 70, 75, 80      | 40, 75, 110     |\n",
    "| Ortalama: 75     | Ortalama: 75     |\n",
    "| Varyans: ~25     | Varyans: ~1225   |\n",
    "\n",
    "📌 Her iki sınıfın ortalaması aynı ama **sınıf B’nin varyansı çok daha büyük.**  \n",
    "Demek ki B sınıfında notlar çok daha fazla yayılmış."
   ]
  },
  {
   "cell_type": "markdown",
   "id": "b3160053",
   "metadata": {},
   "source": [
    "## 🧭 Varyans ve Standart Sapma Arasındaki Bağ\n",
    "\n",
    "Varyans, standart sapmanın **karesidir.**\n",
    "\n",
    "$$\n",
    "\\text{Standart Sapma} = \\sqrt{\\text{Varyans}}\n",
    "$$\n",
    "\n",
    "Yani yukarıdaki örnekte:\n",
    "$$\n",
    "\\sigma = \\sqrt{125} \\approx 11.18\n",
    "$$\n",
    "\n",
    "📌 Varyans büyük rakamlar üretir ama anlaması zordur.  \n",
    "Standart sapma ise aynı birimdedir ve günlük analizlerde tercih edilir."
   ]
  },
  {
   "cell_type": "markdown",
   "id": "eabae669",
   "metadata": {},
   "source": []
  }
 ],
 "metadata": {
  "kernelspec": {
   "display_name": "base",
   "language": "python",
   "name": "python3"
  },
  "language_info": {
   "codemirror_mode": {
    "name": "ipython",
    "version": 3
   },
   "file_extension": ".py",
   "mimetype": "text/x-python",
   "name": "python",
   "nbconvert_exporter": "python",
   "pygments_lexer": "ipython3",
   "version": "3.12.9"
  }
 },
 "nbformat": 4,
 "nbformat_minor": 5
}
