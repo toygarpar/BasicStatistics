{
 "cells": [
  {
   "cell_type": "markdown",
   "id": "bd08e57d",
   "metadata": {},
   "source": [
    "# 📊 Değişkenler: Veri Biliminde Özelliklerin Adları\n",
    "\n",
    "## Giriş: Neden Her Şeye Değişken Diyoruz?\n",
    "\n",
    "Bir veri kümesine baktığınızda içinde “yaş”, “cinsiyet”, “maaş”, “memnuniyet skoru” gibi başlıklar görürsünüz. Bu başlıklar aslında **özelliklerdir** . Yani her gözlem birimi için farklı değerler alabilen unsurlardır.\n",
    "\n",
    "İşte tam da bu yüzden onlara **değişken** diyoruz.\n",
    "\n",
    "> “Veri biliminde her şey değişkendir. Çünkü veri, farklarla anlamlı olur.”\n",
    "\n",
    "\n",
    "\n",
    "Farklı değerler alabilen özelliklerdir"
   ]
  },
  {
   "cell_type": "markdown",
   "id": "5dc7afb7",
   "metadata": {},
   "source": [
    "## 🔍 Değişken Nedir?\n",
    "\n",
    "**Değişken** , incelenen her birimin farklı değerler alabilen özelliğidir. Gözlemden gözeime değişiklik gösteren her şey bir değişkendir.\n",
    "\n",
    "İstatistikte değişkenler, incelenen birimlerin farklı değerler alabilen özellikleridir. Örneğin, bir sınıftaki öğrencilerin yaşları, boyları, kiloları, cinsiyetleri, göz renkleri gibi özellikler birer değişkendir. Değişkenler, veri toplama, analiz etme ve yorumlama süreçlerinde temel bir rol oynar.\n",
    "\n",
    "### Örnek:\n",
    "\n",
    "Sınıftaki öğrencilerin:\n",
    "\n",
    "- Yaş → değişebilir\n",
    "- Boy → değişebilir\n",
    "- Cinsiyet → kategorik olarak değişir\n",
    "- Not ortalaması → değişebilir\n",
    "\n",
    "Bu tüm özellikler, veri analizinde **değişken** olarak tanımlanır."
   ]
  },
  {
   "cell_type": "markdown",
   "id": "e91785a3",
   "metadata": {},
   "source": [
    "## 🧠 Değişken Türleri: Üç Ana Başlıkta Anlamak\n",
    "\n",
    "Değişkenleri anlamak için üç açıdan bakabiliriz:\n",
    "\n",
    "|Açılar|Neyi Belirtir?|\n",
    "|---|---|\n",
    "|Yapısı|Nitel mi, nicel mi?|\n",
    "|Aldığı Değer|Sürekli mi, kesikli mi?|\n",
    "|Rolü|Bağımlı mı, bağımsız mı?|\n"
   ]
  },
  {
   "cell_type": "markdown",
   "id": "b6ae0b16",
   "metadata": {},
   "source": [
    "## 1️⃣ Yapısına Göre Değişkenler\n",
    "\n",
    "### 🟢 **Nitel (Kategorik) Değişkenler**\n",
    "\n",
    "Sayısal olmayan, kategori ya da sınıflarla ifade edilen değişkenlerdir.\n",
    "\n",
    "#### Örnekler:\n",
    "\n",
    "- Cinsiyet: Kadın / Erkek\n",
    "- Medeni Durum: Bekar / Evli / Boşanmış\n",
    "- Göz Rengi: Mavi / Kahverengi / Yeşil\n",
    "- Meslek: Doktor / mühendis / öğretmen\n",
    "\n",
    "📌 Bu değişkenler üzerinde toplama, çıkarma gibi matematiksel işlemler **yapılmaz** .\n",
    "\n",
    "---\n",
    "\n",
    "### 🔵 **Nicel (Sayısal) Değişkenler**\n",
    "\n",
    "Sayılarla ifade edilebilen ve üzerinde matematiksel işlem yapılabilen değişkenlerdir.\n",
    "\n",
    "#### Örnekler:\n",
    "\n",
    "- Yaş: 25, 30, 40\n",
    "- Maaş: 8000 TL, 12.500 TL\n",
    "- Sıcaklık: 25°C, 30°C\n",
    "- Satış Sayısı: 100 adet, 250 adet\n",
    "\n",
    "📌 Bu değişkenlerle ortalama, standart sapma gibi istatistiksel işlemler yapılabilir."
   ]
  },
  {
   "cell_type": "markdown",
   "id": "3ee11225",
   "metadata": {},
   "source": [
    "## 2️⃣ Aldığı Değere Göre Değişkenler\n",
    "\n",
    "### 🟡 **Sürekli Değişkenler**\n",
    "\n",
    "İki sayı arasında sonsuz değeri alabilen değişkenlerdir. Genellikle ölçümle elde edilir.\n",
    "\n",
    "#### Örnekler:\n",
    "\n",
    "- Boy: 1.75m, 1.76m, 1.755m…\n",
    "- Zaman: 1.5 saat, 1.55 saat\n",
    "- Sıcaklık: 25.3°C, 25.31°C\n",
    "\n",
    "📌 Gerçek hayatta sürekli olan birçok şey, veri dünyasında sürekli değişkenle temsil edilir.\n",
    "\n",
    "---\n",
    "\n",
    "### 🔴 **Kesikli (Süreksiz) Değişkenler**\n",
    "\n",
    "Yalnızca belirli noktalarda değer alabilen değişkenlerdir. Genellikle sayım ile elde edilir.\n",
    "\n",
    "#### Örnekler:\n",
    "\n",
    "- Bir odadaki kişi sayısı: 1, 2, 3\n",
    "- Araba sayısı: 0, 1, 2\n",
    "- Zar atışı sonucu: 1, 2, 3, 4, 5, 6\n",
    "\n",
    "📌 Bu değişkenler genellikle tam sayıdır; ondalık değeri yoktur."
   ]
  },
  {
   "cell_type": "markdown",
   "id": "565e88ee",
   "metadata": {},
   "source": [
    "## 3️⃣ Rolüne Göre Değişkenler\n",
    "\n",
    "Bu tür değişkenler, özellikle **istatistiksel modellerde** veya **makine öğrenmesi** algoritmalarında çok önemlidir. Çünkü burada ilişki kurulur.\n",
    "\n",
    "### 🎯 **Bağımlı Değişken (Y)**\n",
    "\n",
    "- Etkisi ölçülen, tahmin edilmek istenen değişkendir.\n",
    "- Sonuç değişkenidir.\n",
    "\n",
    "🔹 Örnek: Satış miktarı, öğrenci notu, müşteri memnuniyeti\n",
    "\n",
    "---\n",
    "\n",
    "### 🎮 **Bağımsız Değişken (X)**\n",
    "\n",
    "- Bağımlı değişken üzerinde etkisi olduğu varsayılan değişkendir.\n",
    "- Tahmin edici değişkendir.\n",
    "\n",
    "🔹 Örnek: Reklam harcaması, çalışma süresi, fiyat\n",
    "\n",
    "---\n",
    "\n",
    "### ⚖️ **Kontrol Değişkeni**\n",
    "\n",
    "- Araştırmacı tarafından sabit tutulan, modelde kontrol altına alınan değişkenlerdir.\n",
    "- Modelin daha doğru çalışması için kullanılır.\n",
    "\n",
    "🔹 Örnek: Öğrencinin zeka seviyesi, hava sıcaklığı, deney ortamı\n",
    "\n",
    "---\n",
    "\n",
    "### 💥 **Karıştırıcı Değişken (Müdahale Eden Değişken)**\n",
    "\n",
    "- Hem bağımsız hem de bağımlı değişkeni etkileyen ama doğrudan dikkate alınmayan değişkenlerdir.\n",
    "- Modelde unutulursa sonuçlar yanıltıcı olabilir.\n",
    "\n",
    "🔹 Örnek: Öğrencinin aldığı ek dersler, aile geliri, önceki başarı durumu"
   ]
  },
  {
   "cell_type": "markdown",
   "id": "9a07dbfe",
   "metadata": {},
   "source": [
    "## 📌 Örnek Senaryo: Ders Çalışma Süresi ve Sınav Başarısı\n",
    "\n",
    "Araştırma konusu:  \n",
    "**“Ders çalışma süresinin sınav başarısı üzerindeki etkisi nedir?”**\n",
    "\n",
    "|Değişken Türü|Değişken|Açıklama|\n",
    "|---|---|---|\n",
    "|Bağımlı Değişken|Sınav Başarısı|Ölçülmek istenen sonuç|\n",
    "|Bağımsız Değişken|Ders Çalışma Süresi|Etkisi araştırılan faktör|\n",
    "|Kontrol Değişkeni|Motivasyon Seviyesi|Sabit tutulmaya çalışılan özellik|\n",
    "|Karıştırıcı Değişken|Ek Ders Alma Durumu|Gölgede kalan etken|\n"
   ]
  },
  {
   "cell_type": "code",
   "execution_count": 2,
   "id": "10ad5a6d",
   "metadata": {},
   "outputs": [
    {
     "name": "stdout",
     "output_type": "stream",
     "text": [
      "       Ad Cinsiyet  Yas    Boy  Not_Ortalamasi  Ders_Calisma_Suresi\n",
      "0     Ali    Erkek   22  175.5              85                    4\n",
      "1    Ayşe    Kadın   23  163.2              90                    6\n",
      "2  Mehmet    Erkek   21  180.0              78                    3\n"
     ]
    }
   ],
   "source": [
    "# Python’da Değişkenleri Tanıma\n",
    "\n",
    "\n",
    "import pandas as pd\n",
    "\n",
    "# Basit bir öğrenci veri seti oluşturalım\n",
    "veri = {\n",
    "    \"Ad\": [\"Ali\", \"Ayşe\", \"Mehmet\"],\n",
    "    \"Cinsiyet\": [\"Erkek\", \"Kadın\", \"Erkek\"],         # Nitel - Kategorik\n",
    "    \"Yas\": [22, 23, 21],                             # Nicel - Kesikli\n",
    "    \"Boy\": [175.5, 163.2, 180.0],                    # Nicel - Sürekli\n",
    "    \"Not_Ortalamasi\": [85, 90, 78],                  # Nicel - Sürekli\n",
    "    \"Ders_Calisma_Suresi\": [4, 6, 3]                 # Nicel - Kesikli\n",
    "}\n",
    "\n",
    "df = pd.DataFrame(veri)\n",
    "print(df)\n",
    "\n",
    "\n",
    "# Bu tabloya baktığınızda her sütun bir değişkendir. Her satır ise bir gözlem birimidir (öğrenci)."
   ]
  },
  {
   "cell_type": "code",
   "execution_count": null,
   "id": "661c22ea",
   "metadata": {},
   "outputs": [],
   "source": []
  }
 ],
 "metadata": {
  "kernelspec": {
   "display_name": "base",
   "language": "python",
   "name": "python3"
  },
  "language_info": {
   "codemirror_mode": {
    "name": "ipython",
    "version": 3
   },
   "file_extension": ".py",
   "mimetype": "text/x-python",
   "name": "python",
   "nbconvert_exporter": "python",
   "pygments_lexer": "ipython3",
   "version": "3.12.9"
  }
 },
 "nbformat": 4,
 "nbformat_minor": 5
}
