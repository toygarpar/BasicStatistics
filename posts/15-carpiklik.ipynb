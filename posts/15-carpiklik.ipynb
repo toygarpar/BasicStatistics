{
 "cells": [
  {
   "cell_type": "markdown",
   "id": "fd530699",
   "metadata": {},
   "source": [
    "# 📊 Çarpıklık: Dağılımın Dengesizliği\n",
    "\n",
    "## Giriş: Veri Nereye Eğilir?\n",
    "\n",
    "Diyelim ki bir şirkette çalışanların maaşlarını inceledin. Ortalama 20.000 TL çıktı ama çoğu kişi 15.000 TL civarında alıyor, birkaç yönetici ise 100.000 TL alıyor.\n",
    "\n",
    "Bu durumda veri nasıl dağılmış? İşte tam burada devreye **çarpıklık** giriyor.\n",
    "\n",
    "> “Çarpıklık, verinin nereye doğru eğildiğini gösteren pusuladır.”  \n",
    "\n",
    "\n",
    "Dağılımın simetrisini gösterir."
   ]
  },
  {
   "cell_type": "markdown",
   "id": "cbeb5daa",
   "metadata": {},
   "source": [
    "## 🔍 Çarpıklık/Skewness Nedir?\n",
    "\n",
    "**Çarpıklık**, bir veri kümesindeki dağılımın simetrik olup olmadığını ölçen istatistiksel bir ölçüdür.\n",
    "\n",
    "Çarpıklık (İngilizce: skewness), bir veri kümesinin dağılımının simetrik olmama derecesini gösteren bir ölçüdür. Başka bir deyişle, verilerin ortalama etrafında nasıl toplandığını ve dağıldığını ifade eder. Normal bir dağılımda çarpıklık sıfırdır, yani veriler ortalama etrafında simetrik olarak dağılmıştır. Ancak, veriler simetrik değilse, dağılım çarpık olarak adlandırılır.\n",
    "\n",
    "- **Simetrik dağılım → Çarpıklık = 0**\n",
    "- **Sağa çarpık dağılım → Pozitif değer**\n",
    "- **Sola çarpık dağılım → Negatif değer**\n",
    "\n",
    "📌 Yani:  \n",
    "- Eğer veri bir yöne doğru daha çok uzuyorsa → o yöne çarpık demektir.\n",
    "\n",
    "Bir dağılımın normal olup olmadığını test etmek için çarpıklık ve yığılma testleri yapılır.\n",
    "\n",
    "Çarpıklık bir dağılımın simetrik olup olmadığını analiz eder.\n",
    "\n",
    "Sola çarpık dağılımlar - ortalama > ortanca > mod\n",
    "\n",
    "Sağa çarpık dağılımlar - mod > ortanca > ortalama"
   ]
  },
  {
   "cell_type": "markdown",
   "id": "c6cb3252",
   "metadata": {},
   "source": [
    "## 🧮 Çarpıklık Nasıl Hesaplanır?\n",
    "\n",
    "### En Basit Formül:\n",
    "$$\n",
    "\\text{Çarpıklık} = \\frac{3 \\times (\\text{Ortalama} - \\text{Medyan})}{\\text{Standart Sapma}}\n",
    "$$\n",
    "\n",
    "Bu formül, Pearson’un çarpıklık katsayısı olarak bilinir ve hızlı bir analiz için kullanılır."
   ]
  },
  {
   "cell_type": "markdown",
   "id": "f82f0396",
   "metadata": {},
   "source": [
    "## 💡 Gerçek Hayat Örnekleriyle Anlamak\n",
    "\n",
    "### 🏦 Örnek 1: Gelir Dağılımı (Sağa Çarpık)\n",
    "\n",
    "Maaşlar: `10.000, 12.000, 13.000, 14.000, 15.000, 16.000, 100.000`\n",
    "\n",
    "- Ortalama ≈ 24.285 TL\n",
    "- Medyan = 14.000 TL\n",
    "- Standart sapma = yüksek\n",
    "\n",
    "👉 Ortalama > Medyan → Sağa çarpık  \n",
    "👉 Kuyruk sağa uzanıyor  \n",
    "👉 Az sayıda yüksek gelirli, ortalamayı yukarı çekiyor\n",
    "\n",
    "✅ Bu tür dağılımlara **sağa çarpık (pozitif)** denir."
   ]
  },
  {
   "cell_type": "markdown",
   "id": "736b9140",
   "metadata": {},
   "source": [
    "### 🎯 Örnek 2: Sınav Notları (Negatif/Sola Çarpık)\n",
    "\n",
    "Notlar: `70, 80, 85, 90, 95, 95, 98`\n",
    "\n",
    "- Ortalama = 89\n",
    "- Medyan = 90\n",
    "- Standart sapma = düşük\n",
    "\n",
    "👉 Ortalama < Medyan → Sola çarpık  \n",
    "👉 Yüksek notlarda toplanma var  \n",
    "👉 Düşük notlar ortalamayı aşağı çekiyor\n",
    "\n",
    "✅ Bu tür dağılımlara **sola çarpık (negatif)** denir.\n"
   ]
  },
  {
   "cell_type": "markdown",
   "id": "950361a1",
   "metadata": {},
   "source": [
    "## 📈 Çarpıklığın Türleri\n",
    "\n",
    "| Tür | Açıklama | Ortalama - Medyan İlişkisi |\n",
    "|-----|----------|-----------------------------|\n",
    "| **Sağa Çarpık (Pozitif)** | Uzun sağ kuyruk var | Ortalama > Medyan |\n",
    "| **Simetrik (Normal)** | Dengeli dağılım | Ortalama ≈ Medyan |\n",
    "| **Sola Çarpık (Negatif)** | Uzun sol kuyruk var | Ortalama < Medyan |\n",
    "\n",
    "📌 Görselde şöyle düşün:\n",
    "\n",
    "```\n",
    "Sağa Çarpık: ← Küçük değerler sıkışmış, büyük değerler uzamış\n",
    "Simetrik:   ⇆ Her iki taraf eşit\n",
    "Sola Çarpık: → Büyük değerler sıkışmış, küçük değerler uzamış\n",
    "```\n"
   ]
  },
  {
   "cell_type": "markdown",
   "id": "da8735a2",
   "metadata": {},
   "source": [
    "## 📊 Çarpıklık Değerleri Ne Anlama Gelir?\n",
    "\n",
    "| Aralık | Anlamı |\n",
    "|--------|---------|\n",
    "| **|Çarpıklık| < 0.5** | Yaklaşık simetrik |\n",
    "| **0.5 ≤ |Çarpıklık| < 1** | Orta düzeyde çarpık |\n",
    "| **|Çarpıklık| ≥ 1** | Güçlü çarpıklık |\n",
    "\n",
    "📌 Bu değerler bize dağılımın ne kadar dengesiz olduğunu söyler."
   ]
  },
  {
   "cell_type": "markdown",
   "id": "74377e0f",
   "metadata": {},
   "source": [
    "## 📌 Nerelerde Kullanılır?\n",
    "\n",
    "| Alan | Kullanım Yeri |\n",
    "|------|----------------|\n",
    "| **Finans** | Hisse senedi getirilerinin dağılımı |\n",
    "| **Ekonomi** | Gelir ve servet dağılımı |\n",
    "| **Eğitim** | Sınav notlarının dağılımı |\n",
    "| **Pazarlama** | Müşteri harcamalarının dağılımı |\n",
    "| **Biyoloji** | Canlı boyutlarının dağılımı |\n"
   ]
  },
  {
   "cell_type": "code",
   "execution_count": 1,
   "id": "9471bca0",
   "metadata": {},
   "outputs": [
    {
     "name": "stdout",
     "output_type": "stream",
     "text": [
      "Dağılımın çarpıklığı: 2.03\n"
     ]
    }
   ],
   "source": [
    "# Python Uygulaması: Çarpıklığı Hesaplayalım\n",
    "\n",
    "import numpy as np\n",
    "from scipy.stats import skew\n",
    "\n",
    "veri = [10_000, 12_000, 13_000, 14_000, 15_000, 16_000, 100_000]\n",
    "\n",
    "carpiklik = skew(veri)\n",
    "print(f\"Dağılımın çarpıklığı: {carpiklik:.2f}\")\n"
   ]
  },
  {
   "cell_type": "code",
   "execution_count": 3,
   "id": "cc8e481f",
   "metadata": {},
   "outputs": [
    {
     "name": "stdout",
     "output_type": "stream",
     "text": [
      "Pearson çarpıklığı: 1.16\n"
     ]
    }
   ],
   "source": [
    "# Alternatif olarak manuel hesaplama yapalım:\n",
    "\n",
    "\n",
    "ortalama = np.mean(veri)\n",
    "medyan = np.median(veri)\n",
    "std = np.std(veri)\n",
    "\n",
    "carpiklik_manuel = 3 * (ortalama - medyan) / std\n",
    "print(f\"Pearson çarpıklığı: {carpiklik_manuel:.2f}\")"
   ]
  },
  {
   "cell_type": "markdown",
   "id": "31deb379",
   "metadata": {},
   "source": [
    "## 📉 Simetriyi Görselleştirme: Histogram ile\n",
    "\n",
    "Python’da `matplotlib` ile histogram çizerek dağılımın şekli görülebilir:"
   ]
  },
  {
   "cell_type": "code",
   "execution_count": 4,
   "id": "0ba842bf",
   "metadata": {},
   "outputs": [
    {
     "data": {
      "image/png": "[encoded data removed]",
      "text/plain": [
       "<Figure size 640x480 with 1 Axes>"
      ]
     },
     "metadata": {},
     "output_type": "display_data"
    }
   ],
   "source": [
    "import matplotlib.pyplot as plt\n",
    "\n",
    "plt.hist(veri, bins=10, color='skyblue', edgecolor='black')\n",
    "plt.title(\"Gelir Dağılımı\")\n",
    "plt.xlabel(\"Maaş\")\n",
    "plt.ylabel(\"Frekans\")\n",
    "plt.show()"
   ]
  },
  {
   "cell_type": "markdown",
   "id": "5d568d20",
   "metadata": {},
   "source": [
    "📌 Histogramda uzayan kuyruğa göre yönü belirleyebilirsin.\n"
   ]
  },
  {
   "cell_type": "markdown",
   "id": "5be4e898",
   "metadata": {},
   "source": [
    "## 📝 Mod-Medyan-Ortalama Arasındaki İlişki\n",
    "\n",
    "| Dağılım Türü | Mod | Medyan | Ortalama | Grafiği |\n",
    "|---------------|-----|--------|----------|---------|\n",
    "| **Sağa Çarpık** | En küçük | Orta | En büyük | Uzayan sağ kuyruk |\n",
    "| **Simetrik** | Eşit | Eşit | Eşit | Dengeli çan eğrisi |\n",
    "| **Sola Çarpık** | En büyük | Orta | En küçük | Uzayan sol kuyruk |\n",
    "\n",
    "📌 Bu ilişki, merkezi eğilim ölçüleriyle dağılım hakkında fikir edinmek için güçlü bir araçtır.\n",
    "\n",
    "\n",
    "\n",
    "“Çarpıklık, veri dünyasında dengenin nerde kaydığını gösteren en net işaretlerden biridir.”\n"
   ]
  },
  {
   "cell_type": "markdown",
   "id": "4ad77f18",
   "metadata": {},
   "source": []
  }
 ],
 "metadata": {
  "kernelspec": {
   "display_name": "base",
   "language": "python",
   "name": "python3"
  },
  "language_info": {
   "codemirror_mode": {
    "name": "ipython",
    "version": 3
   },
   "file_extension": ".py",
   "mimetype": "text/x-python",
   "name": "python",
   "nbconvert_exporter": "python",
   "pygments_lexer": "ipython3",
   "version": "3.12.9"
  }
 },
 "nbformat": 4,
 "nbformat_minor": 5
}
