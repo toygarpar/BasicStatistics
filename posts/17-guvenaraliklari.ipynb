{
 "cells": [
  {
   "cell_type": "markdown",
   "id": "2a92bd52",
   "metadata": {},
   "source": [
    "# 🎯 Güven Aralığı: Ana Kütledeki Gerçek Sayının Gölgelendiği Alan\n",
    "\n",
    "## Giriş: Gerçek Sayıyı Biliyor musun?\n",
    "\n",
    "Diyelim ki Türkiye'deki yetişkinlerin ortalama boyunu öğrenmek istiyorsun. Tüm nüfusa ulaşmak imkânsız ama 100 kişilik bir örneklem alabildin. Bu örneklemden elde ettiğin ortalama 175 cm çıktı. Peki bu ortalama, gerçek ortalama ile ne kadar yakın? İşte burada devreye **güven aralığı** giriyor.\n",
    "\n",
    "\n",
    "Ana kütle parametresinin muhtemel olduğu aralıktır."
   ]
  },
  {
   "cell_type": "markdown",
   "id": "93b0c904",
   "metadata": {},
   "source": [
    "## 🔍 Güven Aralığı Nedir?\n",
    "\n",
    "**Güven aralığı**, bir anakütle parametresinin (örneğin ortalaması) gerçek değerini belirli bir **güven düzeyinde** kapsayan bir aralıktır.\n",
    "\n",
    "Bir ana kütle parametresinin gerçek değerini analiz edebilmek, tahmin edebilmek için kullanılan değerler aralığına denir.\n",
    "\n",
    "\n",
    "Güven aralığı, istatistikte bir anakütle parametresinin (örneğin, ortalama, oran) gerçek değerini belirli bir güven düzeyinde tahmin etmek için kullanılan bir aralıktır. Başka bir deyişle, bir örneklemden elde edilen verilere dayanarak, anakütle parametresinin muhtemelen hangi değerler arasında olduğunu gösteren bir kestirimdir.\n",
    "\n",
    "- Tek bir sayı değil, bir **değer aralığıdır**\n",
    "- Bu aralık, örneklem verisinden hesaplanır\n",
    "- Belirli bir **güven düzeyine sahiptir**: %90, %95, %99 gibi\n",
    "\n",
    "📌 Özetle:\n",
    "> “Gerçek rakamı bilemeyiz ama ona %95 ihtimalle hangi aralıkta olduğunu tahmin edebiliriz.”\n",
    "\n",
    "\n",
    "\n",
    "**Güven Aralığının Anlamı ve Yorumlanması:**\n",
    "\n",
    "Güven aralığı, bir nokta kestirimi (tek bir değer) yerine bir aralık kestirimi sunar. Bu aralık, belirli bir güven düzeyinde anakütle parametresinin gerçek değerini içerir. Güven düzeyi genellikle yüzde olarak ifade edilir (%90, %95, %99 gibi).\n",
    "\n",
    "Örneğin, %95 güven aralığı (100, 120) ise, bu şu anlama gelir: Eğer aynı anakütleden tekrar tekrar örneklemler alsak ve her bir örneklem için %95 güven aralığı hesaplasak, bu aralıkların %95'i anakütle parametresinin gerçek değerini içerir. Yani, anakütle parametresinin gerçek değerinin 100 ile 120 arasında olduğuna %95 oranında güveniriz.\n"
   ]
  },
  {
   "cell_type": "markdown",
   "id": "9ecedfc9",
   "metadata": {},
   "source": [
    "## 💡 Gerçek Hayat Örneğiyle Anlamak\n",
    "\n",
    "### 📏 Yetişkin Boyu Tahmini:\n",
    "\n",
    "Bir araştırmacı, 100 kişiye baktığında ortalama boyun 175 cm olduğunu görüyor. Standart sapma da 10 cm.\n",
    "\n",
    "%95 güven düzeyinde güven aralığı şu şekilde hesaplanır:\n",
    "\n",
    "$$\n",
    "\\bar{x} \\pm z * \\left( \\frac{s}{\\sqrt{n}} \\right)\n",
    "$$\n",
    "\n",
    "→ 175 ± 1.96 × (10 / √100)  \n",
    "→ 175 ± 1.96  \n",
    "→ **(173.04 cm, 176.96 cm)**\n",
    "\n",
    "✅ Yorum:  \n",
    "“Türkiye’deki yetişkinlerin ortalama boyunun **173 ile 177 cm arasında** olma ihtimali **%95’tir.**”"
   ]
  },
  {
   "cell_type": "markdown",
   "id": "6cc255c6",
   "metadata": {},
   "source": [
    "## 🧮 Güven Aralığı Nasıl Hesaplanır?\n",
    "\n",
    "İki farklı durum var:\n",
    "\n",
    "### 1. **Büyük Örneklem (n ≥ 30): Z Dağılımı Kullanılır**\n",
    "\n",
    "Formül:\n",
    "$$\n",
    "\\bar{x} \\pm z * \\left( \\frac{\\sigma}{\\sqrt{n}} \\right)\n",
    "$$\n",
    "\n",
    "- $\\bar{x}$: Örneklem ortalaması\n",
    "- $z$: Güven düzeyine göre seçilen z-skoru (örneğin: %95 → 1.96)\n",
    "- $\\sigma$: Ana kütle standart sapması (bilinmiyorsa örneklem kullanılır)\n",
    "- $n$: Örneklem büyüklüğü"
   ]
  },
  {
   "cell_type": "markdown",
   "id": "0930e039",
   "metadata": {},
   "source": [
    "### 2. **Küçük Örneklem (n < 30): t Dağılımı Kullanılır**\n",
    "\n",
    "Formül:\n",
    "$$\n",
    "\\bar{x} \\pm t * \\left( \\frac{s}{\\sqrt{n}} \\right)\n",
    "$$\n",
    "\n",
    "- $t$: Serbestlik derecesine bağlı olarak bulunan t-değeri\n",
    "- $s$: Örneklem standart sapması\n",
    "\n",
    "📌 Küçük örneklemde daha geniş bir aralık beklenir çünkü belirsizlik fazladır."
   ]
  },
  {
   "cell_type": "markdown",
   "id": "75852885",
   "metadata": {},
   "source": [
    "## 📊 Güven Düzeyleri ve Z-Skorları\n",
    "\n",
    "| Güven Düzeyi | Z-Skoru |\n",
    "|---------------|----------|\n",
    "| %90           | 1.645    |\n",
    "| %95           | 1.96     |\n",
    "| %99           | 2.576    |\n",
    "\n"
   ]
  },
  {
   "cell_type": "markdown",
   "id": "5df804a9",
   "metadata": {},
   "source": [
    "## 📈 Güven Aralığını Etkileyen Faktörler\n",
    "\n",
    "| Faktör | Etkisi |\n",
    "|--------|--------|\n",
    "| ✅ Örneklem Büyüklüğü Artarsa | Güven aralığı daralır → daha kesin sonuç |\n",
    "| ⬆️ Güven Düzeyi Artarsa | Güven aralığı genişler → daha emin ama daha geniş |\n",
    "| ⚠️ Standart Sapma Artarsa | Veri yayıldıkça aralık genişler |\n",
    "\n",
    "Örneklem büyüklüğü arttıkça, güven aralığı daralır. Çünkü daha büyük bir örneklem, anakütle hakkında daha fazla bilgi sağlar ve daha kesin bir kestirim yapmamızı mümkün kılar."
   ]
  },
  {
   "cell_type": "markdown",
   "id": "545aaf1a",
   "metadata": {},
   "source": [
    "## 📌 Güven Aralığı Yorumlamada Dikkat Edilecekler\n",
    "\n",
    "- ❌ “Ortalama %95 ihtimalle 175 cm” demek yanlış.\n",
    "- ✅ “Ortalama %95 ihtimalle 173.04 - 176.96 cm aralığında” demek doğru.\n",
    "\n",
    "📌 Güven aralığı, **olasılık değil, güven seviyesidir.**  \n",
    "Yani %95 güven aralığı, \"gerçek değerin %95 oranla orada olacağını\" değil,  \n",
    "“Eğer aynı deneyi tekrar tekrar yaparsak, bu aralıkların %95’inin gerçek değeri içereceğini” ifade eder."
   ]
  },
  {
   "cell_type": "markdown",
   "id": "cd804c83",
   "metadata": {},
   "source": [
    "## 📊 Güven Aralığı Türleri\n",
    "\n",
    "| Tür | Açıklama |\n",
    "|-----|----------|\n",
    "| **Ortalama için güven aralığı** | Örneklem ortalamasına dayalı |\n",
    "| **Oran için güven aralığı** | p̂ = başarı oranı |\n",
    "| **Farklar için güven aralığı** | İki grup karşılaştırmasında kullanılır |\n"
   ]
  },
  {
   "cell_type": "markdown",
   "id": "fdfc321b",
   "metadata": {},
   "source": [
    "## 📐 Oran İçin Güven Aralığı Formülü\n",
    "\n",
    "$$\n",
    "\\hat{p} \\pm z * \\sqrt{\\frac{\\hat{p}(1 - \\hat{p})}{n}}\n",
    "$$\n",
    "\n",
    "Örnek:  \n",
    "Anket sonucunda 100 kişiden 60'ı memnun → p̂ = 0.60  \n",
    "%95 güven düzeyi → z = 1.96  \n",
    "\n",
    "$$\n",
    "0.60 \\pm 1.96 * \\sqrt{\\frac{0.60*(1-0.60)}{100}} = 0.60 \\pm 0.096 → (0.504, 0.696)\n",
    "$$\n",
    "\n",
    "✅ “Memnuniyet oranı %95 güvenle %50 ile %70 arasında değişiyor.”\n"
   ]
  },
  {
   "cell_type": "code",
   "execution_count": 1,
   "id": "a23d8176",
   "metadata": {},
   "outputs": [
    {
     "name": "stdout",
     "output_type": "stream",
     "text": [
      "95% Güven Aralığı: (173.04, 176.96)\n"
     ]
    }
   ],
   "source": [
    "# Python Uygulaması: Güven Aralığı Hesaplayalım\n",
    "\n",
    "import numpy as np\n",
    "from scipy.stats import norm, t\n",
    "\n",
    "# Bilgiler\n",
    "x_bar = 175       # Ortalama\n",
    "s = 10            # Standart sapma\n",
    "n = 100           # Örneklem sayısı\n",
    "conf_level = 0.95 # Güven düzeyi\n",
    "\n",
    "# Z skoru alma\n",
    "z = norm.ppf((1 + conf_level) / 2)\n",
    "\n",
    "# Güven aralığı hesaplama\n",
    "se = s / np.sqrt(n)\n",
    "lower_bound = x_bar - z * se\n",
    "upper_bound = x_bar + z * se\n",
    "\n",
    "print(f\"{conf_level*100:.0f}% Güven Aralığı: ({lower_bound:.2f}, {upper_bound:.2f})\")\n",
    "\n",
    "\n",
    "\n",
    "# * `scipy` içindeki `t` dağılımı küçük örneklem için kullanılabilir."
   ]
  },
  {
   "cell_type": "markdown",
   "id": "0469494c",
   "metadata": {},
   "source": [
    "## 📉 Güven Aralığı ile Hipotez Testi Arasındaki İlişki\n",
    "\n",
    "Güven aralığı, hipotez testleriyle doğrudan ilişkilidir.\n",
    "\n",
    "- Eğer güven aralığı sıfırı içeriyorsa → fark anlamlı değildir\n",
    "- Eğer güven aralığı sıfırı kapsamıyorsa → fark anlamlıdır\n",
    "\n",
    "📌 Güven aralığı, hipotez testinin görselleştirilmiş halidir."
   ]
  },
  {
   "cell_type": "markdown",
   "id": "d7f97ef1",
   "metadata": {},
   "source": [
    "## 📌 Nerelerde Kullanılır?\n",
    "\n",
    "| Alan | Kullanım Yeri |\n",
    "|------|----------------|\n",
    "| **Tıp** | Bir ilacın etki düzeyi |\n",
    "| **Pazarlama** | Müşteri memnuniyeti tahmini |\n",
    "| **Siyaset** | Seçim anketleri |\n",
    "| **Mühendislik** | Ürün tolerans sınırları |\n",
    "| **Sosyal Bilimler** | Davranışsal eğilimler |\n"
   ]
  },
  {
   "cell_type": "code",
   "execution_count": null,
   "id": "390507e0",
   "metadata": {},
   "outputs": [],
   "source": []
  }
 ],
 "metadata": {
  "kernelspec": {
   "display_name": "base",
   "language": "python",
   "name": "python3"
  },
  "language_info": {
   "codemirror_mode": {
    "name": "ipython",
    "version": 3
   },
   "file_extension": ".py",
   "mimetype": "text/x-python",
   "name": "python",
   "nbconvert_exporter": "python",
   "pygments_lexer": "ipython3",
   "version": "3.12.9"
  }
 },
 "nbformat": 4,
 "nbformat_minor": 5
}
