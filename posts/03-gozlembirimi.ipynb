{
 "cells": [
  {
   "cell_type": "markdown",
   "id": "5705693f",
   "metadata": {},
   "source": [
    "# 🧐 Gözlem Birimi: Verinin Kaynağı\n",
    "\n",
    "## Giriş: Kimi İnceliyoruz, Neyle Çalışıyoruz?\n",
    "\n",
    "Bir araştırma yapacaksın. Belki müşteri memnuniyetini ölçmek istiyorsun, belki öğrencilerin başarı düzeyini analiz etmek istiyorsun. İşte bu süreçte **kimleri veya neleri incelediğini** gösteren en temel yapı taşına **gözlem birimi** denir.\n",
    "\n",
    "> “Veri biliminde ilk sorulması gereken soru: ‘Ne üzerine çalışıyoruz?’  \n",
    "> Cevap, gözlem birimidir.”\n",
    "\n",
    "\n",
    "### Üzerinde ölçümlerin yapıldığı temel varlık."
   ]
  },
  {
   "cell_type": "markdown",
   "id": "344c9f78",
   "metadata": {},
   "source": [
    "## 🔍 Gözlem Birimi Nedir?\n",
    "\n",
    "**Gözlem birimi** , araştırmanın kapsamında yer alan ve üzerinde ölçümler yapılan **bireysel varlıklardır** . Başka bir deyişle:\n",
    "\n",
    "> **İncelenen şey.**\n",
    "\n",
    "Bu şey bir kişi olabilir, bir ev olabilir, bir hayvan ya da bir ürün bile olabilir. Önemli olan, hangi birimin verilerini topladığın ve analiz yaptığın."
   ]
  },
  {
   "cell_type": "markdown",
   "id": "1db62c7c",
   "metadata": {},
   "source": [
    "### 💡 Örneklerle Gözlem Birimi\n",
    "\n",
    "|Araştırmanın Konusu|Gözlem Birimi|\n",
    "|---|---|\n",
    "|Üniversite öğrencilerinin ders başarısı|Öğrenci|\n",
    "|Türkiye'de satılan cep telefonları|Telefon modeli|\n",
    "|Şehirde yaşayan ailelerin elektrik tüketimi|Aile|\n",
    "|Hastanede tedavi gören hastalar|Hasta|\n",
    "|E-ticaret sitesindeki kullanıcı davranışları|Kullanıcı|\n",
    "\n"
   ]
  },
  {
   "cell_type": "markdown",
   "id": "096641c0",
   "metadata": {},
   "source": [
    "## 📊 Ana Kütle ve Örneklem Bağlamında Gözlem Birimi\n",
    "\n",
    "Gözlem birimi, hem **ana kütle** hem de **örneklem** için geçerlidir.\n",
    "\n",
    "|Terim|Sembol|Açıklama|\n",
    "|---|---|---|\n",
    "|**Ana kütle gözlem sayısı**|**N**|Tüm hedef kitlenin sayısı|\n",
    "|**Örneklem gözlem sayısı**|**n**|Ana kütleden seçilen örneklem miktarı|\n"
   ]
  },
  {
   "cell_type": "markdown",
   "id": "0f52f451",
   "metadata": {},
   "source": [
    "### 🎯 Örnek:\n",
    "\n",
    "Diyelim ki Türkiye genelinde 18-65 yaş arası bireylerin dijital alışveriş alışkanlıklarını incelemek istiyorsun.\n",
    "\n",
    "- **Ana kütle:** Türkiye’deki tüm 18-65 yaş arası bireyler → N = 40 milyon\n",
    "- **Gözlem birimi:** Birey\n",
    "- **Örneklem:** Seçilen 2.000 kişi → n = 2.000\n",
    "\n",
    "---\n",
    "\n",
    "## 🧠 Gözlem Birimi ile Karıştırılmaması Gerekenler\n",
    "\n",
    "### ❌ \"Değişken\" ile karıştırma!\n",
    "\n",
    "- Değişken, gözlem birimi üzerinde ölçülen özelliktir.\n",
    "- Gözlem birimi ise o özelliği taşıyan varlıktır.\n",
    "\n",
    "#### Örnek:\n",
    "\n",
    "Eğer öğrenciye anket uygulanıyorsa:\n",
    "\n",
    "- **Gözlem birimi:** Öğrenci\n",
    "- **Değişkenler:** Yaş, cinsiyet, not ortalaması…"
   ]
  },
  {
   "cell_type": "code",
   "execution_count": 1,
   "id": "89e511d7",
   "metadata": {},
   "outputs": [
    {
     "name": "stdout",
     "output_type": "stream",
     "text": [
      "     isim  yas   maas\n",
      "0     Ali   25   8000\n",
      "1    Ayşe   30   9500\n",
      "2  Mehmet   28  11000\n"
     ]
    }
   ],
   "source": [
    "# Pratik Bilgi: Pandas ile Gözlem Birimi\n",
    "\n",
    "# Python ve pandas kullanarak veri analizi yaparken, her satır genellikle bir gözlem birimini temsil eder.\n",
    "\n",
    "import pandas as pd\n",
    "\n",
    "veri = {\n",
    "    \"isim\": [\"Ali\", \"Ayşe\", \"Mehmet\"],\n",
    "    \"yas\": [25, 30, 28],\n",
    "    \"maas\": [8000, 9500, 11000]\n",
    "}\n",
    "\n",
    "df = pd.DataFrame(veri)\n",
    "print(df)\n"
   ]
  },
  {
   "cell_type": "markdown",
   "id": "b1aedf87",
   "metadata": {},
   "source": [
    "- Burada her satır bir **gözlem birimi** : **Kişi**\n",
    "- Her sütun ise bir **değişken** : isim, yaş, maaş\n",
    "\n",
    "Gözlem birimi, senin veri alemindeki küçük dünyandır. Üzerinde yaşadığın, incelediğin, ölçtüğün her şey onun içindir. O olmadan veri yoktur, analiz yoktur, bilgi yoktur.\n",
    "\n",
    "Veri biliminde önce ‘kimle/neyle çalıştığınızı’ iyi bilmelisiniz. Çünkü aynı veri, farklı gözlem birimiyle tamamen farklı sonuçlar verebilir."
   ]
  },
  {
   "cell_type": "markdown",
   "id": "855fe85b",
   "metadata": {},
   "source": []
  }
 ],
 "metadata": {
  "kernelspec": {
   "display_name": "base",
   "language": "python",
   "name": "python3"
  },
  "language_info": {
   "codemirror_mode": {
    "name": "ipython",
    "version": 3
   },
   "file_extension": ".py",
   "mimetype": "text/x-python",
   "name": "python",
   "nbconvert_exporter": "python",
   "pygments_lexer": "ipython3",
   "version": "3.12.9"
  }
 },
 "nbformat": 4,
 "nbformat_minor": 5
}
