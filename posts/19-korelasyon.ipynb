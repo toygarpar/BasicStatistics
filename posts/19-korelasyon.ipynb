{
 "cells": [
  {
   "cell_type": "markdown",
   "id": "5352a5f8",
   "metadata": {},
   "source": [
    "\n",
    "# 📈 Korelasyon: İki Şeyin Birlikte Hareket Edebilme Gücü\n",
    "\n",
    "## Giriş: Birlikte Gider mi?\n",
    "\n",
    "Diyelim ki bir öğrencinin derse devam etme sayısı arttıkça notları da yükseliyor. Ya da fiyat artışıyla satışlar düşüyor. Bu tür ilişkiler var mı? Eğer varsa ne kadar güçlü?\n",
    "\n",
    "İşte tam burada devreye **korelasyon** giriyor.\n",
    "\n",
    "> “İki değişken arasındaki ilişkiyi gösterir.”  \n",
    "\n",
    "\n",
    "\n",
    "\n",
    "\n",
    "\n",
    "\n",
    "Korelasyon tanımsal olarak istatistikte iki veya daha fazla değişkenin arasındaki doğrusal ilişkinin yönünü ve gücünü ifade eder.\n",
    "\n",
    "Bir değişkenin iki veya daha çok değişken ile olan ilişkisi çoklu korelasyon adını alır. \n",
    "\n",
    "Değişkenlerinden birinin sabitlenerek diğer değişkenler ile olan ilişkisi ise kısmi korelasyon adını alır.\n"
   ]
  },
  {
   "cell_type": "markdown",
   "id": "fa40412b",
   "metadata": {},
   "source": [
    "## 🔍 Korelasyon Nedir?\n",
    "\n",
    "**Korelasyon**, iki değişken arasındaki **ilişkinin yönünü ve gücünü** ölçen istatistiksel bir ölçüdür.\n",
    "\n",
    "- Bir değişken artarken diğer değişken nasıl davranıyor?\n",
    "- Aynı yönde mi? Ters yönde mi? Yoksa hiç mi etkilemiyor?\n",
    "\n",
    "📌 Korelasyon **neden-sonuç ilişkisi değildir**, ama **ilişkiyi gösterir.**\n",
    "\n",
    "\n",
    "Korelasyon, iki veya daha fazla değişken arasındaki ilişkinin yönünü ve gücünü ölçen bir istatistiksel terimdir. Basitçe söylemek gerekirse, iki şeyin birlikte ne kadar iyi hareket ettiğini gösterir. Bir değişken değiştiğinde diğerinin nasıl değiştiğini anlamamıza yardımcı olur.\n",
    "\n",
    "\n",
    "Bir değişkenin iki veya daha çok değişken ile olan ilişkisi çoklu korelasyon adını alır. \n",
    "\n",
    "Değişkenlerinden birinin sabitlenerek diğer değişkenler ile olan ilişkisi ise kısmi korelasyon adını alır.\n",
    "\n",
    "Korelasyon sayısı \"r\" ile gösterilir."
   ]
  },
  {
   "cell_type": "markdown",
   "id": "6db26040",
   "metadata": {},
   "source": [
    "## 🧮 Korelasyon Katsayısı (r) Ne Anlama Gelir?\n",
    "\n",
    "Korelasyon katsayısı **-1 ile +1 arasında** değer alır:\n",
    "\n",
    "| Değer Aralığı | Yorum |\n",
    "|----------------|--------|\n",
    "| **+1** | Mükemmel pozitif ilişki → her zaman aynı yönde hareket ederler |\n",
    "| **0** | İlişki yok → biri değişirken diğeri öylece durur |\n",
    "| **-1** | Mükemmel negatif ilişki → ters yönde hareket ederler |\n",
    "\n",
    "📌 Özetle:\n",
    "- **Yakın 1 veya -1 → Güçlü ilişki**\n",
    "- **Sıfıra yakın → Zayıf veya hiç ilişki yok**"
   ]
  },
  {
   "cell_type": "markdown",
   "id": "7d25f389",
   "metadata": {},
   "source": [
    "## 💡 Gerçek Hayat Örnekleriyle Anlamak\n",
    "\n",
    "### 🎯 Örnek 1: Ders Devamı ve Notlar\n",
    "\n",
    "Bir öğrenci derslere daha çok katılırsa sınavda daha yüksek not alır mı?\n",
    "\n",
    "- **Devam Oranı:** %60, %70, %85, %90\n",
    "- **Not Ortalaması:** 60, 65, 80, 85\n",
    "\n",
    "👉 Burada pozitif korelasyon var.  \n",
    "Bir şey artarsa, diğeri de artıyor.\n"
   ]
  },
  {
   "cell_type": "markdown",
   "id": "d70bcb8b",
   "metadata": {},
   "source": [
    "### 🛒 Örnek 2: Fiyat ve Talep\n",
    "\n",
    "Bir ürünün fiyatı arttıkça, talep azalıyor mu?\n",
    "\n",
    "- **Fiyatlar:** 10 TL, 20 TL, 30 TL, 40 TL\n",
    "- **Satış Sayısı:** 100, 80, 60, 30\n",
    "\n",
    "👉 Negatif korelasyon var.  \n",
    "Fiyat arttıkça satışlar düşüyor."
   ]
  },
  {
   "cell_type": "markdown",
   "id": "0dd15140",
   "metadata": {},
   "source": [
    "### 👟 Örnek 3: Ayakkabı Numarası ve Zeka\n",
    "\n",
    "Ayakkabı numarası ile zeka puanı arasında bir ilişki var mı?\n",
    "\n",
    "- **Veriler farklı dağılıyor**, herkes aynı şekilde düşünmüyor.\n",
    "- Artış ya da azalış belirgin değil.\n",
    "\n",
    "👉 Korelasyon yok.  \n",
    "Biri artarken diğeri sabit kalıyor."
   ]
  },
  {
   "cell_type": "markdown",
   "id": "268f8764",
   "metadata": {},
   "source": [
    "## 📊 Korelasyonun Gücü Nasıl Yorumlanır?\n",
    "\n",
    "| Aralık | Güç Derecesi |\n",
    "|--------|---------------|\n",
    "| **±0.7 - ±1.0** | Güçlü ilişki |\n",
    "| **±0.5 - ±0.7** | Orta düzey ilişki |\n",
    "| **±0.3 - ±0.5** | Zayıf ilişki |\n",
    "| **< ±0.3** | Çok zayıf veya ilişki yok |\n",
    "\n",
    "📌 Korelasyon katsayısının mutlak değeri önemli.  \n",
    "Örneğin: **-0.8** → güçlü negatif ilişki  \n",
    "**+0.5** → orta pozitif ilişki"
   ]
  },
  {
   "cell_type": "markdown",
   "id": "d413bdc2",
   "metadata": {},
   "source": [
    "## 🧭 Korelasyonun Yönü Nedir?\n",
    "\n",
    "| Tür | Açıklama | Grafikte |\n",
    "|------|----------|-----------|\n",
    "| **Pozitif Korelasyon** | Her ikisi birden artar/azalır | ↗️ |\n",
    "| **Negatif Korelasyon** | Biri artarken diğeri azalır | ↘️ |\n",
    "| **Korelasyon Yok** | Hiçbir ilişki yok | ••• (Dağınık noktalar) |\n",
    "\n",
    "📌 Grafiği çizdiğinde bu yönleri görebilirsin."
   ]
  },
  {
   "cell_type": "markdown",
   "id": "01f743be",
   "metadata": {},
   "source": [
    "## 📉 Korelasyon vs Nedensellik\n",
    "\n",
    "> “Korelasyon nedensellik değildir. Sıcak hava hem dondurma satışlarını artırır, hem de boğulma vakalarını. Ama dondurma boğulmayı **yoktur.**”\n",
    "\n",
    "Bu yüzden:\n",
    "- Korelasyon bulabilirsin,\n",
    "- Ama onu **nedensel** olarak yorumlamadan önce **bağlantıya bakmalısın.**"
   ]
  },
  {
   "cell_type": "markdown",
   "id": "d889207c",
   "metadata": {},
   "source": [
    "## 📐 Korelasyon Nasıl Hesaplanır? (Pearson Formülü)\n",
    "\n",
    "$$\n",
    "r = \\frac{\\sum{(x_i - \\bar{x})(y_i - \\bar{y})}}{\\sqrt{\\sum{(x_i - \\bar{x})^2} \\cdot \\sum{(y_i - \\bar{y})^2}}}\n",
    "$$\n",
    "\n",
    "Burada:\n",
    "- $x_i$, $y_i$: Gözlem çiftleri\n",
    "- $\\bar{x}$, $\\bar{y}$: Ortalamalar\n",
    "- $r$: Korelasyon katsayısı\n",
    "\n",
    "📌 Python’da çok daha kolay hesaplanıyor 😊"
   ]
  },
  {
   "cell_type": "markdown",
   "id": "98177687",
   "metadata": {},
   "source": [
    "## 📌 Nerelerde Kullanılır?\n",
    "\n",
    "| Alan | Uygulama |\n",
    "|------|-----------|\n",
    "| **Finans** | Hisse senedi getirileri arasındaki bağlantı |\n",
    "| **Eğitim** | Derse katılım ile başarı arasındaki ilişki |\n",
    "| **Sağlık** | Sigara içme ile kanser riski arasındaki ilişki |\n",
    "| **Pazarlama** | Reklam harcaması ile satış miktarı |\n",
    "| **Ticaret** | Üretim maliyeti ile satış fiyatı arasındaki ilişki |\n"
   ]
  },
  {
   "cell_type": "code",
   "execution_count": 1,
   "id": "83f734a8",
   "metadata": {},
   "outputs": [
    {
     "name": "stdout",
     "output_type": "stream",
     "text": [
      "Korelasyon katsayısı: 0.99\n"
     ]
    }
   ],
   "source": [
    "# Python Uygulaması: Korelasyonu Hesaplayalım\n",
    "\n",
    "\n",
    "import numpy as np\n",
    "import pandas as pd\n",
    "\n",
    "# Veri seti oluşturalım\n",
    "devam_orani = [60, 70, 85, 90]\n",
    "not_ortalamasi = [60, 65, 80, 85]\n",
    "\n",
    "# Numpy ile korelasyon matrisi\n",
    "korelasyon = np.corrcoef(devam_orani, not_ortalamasi)[0, 1]\n",
    "print(f\"Korelasyon katsayısı: {korelasyon:.2f}\")\n"
   ]
  },
  {
   "cell_type": "code",
   "execution_count": 2,
   "id": "a7d6623d",
   "metadata": {},
   "outputs": [
    {
     "name": "stdout",
     "output_type": "stream",
     "text": [
      "          Devam       Not\n",
      "Devam  1.000000  0.991561\n",
      "Not    0.991561  1.000000\n"
     ]
    }
   ],
   "source": [
    "# alternatif - pandas ile:\n",
    "\n",
    "df = pd.DataFrame({'Devam': devam_orani, 'Not': not_ortalamasi})\n",
    "print(df.corr())"
   ]
  },
  {
   "cell_type": "code",
   "execution_count": 3,
   "id": "3e1bb626",
   "metadata": {},
   "outputs": [
    {
     "data": {
      "image/png": "[encoded data removed]",
      "text/plain": [
       "<Figure size 640x480 with 1 Axes>"
      ]
     },
     "metadata": {},
     "output_type": "display_data"
    }
   ],
   "source": [
    "# Görselleştirme: Scatter Plot ile İlişkiyi Görelim:\n",
    "\n",
    "import matplotlib.pyplot as plt\n",
    "\n",
    "plt.scatter(devam_orani, not_ortalamasi)\n",
    "plt.title(\"Devam Oranı vs Not Ortalaması\")\n",
    "plt.xlabel(\"Devam Oranı (%)\")\n",
    "plt.ylabel(\"Not Ortalaması\")\n",
    "plt.grid(True)\n",
    "plt.show()"
   ]
  },
  {
   "cell_type": "markdown",
   "id": "78f1183c",
   "metadata": {},
   "source": [
    "📌 Grafiğe baktığında noktalar yukarı doğru toplanıyorsa → pozitif korelasyon"
   ]
  },
  {
   "cell_type": "markdown",
   "id": "f074ab4f",
   "metadata": {},
   "source": [
    "## 📝 Korelasyon Türleri\n",
    "\n",
    "| Tür | Açıklama |\n",
    "|-----|----------|\n",
    "| **Pearson Korelasyonu** | Nicel veriler için doğrusal ilişki |\n",
    "| **Spearman Sıra Korelasyonu** | Sıralı veriler için (örneğin: sıralama, rütbe) |\n",
    "| **Kısmi Korelasyon** | Diğer değişkenler sabit tutularak iki değişken arası ilişki |\n",
    "| **Çoklu Korelasyon** | Birden fazla değişkenle olan ilişki |\n",
    "\n",
    "📌 Pearson en yaygın kullanılanıdır ama veriye göre seçim yapmak önemlidir."
   ]
  },
  {
   "cell_type": "markdown",
   "id": "c4b94816",
   "metadata": {},
   "source": [
    "## 🤔 Korelasyon Testi Yapılabilir mi?\n",
    "\n",
    "Evet! Korelasyon katsayısının anlamlılığını test edebiliriz."
   ]
  },
  {
   "cell_type": "code",
   "execution_count": 4,
   "id": "c46b337a",
   "metadata": {},
   "outputs": [
    {
     "name": "stdout",
     "output_type": "stream",
     "text": [
      "Pearson Korelasyonu: 0.99, p-değeri: 0.0084\n",
      "İlişki istatistiksel olarak anlamlı.\n"
     ]
    }
   ],
   "source": [
    "from scipy.stats import pearsonr\n",
    "\n",
    "r, p_degeri = pearsonr(devam_orani, not_ortalamasi)\n",
    "print(f\"Pearson Korelasyonu: {r:.2f}, p-değeri: {p_degeri:.4f}\")\n",
    "\n",
    "if p_degeri < 0.05:\n",
    "    print(\"İlişki istatistiksel olarak anlamlı.\")\n",
    "else:\n",
    "    print(\"İlişki istatistiksel olarak anlamsız.\")"
   ]
  },
  {
   "cell_type": "markdown",
   "id": "d6aa439d",
   "metadata": {},
   "source": [
    "📌 Korelasyon yüksek bile olsa, eğer p-değeri > 0.05 ise → anlamsız diyebiliriz.\n",
    "\n",
    "\n",
    "\n",
    "“Unutma;  Gerçek sebep-sonuç bağlantısı kurmadan, sadece sayısal ilişkinin üzerinden karar alma.”"
   ]
  },
  {
   "cell_type": "markdown",
   "id": "b8781310",
   "metadata": {},
   "source": []
  }
 ],
 "metadata": {
  "kernelspec": {
   "display_name": "base",
   "language": "python",
   "name": "python3"
  },
  "language_info": {
   "codemirror_mode": {
    "name": "ipython",
    "version": 3
   },
   "file_extension": ".py",
   "mimetype": "text/x-python",
   "name": "python",
   "nbconvert_exporter": "python",
   "pygments_lexer": "ipython3",
   "version": "3.12.9"
  }
 },
 "nbformat": 4,
 "nbformat_minor": 5
}
