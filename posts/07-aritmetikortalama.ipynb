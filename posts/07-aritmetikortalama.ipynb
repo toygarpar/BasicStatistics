{
 "cells": [
  {
   "cell_type": "markdown",
   "id": "db4234ef",
   "metadata": {},
   "source": [
    "# 📏 Aritmetik Ortalama – Dengenin Noktası\n",
    "\n",
    "## Giriş: Ortalama Nedir?\n",
    "\n",
    "Günlük hayatımızda sıkça duyduğumuz bir kelime: “Ortalama”.  \n",
    "“Sınıf ortalaması kaç?”  \n",
    "“Bu ayki gelirim ortalama ne kadar?”  \n",
    "“Maç başına attığı sayı ortalama kaç?”\n",
    "\n",
    "İşte tüm bu “ortalama”lar aslında genellikle **aritmetik ortalama** dır. Bu, veri kümesindeki tüm değerleri toplayıp kişi sayısına bölerek elde ettiğimiz bir ölçüdür.\n",
    "\n",
    "> “Aritmetik ortalama, verinin dengesini gösteren noktadır.”\n",
    "\n",
    "Merkezi eğilim ölçüsüdür."
   ]
  },
  {
   "cell_type": "markdown",
   "id": "7d268fb0",
   "metadata": {},
   "source": [
    "## 🔢 Aritmetik Ortalama Nedir?\n",
    "\n",
    "Aritmetik ortalama, bir veri grubundaki tüm sayıların toplamının, o gruptaki eleman sayısına bölümüyle bulunan değerdir.\n",
    "\n",
    "Üzerinde araştırma, inceleme, analiz yapılan veri setindeki elemanların tamamının toplamının eleman sayısına bölümüne aritmetik ortalama denir.\n",
    "\n",
    "Bir denge noktası olduğunu söyleyebiliriz.\n",
    "\n",
    "Aritmetik ortalama, bir veri kümesindeki tüm değerlerin toplamının, veri kümesindeki toplam değer sayısına bölünmesiyle elde edilen merkezi eğilim ölçüsüdür. \n",
    "Günlük hayatta \"ortalama\" denildiğinde genellikle aritmetik ortalama kastedilir.\n",
    "\n",
    "### Formülü:\n",
    "$$\n",
    "\\bar{x} = \\frac{x_1 + x_2 + x_3 + \\dots + x_n}{n}\n",
    "$$\n",
    "\n",
    "- $\\bar{x}$: Aritmetik ortalama\n",
    "- $x_1$ → ilk veri noktası\n",
    "- $x_n$ → son veri noktası\n",
    "- $n$ → toplam veri sayısı"
   ]
  },
  {
   "cell_type": "markdown",
   "id": "833bf477",
   "metadata": {},
   "source": [
    "## 💡 Örnek ile Anlamak\n",
    "\n",
    "### 🎯 Örnek 1: Sınıf Not Ortalaması\n",
    "\n",
    "Bir sınıfta 5 öğrencinin notları şu şekilde:\n",
    "\n",
    "```\n",
    "70, 80, 90, 60, 100\n",
    "```\n",
    "\n",
    "Toplam = 70 + 80 + 90 + 60 + 100 = **400**  \n",
    "Veri sayısı = **5**\n",
    "\n",
    "$$\n",
    "\\text{Ortalama} = \\frac{400}{5} = 80\n",
    "$$\n",
    "\n",
    "📌 Bu sınıfın not ortalaması **80**’dir."
   ]
  },
  {
   "cell_type": "markdown",
   "id": "d4d67640",
   "metadata": {},
   "source": [
    "### 🏀 Örnek 2: Basketbol Oyuncusunun Skoru\n",
    "\n",
    "Oyuncunun maçlarda attığı sayılar:\n",
    "\n",
    "```\n",
    "12, 15, 10, 18, 20\n",
    "```\n",
    "\n",
    "Toplam = 12 + 15 + 10 + 18 + 20 = **75**  \n",
    "Maç sayısı = **5**\n",
    "\n",
    "$$\n",
    "\\text{Ortalama} = \\frac{75}{5} = 15\n",
    "$$\n",
    "\n",
    "📌 Oyuncu maç başına ortalama **15 sayı atmıştır**.\n"
   ]
  },
  {
   "cell_type": "markdown",
   "id": "850fc2ee",
   "metadata": {},
   "source": [
    "## 🧠 Aritmetik Ortalamanın Özellikleri\n",
    "\n",
    "| Özellik | Açıklama |\n",
    "|--------|----------|\n",
    "| ✅ Tüm değerleri kullanır | Ortalama hesaplanırken her veri noktasından faydalanılır |\n",
    "| ⚠️ Aykırı değerlere hassastır | Çok büyük ya da çok küçük rakamlar ortalamayı çarpıtabilir |\n",
    "| ⚖️ Merkezi eğilimi gösterir | Veri kümesinin \"ağırlık merkezini\" temsil eder |\n",
    "| 📊 Ölçek türüne göre uygunluk | Eşit aralıklı ve oranlı ölçeklerde anlamlıdır |\n"
   ]
  },
  {
   "cell_type": "markdown",
   "id": "9a94d1e2",
   "metadata": {},
   "source": [
    "## 📌 Neden Her Zaman Kullanılmaz?\n",
    "\n",
    "Aritmetik ortalama her zaman doğru sonucu vermeyebilir. Özellikle **aykırı değerler** olduğunda yanıltıcı olabilir.\n",
    "\n",
    "### 🧪 Gerçek Hayat Örneği: Şirketteki Maaş Ortalaması\n",
    "\n",
    "Bir şirkette çalışan 5 kişinin maaşları:\n",
    "\n",
    "```\n",
    "10.000 TL  \n",
    "12.000 TL  \n",
    "11.000 TL  \n",
    "13.000 TL  \n",
    "100.000 TL (Yönetici)\n",
    "```\n",
    "\n",
    "Toplam = 146.000  \n",
    "Ortalama = 146.000 / 5 = **29.200 TL**\n",
    "\n",
    "⚠️ Halbuki 4 çalışanın maaşı ortalamanın çok altında!\n",
    "\n",
    "> “Bu gibi durumlarda ortalama değil, medyan daha gerçekçi bir resim çizer.”  "
   ]
  },
  {
   "cell_type": "markdown",
   "id": "d242c2c0",
   "metadata": {},
   "source": [
    "## 📈 Aritmetik Ortalamanın Avantajları\n",
    "\n",
    "| Artısı | Açıklama |\n",
    "|--------|----------|\n",
    "| 🟢 Kolay anlaşılır | Herkes kolayca öğrenebilir |\n",
    "| 🟢 Hızlı hesaplanır | Basit formülü vardır |\n",
    "| 🟢 İstatistiksel analizde yaygın | Diğer yöntemlerle de uyumludur |\n"
   ]
  },
  {
   "cell_type": "markdown",
   "id": "e77e7c2a",
   "metadata": {},
   "source": [
    "## ⚠️ Dezavantajları\n",
    "\n",
    "| Sakıncası | Açıklama |\n",
    "|----------|----------|\n",
    "| 🔴 Aykırı değerlere duyarlıdır | Uç değerler ortalama üzerinde fazla etkili olur |\n",
    "| 🔴 Dengeyi bozabilir | Dağılım çarpık olduğunda yanıltıcı olabilir |\n",
    "| 🔴 Her zaman en iyi ölçüt değildir | Medyan veya mod daha doğru sonuç verebilir |\n"
   ]
  },
  {
   "cell_type": "markdown",
   "id": "9e940092",
   "metadata": {},
   "source": [
    "🧪 Python Uygulaması: Aritmetik Ortalama Nasıl Hesaplanır?"
   ]
  },
  {
   "cell_type": "code",
   "execution_count": 1,
   "id": "eae9ab38",
   "metadata": {},
   "outputs": [
    {
     "name": "stdout",
     "output_type": "stream",
     "text": [
      "Aritmetik ortalama: 80.0\n"
     ]
    }
   ],
   "source": [
    "import numpy as np\n",
    "\n",
    "# Örnek veri seti\n",
    "veri = [70, 80, 90, 60, 100]\n",
    "\n",
    "# Aritmetik ortalama hesaplama\n",
    "ortalama = np.mean(veri)\n",
    "\n",
    "print(f\"Aritmetik ortalama: {ortalama}\")\n",
    "\n",
    "#numpy kullanmadan da yapılabilir:"
   ]
  },
  {
   "cell_type": "code",
   "execution_count": 2,
   "id": "bf8c04b1",
   "metadata": {},
   "outputs": [
    {
     "name": "stdout",
     "output_type": "stream",
     "text": [
      "Aritmetik ortalama: 80.0\n"
     ]
    }
   ],
   "source": [
    "veri = [70, 80, 90, 60, 100]\n",
    "ortalama = sum(veri) / len(veri)\n",
    "print(f\"Aritmetik ortalama: {ortalama}\")"
   ]
  },
  {
   "cell_type": "markdown",
   "id": "2d72c0a1",
   "metadata": {},
   "source": [
    "Aritmetik ortalama, veri dünyasındaki denge noktasıdır. Ancak bazen bu denge, uç değerler(outliers) yüzünden kayar. O zaman başka göstergelere bakmak gerekir."
   ]
  },
  {
   "cell_type": "markdown",
   "id": "33d0cef8",
   "metadata": {},
   "source": []
  }
 ],
 "metadata": {
  "kernelspec": {
   "display_name": "base",
   "language": "python",
   "name": "python3"
  },
  "language_info": {
   "codemirror_mode": {
    "name": "ipython",
    "version": 3
   },
   "file_extension": ".py",
   "mimetype": "text/x-python",
   "name": "python",
   "nbconvert_exporter": "python",
   "pygments_lexer": "ipython3",
   "version": "3.12.9"
  }
 },
 "nbformat": 4,
 "nbformat_minor": 5
}
