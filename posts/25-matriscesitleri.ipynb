{
 "cells": [
  {
   "cell_type": "markdown",
   "id": "4ee4c28c",
   "metadata": {},
   "source": [
    "# 🧠 Matris Çeşitleri: Sayıların Dünyasındaki Şekiller\n",
    "\n",
    "## Bir matrisin içindeysen, onun dilini bilmelisin.\n",
    "\n",
    "Matrisler, sadece satır ve sütun değil;  \n",
    "Sayıların düzenli biçimde dizildiği,  \n",
    "verinin yapılandırıldığı,  \n",
    "ve sistemin mantığının yansıtıldığı soyut dünyadır.\n",
    "\n",
    "\n",
    "Matrisler, lineer cebirin temel yapı taşlarından biridir ve sayıların dikdörtgen bir tablo şeklinde düzenlenmesidir. Farklı şekil ve özelliklere sahip birçok matris çeşidi vardır. "
   ]
  },
  {
   "cell_type": "markdown",
   "id": "e365a5d2",
   "metadata": {},
   "source": [
    "## 🔍 Matris Nedir?\n",
    "\n",
    "Bir matris, sayıların satır ve sütunlara göre sıralandığı bir tablodur:\n",
    "\n",
    "```\n",
    "[ 1 2 ]  \n",
    "[ 3 4 ]\n",
    "```\n",
    "\n",
    "Bu 2x2’lik bir kare matristir.  \n",
    "Satır sayısı = Sütun sayısı → kare matris.  \n",
    "Farklıysa → dikdörtgen matris.\n",
    "\n",
    "📌 En genel haliyle:\n",
    "$$\n",
    "A_{m \\times n} = \n",
    "\\begin{bmatrix}\n",
    "a_{11} & a_{12} & \\dots & a_{1n} \\\\\n",
    "a_{21} & a_{22} & \\dots & a_{2n} \\\\\n",
    "\\vdots & \\vdots & \\ddots & \\vdots \\\\\n",
    "a_{m1} & a_{m2} & \\dots & a_{mn}\n",
    "\\end{bmatrix}\n",
    "$$\n",
    "\n",
    "Yani:\n",
    "- m satır var  \n",
    "- n sütun var  \n",
    "- Toplamda `m x n` eleman taşıyor\n"
   ]
  },
  {
   "cell_type": "markdown",
   "id": "84cc8971",
   "metadata": {},
   "source": [
    "## 📐 Boyutlarına Göre Matrisler\n",
    "\n",
    "### ✅ Satır Matrisi\n",
    "Sadece bir satır var.\n",
    "\n",
    "```\n",
    "[1 2 3]\n",
    "```\n",
    "\n",
    "→ 1x3 boyutlu.  \n",
    "→ Veri biliminde özellik vektörü olarak kullanılır."
   ]
  },
  {
   "cell_type": "markdown",
   "id": "85a00a48",
   "metadata": {},
   "source": [
    "### ✅ Sütun Matrisi\n",
    "Sadece bir sütun var.\n",
    "\n",
    "```\n",
    "[1]  \n",
    "[2]  \n",
    "[3]\n",
    "```\n",
    "\n",
    "→ 3x1 boyutlu.  \n",
    "→ Makine öğrenmesinde çıktılar bu şekilde gösterilir."
   ]
  },
  {
   "cell_type": "markdown",
   "id": "c7105b36",
   "metadata": {},
   "source": [
    "### ✅ Kare Matris\n",
    "Satır sayısı = Sütun sayısı\n",
    "\n",
    "```\n",
    "[1 2]  \n",
    "[3 4]\n",
    "```\n",
    "\n",
    "→ 2x2 kare matris  \n",
    "→ Determinant, özdeğer gibi işlemler için gereklidir."
   ]
  },
  {
   "cell_type": "markdown",
   "id": "025b2b35",
   "metadata": {},
   "source": [
    "### ✅ Dikdörtgen Matris\n",
    "Satır ≠ Sütun\n",
    "\n",
    "```\n",
    "[1 2 3]  \n",
    "[4 5 6]\n",
    "```\n",
    "\n",
    "→ 2x3 dikdörtgen matris  \n",
    "→ Gerçek dünya verisi çoğu zaman bu formattadır."
   ]
  },
  {
   "cell_type": "markdown",
   "id": "0aac4dab",
   "metadata": {},
   "source": [
    "## 🔢 Elemanlarına Göre Matris Türleri\n",
    "\n",
    "### ❌ Sıfır Matrisi\n",
    "Her şey sıfır.\n",
    "\n",
    "```\n",
    "[0 0]  \n",
    "[0 0]\n",
    "```\n"
   ]
  },
  {
   "cell_type": "markdown",
   "id": "95dbf8de",
   "metadata": {},
   "source": [
    "### ✅ Birim Matris (I)\n",
    "Ana köşegenler 1, diğerleri 0.\n",
    "\n",
    "```\n",
    "[1 0]  \n",
    "[0 1]\n",
    "```\n",
    "\n",
    "📌 Terslenebilir sistemlerde anahtar rol oynar.  \n",
    "📌 Lineer cebirdeki \"etkisiz\" elementtir."
   ]
  },
  {
   "cell_type": "markdown",
   "id": "4ca6947f",
   "metadata": {},
   "source": [
    "### ✅ Köşegen Matris\n",
    "Sadece ana köşegende değer var.\n",
    "\n",
    "```\n",
    "[2 0]  \n",
    "[0 3]\n",
    "```\n"
   ]
  },
  {
   "cell_type": "markdown",
   "id": "11527e08",
   "metadata": {},
   "source": [
    "### ✅ Üst Üçgensel Matris\n",
    "Alt üçgendeki tüm değerler sıfır.\n",
    "\n",
    "```\n",
    "[1 2 3]  \n",
    "[0 4 5]  \n",
    "[0 0 6]\n",
    "```\n",
    "\n",
    "📌 Gauss eliminasyonu sonrası elde edilen formdur.  \n",
    "📌 Hesaplamaları kolaylaştırır."
   ]
  },
  {
   "cell_type": "markdown",
   "id": "0a3f73c5",
   "metadata": {},
   "source": [
    "### ✅ Alt Üçgensel Matris\n",
    "Üst üçgende değer yok.\n",
    "\n",
    "```\n",
    "[1 0 0]  \n",
    "[2 3 0]  \n",
    "[4 5 6]\n",
    "```\n",
    "\n",
    "📌 LU ayrıştırma gibi yöntemlerde kullanılır."
   ]
  },
  {
   "cell_type": "markdown",
   "id": "02659c38",
   "metadata": {},
   "source": [
    "### ✅ Skaler Matris\n",
    "Köşegen üzerinde aynı sayılar var.\n",
    "\n",
    "```\n",
    "[5 0]  \n",
    "[0 5]\n",
    "```\n",
    "\n",
    "📌 Tüm yönlerde aynı etki → eşit dağılım"
   ]
  },
  {
   "cell_type": "markdown",
   "id": "0508a0fc",
   "metadata": {},
   "source": [
    "## ⚖️ Özel Yapılar: Simetri, Simetrinin Karşısı, Dönüşüm\n",
    "\n",
    "### ✅ Simetrik Matris\n",
    "Transpozu kendisine eşit.\n",
    "\n",
    "```\n",
    "[1 2]  \n",
    "[2 3]\n",
    "```\n",
    "\n",
    "👉 `A = Aᵀ` → simetriklik!\n",
    "\n"
   ]
  },
  {
   "cell_type": "markdown",
   "id": "8fdad04a",
   "metadata": {},
   "source": [
    "### ✅ Ters Simetrik (Çarpık Simetrik) Matris\n",
    "Transpozu negatifine eşit.\n",
    "\n",
    "```\n",
    "[ 0  2 ]  \n",
    "[-2  0 ]\n",
    "```\n",
    "\n",
    "👉 `A = -Aᵀ` → çarpık simetri!\n"
   ]
  },
  {
   "cell_type": "markdown",
   "id": "535b02cb",
   "metadata": {},
   "source": [
    "### ✅ İdempotent Matris\n",
    "Karesi kendisine eşit.\n",
    "\n",
    "```\n",
    "[1 0]  \n",
    "[0 1]\n",
    "```\n",
    "\n",
    "👉 `A² = A` → sabit yapılıdır"
   ]
  },
  {
   "cell_type": "markdown",
   "id": "c085a697",
   "metadata": {},
   "source": [
    "### ✅ İnvolütif Matris\n",
    "Karesi birim matrise eşit.\n",
    "\n",
    "```\n",
    "[ 1  0 ]  \n",
    "[ 0 -1 ]\n",
    "```\n",
    "\n",
    "👉 `A² = I` → dönüşümlerde kullanılır"
   ]
  },
  {
   "cell_type": "markdown",
   "id": "8260692c",
   "metadata": {},
   "source": [
    "\n",
    "### ❌ Tekil (Singüler) Matris\n",
    "Determinantı sıfır olan kare matris.\n",
    "\n",
    "```\n",
    "[1 2]  \n",
    "[2 4]\n",
    "```\n",
    "\n",
    "👉 `det(A) = 0` → tersi yoktur  \n",
    "👉 Sistem çözülemez!"
   ]
  },
  {
   "cell_type": "markdown",
   "id": "aa94a057",
   "metadata": {},
   "source": [
    "### ✅ Ortogonal Matris\n",
    "Transpozu tersine eşit.\n",
    "\n",
    "```\n",
    "[ 0  1 ]  \n",
    "[-1  0 ]\n",
    "```\n",
    "\n",
    "👉 `Aᵀ = A⁻¹` → dönüşümlerde koruma sağlar\n",
    "\n",
    "📌 Bilgisayar grafikleri ve yapay zekada çok önemlidir."
   ]
  },
  {
   "cell_type": "code",
   "execution_count": 1,
   "id": "61dbf97a",
   "metadata": {},
   "outputs": [
    {
     "name": "stdout",
     "output_type": "stream",
     "text": [
      "Satır Matrisi:\n",
      " [[1 2 3]]\n",
      "\n",
      "Sütun Matrisi:\n",
      " [[1]\n",
      " [2]\n",
      " [3]]\n",
      "\n",
      "Kare Matris:\n",
      " [[1 2]\n",
      " [3 4]]\n",
      "\n",
      "Sıfır Matrisi:\n",
      " [[0. 0.]\n",
      " [0. 0.]]\n",
      "\n",
      "Birim Matris:\n",
      " [[1. 0.]\n",
      " [0. 1.]]\n",
      "\n",
      "Köşegen Matris:\n",
      " [[2 0]\n",
      " [0 3]]\n",
      "\n",
      "Orijinal:\n",
      " [[1 2]\n",
      " [3 4]]\n",
      "Transpoze:\n",
      " [[1 3]\n",
      " [2 4]]\n",
      "\n",
      "Matris simetrik mi? False\n",
      "Matris ters simetrik mi? False\n",
      "\n",
      "Kare matrisin determinantı: -2.0000000000000004\n"
     ]
    }
   ],
   "source": [
    "# Python ile Pratik: Matris Türlerini Tanıyalım\n",
    "\n",
    "import numpy as np\n",
    "\n",
    "# Satır matrisi\n",
    "satir = np.array([[1, 2, 3]])\n",
    "print(\"Satır Matrisi:\\n\", satir)\n",
    "\n",
    "# Sütun matrisi\n",
    "sutun = np.array([[1], [2], [3]])\n",
    "print(\"\\nSütun Matrisi:\\n\", sutun)\n",
    "\n",
    "# Kare matris\n",
    "kare = np.array([[1, 2], [3, 4]])\n",
    "print(\"\\nKare Matris:\\n\", kare)\n",
    "\n",
    "# Sıfır matrisi\n",
    "sifir = np.zeros((2, 2))\n",
    "print(\"\\nSıfır Matrisi:\\n\", sifir)\n",
    "\n",
    "# Birim matris\n",
    "birim = np.eye(2)\n",
    "print(\"\\nBirim Matris:\\n\", birim)\n",
    "\n",
    "# Köşegen matris\n",
    "koselen = np.diag([2, 3])\n",
    "print(\"\\nKöşegen Matris:\\n\", koselen)\n",
    "\n",
    "# Transpoz alma\n",
    "A = np.array([[1, 2], [3, 4]])\n",
    "A_T = A.T\n",
    "print(\"\\nOrijinal:\\n\", A)\n",
    "print(\"Transpoze:\\n\", A_T)\n",
    "\n",
    "# Simetrik kontrol\n",
    "simetrik_mi = np.array_equal(A, A_T)\n",
    "print(\"\\nMatris simetrik mi?\", simetrik_mi)\n",
    "\n",
    "# Ters simetrik kontrol\n",
    "ters_simetrik_mi = np.array_equal(A, -A_T)\n",
    "print(\"Matris ters simetrik mi?\", ters_simetrik_mi)\n",
    "\n",
    "# Determinant kontrol\n",
    "det = np.linalg.det(kare)\n",
    "print(\"\\nKare matrisin determinantı:\", det)"
   ]
  },
  {
   "cell_type": "markdown",
   "id": "7c8354c3",
   "metadata": {},
   "source": [
    "## 💡 Neden Bu Kategoriler Önemli?\n",
    "\n",
    "| Sebep | Açıklama |\n",
    "|--------|----------|\n",
    "| ✅ Anlama kolaylığı | Her matris türü farklı bir işlev taşır |\n",
    "| ✅ Uygulamalarda fark oluşturur | Hangi yöntemi uygulayacağını belirler |\n",
    "| ✅ Modelleme gücü sağlar | Yapay zeka, fizik, ekonomi modellerinde |\n",
    "| ✅ Hız kazandırır | Bazı matrisler hızlı işlem yapılmasını sağlar |\n",
    "\n",
    "📌 Lineer cebirde matris türünü bilmek,  \n",
    "**modelin nasıl çalıştığını anlamaya** gider."
   ]
  }
 ],
 "metadata": {
  "kernelspec": {
   "display_name": "base",
   "language": "python",
   "name": "python3"
  },
  "language_info": {
   "codemirror_mode": {
    "name": "ipython",
    "version": 3
   },
   "file_extension": ".py",
   "mimetype": "text/x-python",
   "name": "python",
   "nbconvert_exporter": "python",
   "pygments_lexer": "ipython3",
   "version": "3.12.9"
  }
 },
 "nbformat": 4,
 "nbformat_minor": 5
}
