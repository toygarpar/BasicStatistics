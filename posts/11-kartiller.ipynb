{
 "cells": [
  {
   "cell_type": "markdown",
   "id": "96e47e38",
   "metadata": {},
   "source": [
    "# 📊 Kartiller: Veriyi 4’e Bölüp Anlamak\n",
    "\n",
    "## Giriş: Nerede Yoğunlaşmış?\n",
    "\n",
    "Diyelim ki bir sınıftaki öğrencilerin notlarını incelemek istiyorsun. Ortalama ve medyanı biliyorsun ama verinin nasıl dağıldığını tam olarak göremiyorsun.\n",
    "\n",
    "Kartiller, veri kümesini dört eşit parçaya böler. Bu sayede:\n",
    "\n",
    "- %25’te kim var?\n",
    "- %50’de (medyan) ne var?\n",
    "- %75’te kim duruyor?\n",
    "- Aradaki yayılım nasıl?\n",
    "\n",
    "Bu sorulara kartillerle yanıt bulabilirsin.\n",
    "\n",
    "> “Veriyi iyi anlamak için onu küçük parçalara ayırmak gerekir. Kartiller, veriyi yüzdesel 4 eşit parçaya bölmenin en kolay yoludur.”  "
   ]
  },
  {
   "cell_type": "markdown",
   "id": "3b5b42d0",
   "metadata": {},
   "source": [
    "## 🔍 Kartil Nedir?\n",
    "\n",
    "**Kartiller**, veri kümesini küçükten büyüğe sıraladıktan sonra **dört eşit parçaya bölen üç ana noktadır.**\n",
    "\n",
    "Kartiller, bir veri kümesini sıraladıktan sonra dört eşit parçaya bölen değerlerdir. Bu bölme işlemi sonucunda ortaya çıkan her bir parçaya \"çeyrek\" denir. Kartiller, verilerin dağılımını ve yayılımını anlamak için önemli bir istatistiksel ölçüdür. Özellikle medyan ile birlikte kullanıldığında, verilerin merkezi eğilimi ve yayılımı hakkında daha kapsamlı bir bilgi sağlar.\n",
    "\n",
    "### Üç Ana Kartil:\n",
    "| Kartil | Adı | Açıklama |\n",
    "|--------|-----|----------|\n",
    "| **Q1** | Birinci Kartil | Verinin %25’i Q1’in altında, %75’i üstünde |\n",
    "| **Q2** | İkinci Kartil | Medyandır. %50 altta, %50 üstte |\n",
    "| **Q3** | Üçüncü Kartil | Verinin %75’i Q3’ün altında, %25’i üstte |\n"
   ]
  },
  {
   "cell_type": "markdown",
   "id": "90fe4b11",
   "metadata": {},
   "source": [
    "## 🧮 Kartil Nasıl Bulunur? Adım Adım Yöntem\n",
    "\n",
    "### 1. **Verileri Sırala**\n",
    "Küçükten büyüğe doğru tüm verileri sırala.\n",
    "\n",
    "### 2. **Medyanı (Q2) Bul**\n",
    "Ortadaki değeri bul → bu aynı zamanda Q2'dir.\n",
    "\n",
    "### 3. **Q1’i Bul**\n",
    "Medyanın solundaki verilerin ortasını al → bu da Q1 olur.\n",
    "\n",
    "### 4. **Q3’ü Bul**\n",
    "Medyanın sağındaki verilerin ortasını al → bu da Q3 olur."
   ]
  },
  {
   "cell_type": "markdown",
   "id": "ed9531e4",
   "metadata": {},
   "source": [
    "## 💡 Gerçek Hayat Örnekleri ile Anlamak\n",
    "\n",
    "### 🎯 Örnek 1: Tek Sayıda Veri\n",
    "\n",
    "Sınıf notları:\n",
    "```\n",
    "65, 70, 75, 80, 85, 90, 95\n",
    "```\n",
    "\n",
    "Adım adım:\n",
    "1. Sırala → 65, 70, 75, 80, 85, 90, 95\n",
    "2. Q2 = 80\n",
    "3. Q1 = 70 (sol tarafın ortası)\n",
    "4. Q3 = 90 (sağ tarafın ortası)\n",
    "\n",
    "✅ **Q1 = 70**, **Q2 = 80**, **Q3 = 90**"
   ]
  },
  {
   "cell_type": "markdown",
   "id": "5e729e76",
   "metadata": {},
   "source": [
    "### 🏀 Örnek 2: Çift Sayıda Veri\n",
    "\n",
    "Maç başına attığı sayılar:\n",
    "```\n",
    "10, 12, 15, 16, 18, 20\n",
    "```\n",
    "\n",
    "Adım adım:\n",
    "1. Sırala → 10, 12, 15, 16, 18, 20\n",
    "2. Q2 = (15 + 16)/2 = 15.5\n",
    "3. Q1 = 12\n",
    "4. Q3 = 18\n",
    "\n",
    "✅ **Q1 = 12**, **Q2 = 15.5**, **Q3 = 18**"
   ]
  },
  {
   "cell_type": "markdown",
   "id": "3d030ffc",
   "metadata": {},
   "source": [
    "## 📈 Kartiller Arası Aralık (IQR)\n",
    "\n",
    "**IQR (Interquartile Range)**, verinin orta %50’sinin ne kadar yayıldığını gösteren ölçüdür.\n",
    "\n",
    "\n",
    "\n",
    "### Formülü:\n",
    "$$\n",
    "\\text{IQR} = Q3 - Q1\n",
    "$$\n",
    "\n",
    "📌 IQR büyükse → veri geniş aralıkta yayılmış  \n",
    "📌 IQR küçükse → veri dar bir aralıkta yoğunlaşmış"
   ]
  },
  {
   "cell_type": "markdown",
   "id": "a91ff975",
   "metadata": {},
   "source": [
    "## 📌 Aykırı Değerleri Belirleme: Kim Normalden Uzak?\n",
    "\n",
    "Aykırı değerler genellikle şu kurala göre belirlenir:\n",
    "\n",
    "- **Alt sınır:** Q1 - 1.5 × IQR  \n",
    "- **Üst sınır:** Q3 + 1.5 × IQR  \n",
    "\n",
    "Bu sınırların dışında kalan her şey **aykırı değerdir**.\n",
    "\n",
    "### Örnek:\n",
    "Q1 = 12, Q3 = 18 → IQR = 6  \n",
    "Alt sınır = 12 - 9 = 3  \n",
    "Üst sınır = 18 + 9 = 27\n",
    "\n",
    "Eğer veride 30 gibi bir sayı varsa, bu aykırı değerdir."
   ]
  },
  {
   "cell_type": "markdown",
   "id": "2365dbe6",
   "metadata": {},
   "source": [
    "## 📊 Kartillerin Kullanım Alanları\n",
    "\n",
    "| Alan | Kullanım Yeri |\n",
    "|------|----------------|\n",
    "| **İstatistiksel Analiz** | Yayılımı ve aykırı değerleri analiz etmek için |\n",
    "| **Finans** | Hisse senedi fiyatlarının volatilitesi için |\n",
    "| **Eğitim** | Öğrenci notlarının dağılımı için |\n",
    "| **Sağlık** | Tıbbi verilerin dağılımı için |\n",
    "| **Görselleştirme** | Kutu grafikleri oluşturmak için |\n"
   ]
  },
  {
   "cell_type": "code",
   "execution_count": 1,
   "id": "1655bead",
   "metadata": {},
   "outputs": [
    {
     "name": "stdout",
     "output_type": "stream",
     "text": [
      "Q1: 12.75\n",
      "Q2: 15.5\n",
      "Q3: 17.5\n",
      "IQR: 4.75\n"
     ]
    }
   ],
   "source": [
    "# Python Uygulaması: Kartiller Nasıl Hesaplanır?\n",
    "\n",
    "import numpy as np\n",
    "\n",
    "# Örnek veri\n",
    "veri = [10, 12, 15, 16, 18, 20]\n",
    "\n",
    "# Kartilleri hesaplayalım\n",
    "Q1 = np.percentile(veri, 25)\n",
    "Q2 = np.percentile(veri, 50)\n",
    "Q3 = np.percentile(veri, 75)\n",
    "\n",
    "print(f\"Q1: {Q1}\")\n",
    "print(f\"Q2: {Q2}\")\n",
    "print(f\"Q3: {Q3}\")\n",
    "\n",
    "# IQR\n",
    "IQR = Q3 - Q1\n",
    "print(f\"IQR: {IQR}\")"
   ]
  },
  {
   "cell_type": "code",
   "execution_count": 2,
   "id": "ff69e544",
   "metadata": {},
   "outputs": [
    {
     "data": {
      "image/png": "[encoded data removed]",
      "text/plain": [
       "<Figure size 640x480 with 1 Axes>"
      ]
     },
     "metadata": {},
     "output_type": "display_data"
    }
   ],
   "source": [
    "# Alternatif olarak `scipy` kullanarak da çeyreklikler bulunabilir.\n",
    "\n",
    "# Kutu Grafikleri (Box Plot) ile Görselleştirme\n",
    "\n",
    "# Kutu grafikleri, kartiller yardımıyla verinin dağılımını görsel olarak gösterir. \n",
    "# Özellikle aykırı değerleri tespit etmek ve veri yayılımını karşılaştırmak için çok güçlü bir araçtır.\n",
    "\n",
    "import pandas as pd\n",
    "import matplotlib.pyplot as plt\n",
    "\n",
    "plt.boxplot(veri)\n",
    "plt.title(\"Kutu Grafiği\")\n",
    "plt.ylabel(\"Değerler\")\n",
    "plt.show()"
   ]
  },
  {
   "cell_type": "markdown",
   "id": "cabae78e",
   "metadata": {},
   "source": [
    "“Kartiller, veri dünyasında dağılımı anlamanın en net yoludur. Çünkü veriyi sadece merkezinden değil, yayılımından da okursun.”\n",
    ">\n",
    " “Bazen ortalama sana yanılgı verir, medyan sana dengeyi gösterir ama kartiller sana bütünü anlatır.”"
   ]
  },
  {
   "cell_type": "markdown",
   "id": "135cb16b",
   "metadata": {},
   "source": [
    "- **Yayılımı Anlamak:** Kartiller ve IQR, verilerin ne kadar yayıldığını veya ne kadar kümelendiğini anlamamıza yardımcı olur. Büyük bir IQR, verilerin geniş bir aralıkta yayıldığını, küçük bir IQR ise verilerin birbirine yakın olduğunu gösterir.\n",
    "- **Aykırı Değerleri Belirlemek:** IQR, aykırı değerleri belirlemek için kullanılabilir. Genellikle, Q1 - 1.5 * IQR'dan küçük veya Q3 + 1.5 * IQR'dan büyük olan değerler aykırı değer olarak kabul edilir.\n",
    "- **Kutu Grafikleri (Box Plots) Oluşturmak:** Kartiller, kutu grafikleri oluşturmak için kullanılır. Kutu grafikleri, verilerin dağılımını görsel olarak göstermek için etkili bir yöntemdir."
   ]
  },
  {
   "cell_type": "markdown",
   "id": "1fb18e14",
   "metadata": {},
   "source": []
  }
 ],
 "metadata": {
  "kernelspec": {
   "display_name": "base",
   "language": "python",
   "name": "python3"
  },
  "language_info": {
   "codemirror_mode": {
    "name": "ipython",
    "version": 3
   },
   "file_extension": ".py",
   "mimetype": "text/x-python",
   "name": "python",
   "nbconvert_exporter": "python",
   "pygments_lexer": "ipython3",
   "version": "3.12.9"
  }
 },
 "nbformat": 4,
 "nbformat_minor": 5
}
