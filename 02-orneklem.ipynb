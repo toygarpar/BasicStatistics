{
 "cells": [
  {
   "cell_type": "markdown",
   "id": "7d962cae",
   "metadata": {},
   "source": [
    "# 📊 Örneklem: Ana Kütledeki Gizli Hikâyeyi Anlamak İçin Bir Pencere\n",
    "\n",
    "## Giriş: Bütünü Görmek Her Zaman Mümkün Değil!\n",
    "\n",
    "Bazen bir pastanın tadını anlamak için tüm pastayı yemezsiniz. Tek dilim bile o pastanın neye benzediğini tahmin etmenize yetebilir. İşte tam da bu yüzden araştırmalarda da **örneklem** kullanılır.\n",
    "\n",
    "Ana kütlenin temsili grubudur."
   ]
  },
  {
   "cell_type": "markdown",
   "id": "edde0162",
   "metadata": {},
   "source": [
    "## 🔍 Örneklem Nedir?\n",
    "\n",
    "**Örneklem** , bir araştırma için incelenmesi amaçlanan **ana kütlenin temsilci grubudur** . Yani aslında bütünden alınan küçük ama bilgi açısından zengin bir parçadır.\n",
    "\n",
    "### 💡 Örnek:\n",
    "\n",
    "Türkiye’deki gençlerin sosyal medya alışkanlıklarını incelemek istiyorsunuz. 80 milyon kişiyi tek tek sormak yerine, doğru yöntemle seçilen birkaç bin kişiyle çalışmak yeterlidir. İşte bu birkaç bin kişi, örneklemdir."
   ]
  },
  {
   "cell_type": "markdown",
   "id": "fb84f396",
   "metadata": {},
   "source": [
    "## 🧾 Tamsayım Nedir?\n",
    "\n",
    "Eğer ana kütledeki **her bireye ulaşılıp veri toplanıyorsa** , buna **tamsayım** denir. En meşhur tamsayım örneği tabii ki **nüfus sayımıdır** .\n",
    "\n",
    "Ama her zaman mümkün değildir. Çünkü…\n",
    "\n",
    "---\n",
    "\n",
    "## ⚖️ Neden Örneklem Kullanılır?\n",
    "\n",
    "1. **Ana kütleyi incelemek çok zaman alır.**\n",
    "    \n",
    "    > 70 milyon kişiye anket göndermek, yıllarınızı alabilir.\n",
    "    \n",
    "2. **Maliyet açısından pahalıdır.**\n",
    "    \n",
    "    > Herkese ulaşmak, veri girişi yapmak, analiz etmek… Hepsi ciddi kaynak ister.\n",
    "    \n",
    "3. **Her zaman mümkün olmayabilir.**\n",
    "    \n",
    "    > Kimileri yanıt vermeyebilir, bazıları ulaşılamaz olabilir."
   ]
  },
  {
   "cell_type": "markdown",
   "id": "e131fa46",
   "metadata": {},
   "source": [
    "## ✅ İyi Bir Örneklemin Özellikleri\n",
    "\n",
    "Bir örneklemin iyi olması için bazı şartları taşıması gerekir:\n",
    "\n",
    "1. **Eşit aralıklı ve rastgele seçilmesi gerekir.**\n",
    "    \n",
    "    > Herkesin seçilme şansı eşit olmalı. Yoksa sonuçlar çarpık çıkar.\n",
    "    \n",
    "2. **Ana kütleyi net olarak yansıtmaz.**\n",
    "    \n",
    "    > Ne kadar iyi seçilirse seçilsin, örneklem asla %100 temsiliyet sağlayamaz. Bu nedenle hata payı vardır.\n",
    "    \n",
    "3. **Örneklem büyüdükçe maliyet artar.**\n",
    "    \n",
    "    > Daha fazla kişi = daha fazla harcama = daha uzun süre. Bu dengeleri kurmak önemlidir.\n",
    "    \n",
    "4. **Hata payı genelde %5 ve altında olmalıdır.**\n",
    "    \n",
    "    > Bu, güven aralığımızı belirler. %95 güven düzeyinde çalışmak yaygındır."
   ]
  },
  {
   "cell_type": "markdown",
   "id": "2198c2c8",
   "metadata": {},
   "source": [
    "## 🎯 Örneklemin Türleri\n",
    "\n",
    "Örneklemler ikiye ayrılır:\n",
    "\n",
    "### 1. **Olasılığa Dayalı Teknikler (Rastlantısal Seçim)**\n",
    "\n",
    "Bu tekniklerde her bireyin seçilme şansı bellidir. Bilimsel çalışmalarda tercih edilir.\n",
    "\n",
    "- **Basit Tesadüfi Örnekleme:** Rastgele isim çeker gibi.\n",
    "- **Sistematik Örnekleme:** Belli aralıklarla seçim yapılır. Örneğin her 10 kişiden biri.\n",
    "- **Tabakalı Örnekleme:** Ana kütleye göre gruplar oluşturulup her gruptan orantılı seçim yapılır.\n",
    "- **Küme Örnekleme:** Büyük gruplar halinde seçim yapılır. Özellikle coğrafi çalışmalarda kullanılır.\n",
    "\n",
    "### 2. **Olasılığa Dayalı Olmayan Teknikler (Seçici Yaklaşım)**\n",
    "\n",
    "Burada seçim keyfi olabilir, amaç yöneliktir. Genellikle nitel araştırmalarda kullanılır.\n",
    "\n",
    "- **Kolayda Örnekleme:** Ulaşılması kolay olan kişilerle çalışılır.\n",
    "- **Kasti Örnekleme:** Araştırmacı amaca göre bireyleri seçer.\n",
    "- **Kota Örnekleme:** Belirlenen özellikler doğrultusunda sınırlı sayıda kişi seçilir.\n",
    "- **Kartopu Örnekleme:** Katılımcılar kendileri yeni katılımcılar önerir."
   ]
  },
  {
   "cell_type": "markdown",
   "id": "2bb31d84",
   "metadata": {},
   "source": [
    "## 🧠 Özetle;\n",
    "\n",
    "|Konu|Açıklama|\n",
    "|---|---|\n",
    "|**Örneklem**|Ana kütleden seçilen küçük ama temsilci grup|\n",
    "|**Tamsayım**|Tüm ana kütleye ulaşma süreci|\n",
    "|**Neden Kullanılır?**|Zaman, maliyet ve uygulanabilirlik nedeniyle|\n",
    "|**İyi Örneklem**|Rastgele, temsilci, uygun boyutta olmalı|\n",
    "|**Hata Payı**|Genelde %5 civarı olmalı|\n",
    "|**Çeşitleri**|Olasılığa dayalı ve dayalı olmayanlar|\n"
   ]
  },
  {
   "cell_type": "markdown",
   "id": "1b1c8597",
   "metadata": {},
   "source": [
    "## 🎯 Veri Bilimcinin İpucu\n",
    "\n",
    "> “Veri biliminde önemli olan, çok veri toplamak değil, **doğru veri** toplamaktır.”"
   ]
  },
  {
   "cell_type": "code",
   "execution_count": 3,
   "id": "ebd4bf36",
   "metadata": {},
   "outputs": [],
   "source": [
    "import random\n",
    "import numpy as np\n",
    "\n",
    "# Diyelim ki 10.000 kişinin aylık alışveriş harcamalarından oluşan bir ana kütlemiz var."
   ]
  },
  {
   "cell_type": "code",
   "execution_count": 4,
   "id": "bbae3c5b",
   "metadata": {},
   "outputs": [
    {
     "name": "stdout",
     "output_type": "stream",
     "text": [
      "Ana kütle ortalaması: 349.75 TL\n"
     ]
    }
   ],
   "source": [
    "# Ana kütleyi oluşturalım (10.000 kişi)\n",
    "ana_kitle = [random.gauss(350, 100) for _ in range(10000)]  # Ortalama 350 TL, std sapma 100\n",
    "\n",
    "# Ana kütle ortalamasını hesaplayalım\n",
    "ana_kitle_ortalama = np.mean(ana_kitle)\n",
    "\n",
    "print(f\"Ana kütle ortalaması: {ana_kitle_ortalama:.2f} TL\")"
   ]
  },
  {
   "cell_type": "code",
   "execution_count": 5,
   "id": "7ada9d2b",
   "metadata": {},
   "outputs": [
    {
     "name": "stdout",
     "output_type": "stream",
     "text": [
      "Örneklem ortalaması: 344.92 TL\n"
     ]
    }
   ],
   "source": [
    "# Şimdi bu ana kütleden basit tesadüfi örneklem alalım. Diyelim ki 500 kişilik bir örneklem alıyoruz.\n",
    "\n",
    "# Basit tesadüfi örneklem alma\n",
    "orneklem = random.sample(ana_kitle, 500)\n",
    "\n",
    "# Örneklem ortalamasını hesaplayalım\n",
    "orneklem_ortalama = np.mean(orneklem)\n",
    "\n",
    "print(f\"Örneklem ortalaması: {orneklem_ortalama:.2f} TL\")"
   ]
  },
  {
   "cell_type": "code",
   "execution_count": 6,
   "id": "b3735ec1",
   "metadata": {},
   "outputs": [
    {
     "name": "stdout",
     "output_type": "stream",
     "text": [
      "İki ortalama arasındaki fark: 4.83 TL\n"
     ]
    }
   ],
   "source": [
    "# Artık hem ana kütle hem de örneklem ortalamasını elde ettik. Peki aradaki fark ne kadar?\n",
    "\n",
    "fark = abs(ana_kitle_ortalama - orneklem_ortalama)\n",
    "print(f\"İki ortalama arasındaki fark: {fark:.2f} TL\")"
   ]
  },
  {
   "cell_type": "code",
   "execution_count": 7,
   "id": "be2801db",
   "metadata": {},
   "outputs": [
    {
     "data": {
      "image/png": "[encoded data removed]",
      "text/plain": [
       "<Figure size 1000x600 with 1 Axes>"
      ]
     },
     "metadata": {},
     "output_type": "display_data"
    }
   ],
   "source": [
    "# matplotlib ile dağılımları da görselleştirelim.\n",
    "\n",
    "import matplotlib.pyplot as plt\n",
    "\n",
    "plt.figure(figsize=(10,6))\n",
    "\n",
    "# Ana kütle histogramı\n",
    "plt.hist(ana_kitle, bins=50, alpha=0.5, label=\"Ana Kütle\", color=\"skyblue\")\n",
    "\n",
    "# Örneklem histogramı\n",
    "plt.hist(orneklem, bins=50, alpha=0.7, label=\"Örneklem\", color=\"orange\")\n",
    "\n",
    "plt.axvline(ana_kitle_ortalama, color='red', linestyle='dashed', linewidth=2, label='Ana Kütle Ort.')\n",
    "plt.axvline(orneklem_ortalama, color='orange', linestyle='dashed', linewidth=2, label='Örneklem Ort.')\n",
    "\n",
    "plt.title(\"Ana Kütle vs Örneklem Dağılımı\")\n",
    "plt.xlabel(\"Harcama Miktarı (TL)\")\n",
    "plt.ylabel(\"Frekans\")\n",
    "plt.legend()\n",
    "plt.show()\n"
   ]
  },
  {
   "cell_type": "markdown",
   "id": "9df50269",
   "metadata": {},
   "source": [
    "## 🎯 Özet\n",
    "\n",
    "Bu uygulamada şunları öğrendik:\n",
    "\n",
    "|Aşama|Açıklama|\n",
    "|---|---|\n",
    "|Ana kütle oluşturma|10.000 kişinin harcama verisi üretildi|\n",
    "|Örneklem alma|500 kişilik rastgele örneklem seçildi|\n",
    "|Ortalama karşılaştırması|Örneklem ortalaması ana kütleye oldukça yakın çıktı|\n",
    "|Görselleştirme|Histogram ile dağılım karşılaştırıldı|\n"
   ]
  },
  {
   "cell_type": "markdown",
   "id": "f39a702a",
   "metadata": {},
   "source": []
  }
 ],
 "metadata": {
  "kernelspec": {
   "display_name": "base",
   "language": "python",
   "name": "python3"
  },
  "language_info": {
   "codemirror_mode": {
    "name": "ipython",
    "version": 3
   },
   "file_extension": ".py",
   "mimetype": "text/x-python",
   "name": "python",
   "nbconvert_exporter": "python",
   "pygments_lexer": "ipython3",
   "version": "3.12.9"
  }
 },
 "nbformat": 4,
 "nbformat_minor": 5
}
