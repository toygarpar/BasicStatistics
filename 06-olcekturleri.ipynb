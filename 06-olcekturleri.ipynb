{
 "cells": [
  {
   "cell_type": "markdown",
   "id": "6e219f4b",
   "metadata": {},
   "source": [
    "## Giriş: Tüm Sayılar Eşit Değildir!\n",
    "\n",
    "Veri dediğimizde aklınıza sayılar gelse de, her sayının yorumlanma biçimi farklı olabilir.  \n",
    "Örneğin:\n",
    "\n",
    "- Sıcaklık 20°C → “10°C'nin iki katı sıcak mı?”\n",
    "- Bir öğrencinin notu 80 → “40’ın iki katı mı akıllı?”\n",
    "- Boyunuz 180 cm → “90 cm’den tam iki kat uzun musunuz?”\n",
    "\n",
    "Bu soruların cevapları, **ölçek türüne göre değişir.**\n",
    "\n",
    "> “Sayı, yalnızca üzerinde durduğu ölçeği anladığında anlam kazanır.”"
   ]
  },
  {
   "cell_type": "markdown",
   "id": "cc68f985",
   "metadata": {},
   "source": [
    "## 🔍 Ölçek Türleri Nedir?\n",
    "\n",
    "İstatistikte **ölçek türleri** , bir değişkenin ne şekilde ölçüldüğünü ve hangi matematiksel işlemlere açık olduğunu belirten sınıflandırmadır.\n",
    "\n",
    "İstatistikte \"ölçek türleri\" veya \"ölçme düzeyleri\", verilerin nasıl ölçüldüğünü ve bu ölçümlerin ne tür matematiksel işlemlere uygun olduğunu belirleyen bir sınıflandırmadır. Verilerin türü, hangi istatistiksel analizlerin kullanılabileceğini doğrudan etkiler. \n",
    "\n",
    "Toplamda dört temel ölçek türü vardır:\n",
    "\n",
    "|Ölçek Türü|Açıklama|\n",
    "|---|---|\n",
    "|**Sınıflama (Nominal)**|Yalnızca isim verir, sıralama yoktur|\n",
    "|**Sıralama (Ordinal)**|Sıralar, ama aralarındaki fark belli değildir|\n",
    "|**Eşit Aralıklı (Interval)**|Eşit mesafeler vardır, gerçek sıfır yoktur|\n",
    "|**Oranlı (Ratio)**|Gerçek sıfır vardır, tüm işlemler yapılabilir|\n",
    "\n",
    "\n",
    "\n",
    "Ölçümün niteliğini belirtir."
   ]
  },
  {
   "cell_type": "markdown",
   "id": "2777eda2",
   "metadata": {},
   "source": [
    "## 🧠 1. Sınıflama (Nominal) Ölçek\n",
    "\n",
    "### Tanım:\n",
    "\n",
    "En basit ölçme düzeyidir. Nesneleri ya da kişileri **kategorilere ayırır** , sadece adlandırır.\n",
    "\n",
    "Bireylerin ya da nesnelerin kategorize edilerek, türlerine göre gruplandırılmasına dayanır.\n",
    "Matematiksel olarak işlem yapılmaz.\n",
    "Matematiksel olarak en az bilgiyi veren bilgi türüdür.\n",
    "Ölçülebilecek değişken kategorik değerler alır.\n",
    "Ölçülecek değişkenin miktar olarak değerlendirmesi yapılamaz.\n",
    "\n",
    "### Özellikler:\n",
    "\n",
    "- Sadece **eşitlik/eşitsizlik** karşılaştırması yapılır.\n",
    "- **Sıra yok** , **oran yok** , **sayısal işlem yok** .\n",
    "\n",
    "### Örnekler:\n",
    "\n",
    "- Cinsiyet: Kadın / Erkek\n",
    "- Göz Rengi: Mavi / Yeşil / Kahverengi\n",
    "- Şehir: İstanbul / Ankara / İzmir\n",
    "- Medeni Durum: Evli / Bekar / Boşanmış\n",
    "\n",
    "### İstatistiksel İşlem:\n",
    "\n",
    "- **Sayma işlemleri** : Frekans, yüzde\n",
    "- **Mod (en çok tekrar eden)**"
   ]
  },
  {
   "cell_type": "markdown",
   "id": "7783f8fc",
   "metadata": {},
   "source": [
    "## 📊 2. Sıralama (Ordinal) Ölçek\n",
    "\n",
    "### Tanım:\n",
    "\n",
    "Kategoriler arasında **sıralama vardır** , ancak bu sıralamalar arasındaki fark kesin olarak bilinmez.\n",
    "\n",
    "Bireylerin ya da nesnelerin belirli bir özelliklerine göre ele alıp büyükten küçüğe veya küçükten büyüğe sıralayarak oluşturulan ölçek türüdür.\n",
    "Ölçme sonuçları üzerinde matematiksel işlemler yapamayız.\n",
    "\n",
    "### Özellikler:\n",
    "\n",
    "- **Sıralama vardır:** A > B > C\n",
    "- **Aralıklar eşit değil veya bilinmiyor**\n",
    "- **Matematiksel işlem yapılamaz**\n",
    "\n",
    "### Örnekler:\n",
    "\n",
    "- Eğitim Düzeyi: İlkokul < Ortaokul < Lise < Üniversite\n",
    "- Memnuniyet Derecesi: Çok Memnun > Memnun > Kararsız > Memnun Değil\n",
    "- Sınav Sıralaması: 1., 2., 3.\n",
    "- Askeri Rütbe: Er < Onbaşı < Çavuş < Teğmen\n",
    "\n",
    "### İstatistiksel İşlem:\n",
    "\n",
    "- **Medyan (ortanca değer)**\n",
    "- **Yüzdelik hesaplamaları**\n",
    "- **Sıralama korelasyonları**\n",
    "\n",
    "> “Zinciri yukarıdan aşağıya doğru sıralayabilirsin ama halkalar arasındaki güç farkı sabit değildir.”"
   ]
  },
  {
   "cell_type": "markdown",
   "id": "f125e0e5",
   "metadata": {},
   "source": [
    "## 🌡️ 3. Eşit Aralıklı (Interval) Ölçek\n",
    "\n",
    "### Tanım:\n",
    "\n",
    "Değerler arasında **eşit mesafeler** vardır. Ancak burada **gerçek sıfır noktasi yoktur** . Sıfır, yokluğu ifade etmez.\n",
    "\n",
    "Ölçülen özelliğin belirlenen bir başlangıç noktası ele alınarak  eşit aralıklarla ölçülmesine denir. Ölçme sonuçları üzerinde matematiksel işlem olarak toplama çıkarma yapılabilir.\n",
    "\n",
    "### Özellikler:\n",
    "\n",
    "- **Sıralama var**\n",
    "- **Aralıklar eşit**\n",
    "- **Gerçek sıfır yok**\n",
    "- **Toplama ve çıkarma anlamlıdır** , çarpma/bölme **anlamsızdır**\n",
    "\n",
    "### Örnekler:\n",
    "\n",
    "- Sıcaklık (°C): 20°C, 10°C → 20°C, 10°C'nin iki katı sıcak değildir.\n",
    "- IQ skoru: 120, 60 → 120 puan alan kişi 60 puanlıktan iki kat daha akıllı mı?\n",
    "- Takvim yılları: 2025 - 2020 = 5 yıl fark → mantıklı, ama oranı yok\n",
    "\n",
    "### İstatistiksel İşlem:\n",
    "\n",
    "- **Ortalama, standart sapma, varyans**\n",
    "- **Korelasyon analizleri**"
   ]
  },
  {
   "cell_type": "markdown",
   "id": "197b15f5",
   "metadata": {},
   "source": [
    "## ⚖️ 4. Oranlı (Ratio) Ölçek\n",
    "\n",
    "### Tanım:\n",
    "\n",
    "En gelişmiş ölçme düzeyidir. Hem **eşit aralıklar** , hem de **gerçek bir sıfır noktası** vardır. Sıfır, o özelliğin yokluğunu ifade eder.\n",
    "\n",
    "Ölçülebilen özelliğin belirli bir başlangıç noktası ele alınarak eşit oranlarda ölçülmesine denir.\n",
    "Ölçme sonuçları üzerinde matematiksel olarak toplama çıkarma çarpma bölme yapılabilir.\n",
    "\n",
    "### Özellikler:\n",
    "\n",
    "- **Sıralama var**\n",
    "- **Aralıklar eşit**\n",
    "- **Gerçek sıfır var**\n",
    "- **Tüm matematiksel işlemler anlamlıdır**\n",
    "\n",
    "### Örnekler:\n",
    "\n",
    "- Boy: 180 cm, 90 cm → 180 cm olan kişi, 90 cm’den iki kat boyludur.\n",
    "- Kilo: 80 kg, 40 kg\n",
    "- Yaş: 40, 20\n",
    "- Gelir: 20.000 TL, 10.000 TL\n",
    "- Mesafe: 100 km, 50 km\n",
    "\n",
    "### İstatistiksel İşlem:\n",
    "\n",
    "- **Her şey yapılabilir:** Ortalama, medyan, mod, standart sapma, oran, korelasyon vs.\n",
    "\n",
    "> “Oranlı ölçek; veriyle konuşmanın en net yoludur. Çünkü ‘iki katı’, gerçekten iki katıdır.”"
   ]
  },
  {
   "cell_type": "markdown",
   "id": "d2a30714",
   "metadata": {},
   "source": [
    "## 📋 Özet Tablosu\n",
    "\n",
    "|Ölçek Türü|Sıra Var mı?|Aralık Eşit mi?|Gerçek Sıfır mı?|Yapılabilen İşlemler|\n",
    "|---|---|---|---|---|\n",
    "|**Nominal**|❌|❌|❌|Eşitlik/Eşitsizlik, Frekans|\n",
    "|**Ordinal**|✅|❌|❌|Sıralama, Medyan|\n",
    "|**Interval**|✅|✅|❌|Toplama/Çıkarma, Ortalama|\n",
    "|**Ratio**|✅|✅|✅|Tüm işlemler|\n",
    "\n",
    "\n",
    "\n",
    "# Python Uygulaması: Ölçek Türlerini Tanıyalım"
   ]
  },
  {
   "cell_type": "code",
   "execution_count": 1,
   "id": "1456850a",
   "metadata": {},
   "outputs": [
    {
     "name": "stdout",
     "output_type": "stream",
     "text": [
      "       Ad Cinsiyet  Egitim_Duzeyi  Is_Yili  Memnuniyet_Skoru   Maas  Sicaklik\n",
      "0     Ali    Erkek         Lisans        5                 4  12000        22\n",
      "1    Ayşe    Kadın  Yüksek Lisans        7                 5  15000        25\n",
      "2  Mehmet    Erkek         Lisans        3                 3  10000        20\n"
     ]
    }
   ],
   "source": [
    "import pandas as pd\n",
    "\n",
    "veri = {\n",
    "    \"Ad\": [\"Ali\", \"Ayşe\", \"Mehmet\"],                   # Nominal\n",
    "    \"Cinsiyet\": [\"Erkek\", \"Kadın\", \"Erkek\"],           # Nominal\n",
    "    \"Egitim_Duzeyi\": [\"Lisans\", \"Yüksek Lisans\", \"Lisans\"],  # Ordinal\n",
    "    \"Is_Yili\": [5, 7, 3],                              # Ratio\n",
    "    \"Memnuniyet_Skoru\": [4, 5, 3],                     # Ordinal\n",
    "    \"Maas\": [12000, 15000, 10000],                     # Ratio\n",
    "    \"Sicaklik\": [22, 25, 20]                           # Interval\n",
    "}\n",
    "\n",
    "df = pd.DataFrame(veri)\n",
    "print(df)"
   ]
  },
  {
   "cell_type": "markdown",
   "id": "bcfceee1",
   "metadata": {},
   "source": [
    "📌 Pandas’ta bu değişkenleri tanımlarken şunları düşünmeliyiz:\n",
    "\n",
    "- `Cinsiyet`: Nominal → Kategorik (`category`)\n",
    "- `Egitim_Duzeyi`: Ordinal → Sıralı kategorik (`category` + sıralı=True)\n",
    "- `Maas`: Ratio → Sayısal (`float`, `int`)\n",
    "- `Sicaklik`: Interval → Sayısal\n",
    "\n",
    "\n",
    "\n",
    "Aynı rakam, farklı ölçeklerde farklı şeyler söyleyebilir.\n",
    "O yüzden veriyle çalışırken ilk yapmanız gereken şey, ölçme düzeyini tanımaktır."
   ]
  },
  {
   "cell_type": "markdown",
   "id": "cbe846d8",
   "metadata": {},
   "source": []
  }
 ],
 "metadata": {
  "kernelspec": {
   "display_name": "base",
   "language": "python",
   "name": "python3"
  },
  "language_info": {
   "codemirror_mode": {
    "name": "ipython",
    "version": 3
   },
   "file_extension": ".py",
   "mimetype": "text/x-python",
   "name": "python",
   "nbconvert_exporter": "python",
   "pygments_lexer": "ipython3",
   "version": "3.12.9"
  }
 },
 "nbformat": 4,
 "nbformat_minor": 5
}
