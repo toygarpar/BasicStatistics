{
 "cells": [
  {
   "cell_type": "markdown",
   "id": "20e4bbbb",
   "metadata": {},
   "source": [
    "# 🎯 Mod (Tepe Değer): En Sık Görülenin Tahtası\n",
    "\n",
    "## Giriş: Herkes Ne Giyiyor? En Çok Hangisi Satılıyor?\n",
    "\n",
    "Diyelim ki bir mağazada çalışanlar, hangi ürünün en çok satıldığını öğrenmek istiyor. Ya da bir anket sonucunda katılımcıların en çok tercih ettiği renk nedir diye bakmak istiyorsunuz.\n",
    "\n",
    "İşte tam burada devreye **mod** giriyor. Çünkü mod, bir veri kümesinde **en çok tekrar eden değeri** gösterir.\n",
    "\n",
    "\n",
    "\n",
    "En çok tekrar eden değerdir"
   ]
  },
  {
   "cell_type": "markdown",
   "id": "7930a06d",
   "metadata": {},
   "source": [
    "## 🔍 Mod Nedir?\n",
    "\n",
    "**Mod (tepe değer)**, bir veri kümesinde **en fazla tekrar eden** veya **frekansı en yüksek olan** değerdir.\n",
    "\n",
    "- Nicel (sayısal) ya da nitel (kategorik) verilerde kullanılabilir.\n",
    "- Aykırı değerlere karşı dirençlidir.\n",
    "- Verinin en tipik örneğini gösterir."
   ]
  },
  {
   "cell_type": "markdown",
   "id": "fd29942f",
   "metadata": {},
   "source": [
    "## 🧮 Mod Nasıl Bulunur?\n",
    "\n",
    "### 1. **Verileri İncele**\n",
    "Tüm değerlere göz at.\n",
    "\n",
    "### 2. **Tekrar Sayısını Hesapla**\n",
    "Her değerin kaç kez geçtiğini say.\n",
    "\n",
    "### 3. **En Yüksek Frekanslı Olanı Seç**\n",
    "Bu değer, moddur."
   ]
  },
  {
   "cell_type": "markdown",
   "id": "7e20cc54",
   "metadata": {},
   "source": [
    "## 💡 Gerçek Hayat Örnekleri ile Anlamak\n",
    "\n",
    "### 📊 Örnek 1: Nicel Veri (Sayısal)\n",
    "\n",
    "Sınıf notları:\n",
    "```\n",
    "70, 80, 90, 70, 60, 70, 85\n",
    "```\n",
    "\n",
    "Adım adım:\n",
    "- 70 → 3 kez\n",
    "- Diğerleri → daha az\n",
    "\n",
    "✅ **Mod = 70**"
   ]
  },
  {
   "cell_type": "markdown",
   "id": "05685440",
   "metadata": {},
   "source": [
    "### 🎨 Örnek 2: Nitel Veri (Kategorik)\n",
    "\n",
    "Anket cevapları:\n",
    "```\n",
    "Kırmızı, Mavi, Yeşil, Kırmızı, Mavi, Kırmızı, Sarı\n",
    "```\n",
    "\n",
    "Adım adım:\n",
    "- Kırmızı → 3 kez\n",
    "- Mavi → 2 kez\n",
    "- Diğerleri → 1 kez\n",
    "\n",
    "✅ **Mod = Kırmızı**\n"
   ]
  },
  {
   "cell_type": "markdown",
   "id": "b0be3ce0",
   "metadata": {},
   "source": [
    "### 📈 Örnek 3: Birden Fazla Mod (Çok Modlu)\n",
    "\n",
    "Veri kümesi:\n",
    "```\n",
    "2, 4, 4, 6, 8, 8\n",
    "```\n",
    "\n",
    "Adım adım:\n",
    "- 4 ve 8 → her biri 2 kez\n",
    "\n",
    "✅ **Modlar = 4 ve 8**  \n",
    "📌 Bu tür veri kümelerine **bimodal** denir."
   ]
  },
  {
   "cell_type": "markdown",
   "id": "fae84920",
   "metadata": {},
   "source": [
    "## 📊 Modun Özellikleri\n",
    "\n",
    "| Özellik | Açıklama |\n",
    "|--------|----------|\n",
    "| ✅ Hem nicel hem nitel veride kullanılır | Sayısal olmayan verilerde bile işe yarar |\n",
    "| ✅ Aykırı değerlere dayanıklı | Uç değerlerden etkilenmez |\n",
    "| ✅ En tipik değeri gösterir | \"En sık görülen\" neyse o |\n",
    "| ⚠️ Birden fazla mod olabilir | Bimodal veya multimodal olabilir |\n",
    "| ❌ Tüm dağılımı yansıtmaz | Sadece en sık tekrar edeni gösterir |\n"
   ]
  },
  {
   "cell_type": "markdown",
   "id": "c143616b",
   "metadata": {},
   "source": [
    "## 📈 Medyan, Ortalama ve Mod Arasındaki Fark\n",
    "\n",
    "| Ölçü | Açıklama | Kullanım Alanı |\n",
    "|------|----------|----------------|\n",
    "| **Ortalama** | Tüm verilerin ortalamasıdır | Normal dağılımda |\n",
    "| **Medyan** | Ortadaki değerdir | Aykırı değer varsa |\n",
    "| **Mod** | En çok tekrar eden değerdir | En popüler olanı bulmak için |\n",
    "\n",
    "📌 **Özet:**  \n",
    "- Ortalama → genel eğilim  \n",
    "- Medyan → gerçek merkez  \n",
    "- Mod → en popüler, en sık tekrarlanan  "
   ]
  },
  {
   "cell_type": "markdown",
   "id": "ff73f497",
   "metadata": {},
   "source": [
    "## 🛍️ Mod Nerelerde Kullanılır?\n",
    "\n",
    "| Alan | Kullanım Yeri |\n",
    "|------|----------------|\n",
    "| **Pazarlama** | En çok satılan ürün |\n",
    "| **Anketler** | En yaygın tercih |\n",
    "| **Giyim & Moda** | En çok tercih edilen beden |\n",
    "| **Eğitim** | En çok alınan not |\n",
    "| **Kalite Kontrol** | En sık görülen hata türü |\n"
   ]
  },
  {
   "cell_type": "code",
   "execution_count": 1,
   "id": "a77a7007",
   "metadata": {},
   "outputs": [
    {
     "name": "stdout",
     "output_type": "stream",
     "text": [
      "Tek mod: 70\n",
      "Birden fazla mod: [4, 8]\n"
     ]
    }
   ],
   "source": [
    "# Python Uygulaması: Mod Nasıl Hesaplanır?\n",
    "\n",
    "from statistics import mode, multimode\n",
    "\n",
    "# Örnek 1 - Tek mod\n",
    "veri1 = [70, 80, 90, 70, 60, 70, 85]\n",
    "print(\"Tek mod:\", mode(veri1))\n",
    "\n",
    "# Örnek 2 - Birden fazla mod\n",
    "veri2 = [2, 4, 4, 6, 8, 8]\n",
    "print(\"Birden fazla mod:\", multimode(veri2))"
   ]
  },
  {
   "cell_type": "markdown",
   "id": "cd508b57",
   "metadata": {},
   "source": [
    "“Mod, veri dünyasında trendleri yakalamanın en kolay yoludur. Popüler olanı, en çok tercih edileni, en çok görüleni arıyorsanız, mod ilk bakacağınız yerdir.”"
   ]
  },
  {
   "cell_type": "markdown",
   "id": "cc24bb37",
   "metadata": {},
   "source": []
  }
 ],
 "metadata": {
  "kernelspec": {
   "display_name": "base",
   "language": "python",
   "name": "python3"
  },
  "language_info": {
   "codemirror_mode": {
    "name": "ipython",
    "version": 3
   },
   "file_extension": ".py",
   "mimetype": "text/x-python",
   "name": "python",
   "nbconvert_exporter": "python",
   "pygments_lexer": "ipython3",
   "version": "3.12.9"
  }
 },
 "nbformat": 4,
 "nbformat_minor": 5
}
