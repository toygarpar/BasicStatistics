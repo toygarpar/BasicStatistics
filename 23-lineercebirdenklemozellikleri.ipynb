{
 "cells": [
  {
   "cell_type": "markdown",
   "id": "f0ba8f5d",
   "metadata": {},
   "source": [
    "# 🧮 Lineer Denklem: Doğruyu Kurmak\n",
    "\n",
    "## Giriş: Dünyayı Açıklamak İçin Hangi Dili Kullanıyoruz?\n",
    "\n",
    "Diyelim ki bir market sahibisin. Her gün 8 TL’ye satılan bir ürün alıp 10 TL'ye satıyorsun. Karını hesaplamak istiyorsun.\n",
    "\n",
    "Yani:\n",
    "```\n",
    "Kar = 10x - 8x = 2x\n",
    "```\n",
    "\n",
    "Bu bir lineer denklemdir.  \n",
    "Yani basitçe: “Verilen(leri) şeyleri kullanarak, bilinmeyen olanı bul!”\n",
    "\n"
   ]
  },
  {
   "cell_type": "markdown",
   "id": "28e2274a",
   "metadata": {},
   "source": [
    "# Lineer Denklem Özellikleri:\n",
    "\n",
    "8x + 5y + 3 = 0      - Değişkenler 1. dereceden olmalıdırlar\n",
    "\n",
    "3x +5xy + 15 = 0  - Değişkenlerde xy çarpımı bulunmamalı\n",
    "\n",
    "x/y + 3y + 22 = 0 - Değişkenlerde x/y gibi bir ifade yer almamalı\n",
    "\n",
    "\n",
    "\n",
    "Lineer denklemler, matematikte en temel ve en çok kullanılan denklem türlerinden biridir. Bu denklemlerin çeşitli özellikleri, onları analiz etmemizi, çözmemizi ve farklı bağlamlarda uygulamamızı sağlar.\n",
    "\n",
    "\n",
    "\n",
    "Bir olayın belirli bir orana göre ilerlemesine doğrusal denir\n",
    "\n",
    "a₁x₁ + a₂x₂ + ... + aₙxₙ = b\n",
    "\n",
    "### Genel Formülü:\n",
    "$$\n",
    "a_1x_1 + a_2x_2 + \\dots + a_nx_n = b\n",
    "$$\n",
    "\n",
    "- $a_i$: Katsayılar (sabit sayılar)\n",
    "- $x_i$: Bilinmeyenler (değişkenler)\n",
    "- $b$: Sabit terim\n"
   ]
  },
  {
   "cell_type": "markdown",
   "id": "54835f34",
   "metadata": {},
   "source": [
    "## 🧠 Doğrusal mı? Yoksa Doğrusal Olmayan mı?\n",
    "\n",
    "| Denklem | Doğrusal mı? | Neden?\n",
    "|--------|----------------|---------|\n",
    "| `8x + 5y + 3 = 0` | ✅ Evet | Tüm değişkenler 1. dereceden |\n",
    "| `3x + 5xy + 15 = 0` | ❌ Hayır | `xy` çarpımı var → doğrusallık bozuldu |\n",
    "| `x/y + 3y + 22 = 0` | ❌ Hayır | Bölme işlemi var → doğrusal değil |\n",
    "\n",
    "📌 Lineerlik için kural çok açık:\n",
    "> **Değişkenler sadece toplanmalı ve sabit sayıyla çarpılmalı.**\n"
   ]
  },
  {
   "cell_type": "markdown",
   "id": "d697dd0c",
   "metadata": {},
   "source": [
    "## 📈 Lineer Denklemin Grafiksel Anlamı\n",
    "\n",
    "| Sayısı | Gösterimi | Grafiği |\n",
    "|-------|------------|----------|\n",
    "| 1 değişkenli (`ax + b = 0`) | Sayı doğrusu | Tek nokta |\n",
    "| 2 değişkenli (`ax + by = c`) | Koordinat düzlemi | Doğru |\n",
    "| 3 değişkenli (`ax + by + cz = d`) | Uzayda gösterim | Düzlem |\n",
    "\n",
    "📌 İpucu:\n",
    "> İki değişkenli denklemleri çözmek demek, iki doğrunun kesişimini bulmak demek."
   ]
  },
  {
   "cell_type": "markdown",
   "id": "594ddf1f",
   "metadata": {},
   "source": [
    "## 💡 Gerçek Hayat Örneği: Market Kazancı\n",
    "\n",
    "Bir bakkalsın:\n",
    "\n",
    "- Ekmek tanesi 4 TL'den geliyor\n",
    "- Sattığında 6 TL kazanıyorsun\n",
    "- Giderlerin var: 500 TL\n",
    "\n",
    "Kazancı şu şekilde modellenebilir:\n",
    "```\n",
    "Toplam kar = (Satış Fiyatı – Alış Fiyatı) × Satış Adedi – Giderler\n",
    "→ Kar = (6 – 4)x – 500 = 2x – 500\n",
    "```\n",
    "\n",
    "👉 Kar sıfıra eşit olduğunda ne olur?\n",
    "\n",
    "```\n",
    "2x – 500 = 0 → x = 250\n",
    "```\n",
    "\n",
    "✅ Demek ki 250 ekmek sattığında başabaş noktasına ulaşıyorsun.\n"
   ]
  },
  {
   "cell_type": "markdown",
   "id": "ad068afa",
   "metadata": {},
   "source": [
    "## 🎯 Çözüm Kümesi Ne Demek?\n",
    "\n",
    "Birkaç denklemle çalışırken birkaç farklı durumla karşılaşabilirsin:\n",
    "\n",
    "| Durum | Açıklama | Grafiği |\n",
    "|--------|----------|----------|\n",
    "| **Tek çözüm** | Denklemler tek bir noktada kesişiyor | ↗️ ↔️ ↘️ |\n",
    "| **Sonsuz çözüm** | Denklemler aynı doğruyu ifade ediyor | ↗️ == ↗️ |\n",
    "| **Çözüm yok** | Paralel doğrular → asla kesişmezler | ⇄ ⇄ |\n",
    "\n",
    "\n",
    "- Tek değişkenli bir lineer denklemin genellikle tek bir çözümü vardır: `x = -b/a`.\n",
    "- İki veya daha fazla değişkenli lineer denklemlerin ise üç olası çözüm durumu vardır:\n",
    "    - **Tek Çözüm:** Doğrular (veya düzlemler) tek bir noktada kesişir.\n",
    "    - **Sonsuz Çözüm:** Doğrular (veya düzlemler) çakışıktır (aynıdır).\n",
    "    - **Çözüm Yok:** Doğrular (veya düzlemler) paraleldir ve kesişmezler.\n",
    "\n",
    "\n",
    "\n",
    "\n",
    "    Doğrusallık Özelliği:\n",
    "\n",
    "Lineer denklemler, doğrusallık özelliğini taşır. Bu, denklemin her iki tarafına aynı sayıyı ekleyebileceğimiz, çıkarabileceğimiz, çarpabileceğimiz veya bölebileceğimiz anlamına gelir (sıfıra bölme hariç). Bu özellik, denklemleri çözmek için temel bir araçtır. Örneğin:\n",
    "\n",
    "```\n",
    "ax + b = c\n",
    "\n",
    "ax = c - b  (Her iki taraftan b çıkarıldı)\n",
    "\n",
    "x = (c - b) / a (Her iki taraf a'ya bölündü)\n",
    "```\n",
    "\n",
    "\n"
   ]
  },
  {
   "cell_type": "markdown",
   "id": "cc440664",
   "metadata": {},
   "source": [
    "## 🛠️ Lineer Denklemi Çözmek: Adım Adım Yöntemler\n",
    "\n",
    "### 1. Yerine Koyma Yöntemi\n",
    "Bir değişkeni diğeri cinsinden yaz, diğer denklemde yerine koy!\n",
    "\n",
    "Örnek:\n",
    "```\n",
    "x + y = 7  \n",
    "2x - y = 5\n",
    "```\n",
    "\n",
    "1. İlk denklemden: `y = 7 - x`\n",
    "2. İkinci denklemde yerine koy: `2x - (7 - x) = 5`\n",
    "3. Hesapla: `3x - 7 = 5 → x = 4`\n",
    "4. Bulduğuna göre `y = 3`\n",
    "\n",
    "✅ Sonuç: `(4, 3)`\n"
   ]
  },
  {
   "cell_type": "markdown",
   "id": "572b8704",
   "metadata": {},
   "source": [
    "### 2. Yok Etme Yöntemi\n",
    "Denklemleri alt alta yaz, bir değişkeni ortadan kaldır!\n",
    "\n",
    "```\n",
    "x + y = 7  \n",
    "2x – y = 5\n",
    "```\n",
    "\n",
    "Toplamakla:\n",
    "```\n",
    "(1x + 2x) + (1y – 1y) = 7 + 5  \n",
    "3x = 12 → x = 4\n",
    "```\n",
    "\n",
    "✅ Aynı sonuca hızlıca ulaştık."
   ]
  },
  {
   "cell_type": "markdown",
   "id": "d0a76a5a",
   "metadata": {},
   "source": [
    "### 3. Matris Yöntemi ile Çözmek\n",
    "\n",
    "Aynı denklemi matris haline getirelim:\n",
    "\n",
    "$$\n",
    "\\begin{bmatrix}\n",
    "1 & 1 \\\\\n",
    "2 & -1\n",
    "\\end{bmatrix}\n",
    "\\cdot\n",
    "\\begin{bmatrix}\n",
    "x \\\\\n",
    "y\n",
    "\\end{bmatrix}\n",
    "=\n",
    "\\begin{bmatrix}\n",
    "7 \\\\\n",
    "5\n",
    "\\end{bmatrix}\n",
    "$$\n",
    "\n",
    "Python koduyla daha hızlı çözebiliriz:"
   ]
  },
  {
   "cell_type": "code",
   "execution_count": 1,
   "id": "84d45de8",
   "metadata": {},
   "outputs": [
    {
     "name": "stdout",
     "output_type": "stream",
     "text": [
      "x = 4.0\n",
      "y = 3.0\n"
     ]
    }
   ],
   "source": [
    "import numpy as np\n",
    "\n",
    "A = np.array([[1, 1], [2, -1]])\n",
    "B = np.array([7, 5])\n",
    "\n",
    "cozum = np.linalg.solve(A, B)\n",
    "print(\"x =\", cozum[0])\n",
    "print(\"y =\", cozum[1])"
   ]
  },
  {
   "cell_type": "markdown",
   "id": "f28e2700",
   "metadata": {},
   "source": [
    "📌 Bu yöntem büyük sistemlerde işe yarar."
   ]
  },
  {
   "cell_type": "markdown",
   "id": "bff20701",
   "metadata": {},
   "source": [
    "## 🧭 Homojen mi, Homojen Olmayan mı?\n",
    "\n",
    "| Tür | Açıklama | Örnek |\n",
    "|------|----------|--------|\n",
    "| **Homojen** | Sabit terim yok → hepsi sıfıra bağlı | `2x + 3y = 0` |\n",
    "| **Homojen değil** | Sabit terim var → gerçek dünya modeli | `2x + 3y = 10` |\n",
    "\n",
    "\n",
    "- Eğer bir lineer denklemin sabit terimi sıfır ise (`b = 0`), denklem **homojen** olarak adlandırılır. Örneğin: `ax = 0` veya `ax + by = 0`. Homojen denklemlerin her zaman en az bir çözümü vardır: tüm değişkenlerin sıfır olduğu çözüm (trivial çözüm).\n",
    "- Eğer sabit terim sıfırdan farklı ise (`b ≠ 0`), denklem **homojen olmayan** olarak adlandırılır. Örneğin: `ax + b = c` (c ≠ 0)."
   ]
  },
  {
   "cell_type": "code",
   "execution_count": 2,
   "id": "9a7d71f2",
   "metadata": {},
   "outputs": [
    {
     "name": "stdout",
     "output_type": "stream",
     "text": [
      "x = 4.0, y = 3.0\n"
     ]
    }
   ],
   "source": [
    "# Python ile Lineer Denklem Sistemini Çözmek\n",
    "\n",
    "import numpy as np\n",
    "\n",
    "# Denklem sistemi:\n",
    "# x + y = 7\n",
    "# 2x - y = 5\n",
    "\n",
    "A = np.array([[1, 1], [2, -1]])\n",
    "B = np.array([7, 5])\n",
    "\n",
    "# Çözüm:\n",
    "x, y = np.linalg.solve(A, B)\n",
    "print(f\"x = {x}, y = {y}\")"
   ]
  },
  {
   "cell_type": "markdown",
   "id": "436df7c3",
   "metadata": {},
   "source": [
    "## 📊 Lineer Denklemlerin Gücü\n",
    "\n",
    "| Alan | Ne Zaman Kullanılır? |\n",
    "|------|------------------------|\n",
    "| **Fizik** | Newton’un hareket yasaları |\n",
    "| **Mühendislik** | Yapıların denge denklemleri |\n",
    "| **Ekonomi** | Arz-talep denge noktaları |\n",
    "| **Veri Bilimi** | Regresyon denklemleri |\n",
    "| **Finans** | Faiz oranları, yatırım modelleri |\n"
   ]
  },
  {
   "cell_type": "markdown",
   "id": "7b5608a2",
   "metadata": {},
   "source": [
    "## 🤔 Süperpozisyon Prensibi Nedir (Ekstra Derinlik)?\n",
    "\n",
    "Eğer elimizde birden fazla çözüm varsa, onların kombinasyonu da çözüm olabilir.\n",
    "\n",
    "Örnek:\n",
    "```\n",
    "x + y = 0 denklemi için:\n",
    "→ (1, -1) çözüm mü? Evet  \n",
    "→ (2, -2) çözüm mü? Evet  \n",
    "→ Toplamı alalım: (3, -3) → hâlâ çözüm\n",
    "\n",
    "```\n",
    "\n",
    "📌 Eğer bir lineer denklem sisteminin iki farklı çözümü varsa, bu çözümlerin herhangi bir doğrusal kombinasyonu da sistemin bir çözümüdür. Bu prensip, özellikle mühendislik ve fizikteki lineer sistemlerin analizinde önemlidir."
   ]
  },
  {
   "cell_type": "code",
   "execution_count": null,
   "id": "f38a7bd3",
   "metadata": {},
   "outputs": [],
   "source": []
  }
 ],
 "metadata": {
  "kernelspec": {
   "display_name": "base",
   "language": "python",
   "name": "python3"
  },
  "language_info": {
   "codemirror_mode": {
    "name": "ipython",
    "version": 3
   },
   "file_extension": ".py",
   "mimetype": "text/x-python",
   "name": "python",
   "nbconvert_exporter": "python",
   "pygments_lexer": "ipython3",
   "version": "3.12.9"
  }
 },
 "nbformat": 4,
 "nbformat_minor": 5
}
