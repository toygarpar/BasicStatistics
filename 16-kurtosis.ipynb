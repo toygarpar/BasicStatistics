{
 "cells": [
  {
   "cell_type": "markdown",
   "id": "bb2febf3",
   "metadata": {},
   "source": [
    "# 📈 Basıklık (Kurtosis): Dağılımın Sivriliği\n",
    "\n",
    "## Giriş: Veri Nerede Yoğunlaşıyor?\n",
    "\n",
    "Diyelim ki bir sınava giren öğrencilerin notlarını inceledin. Ortalama ve medyan neredeyse aynı ama bazı notlar çok yüksek ya da çok düşük çıktı. Bu durumda verinin kuyruklarında ne kadar yoğunlaşma var? İşte tam burada devreye **basıklık** giriyor.\n",
    "\n",
    "> “Basıklık, verinin ortalama etrafında nasıl toplandığını gösteren göstergedir. Sivri mi, yoksa basık mı?”  \n",
    "\n",
    "Dağılımın sivriliğini gösterir."
   ]
  },
  {
   "cell_type": "markdown",
   "id": "fe8b2444",
   "metadata": {},
   "source": [
    "## 🔍 Basıklık Nedir?\n",
    "\n",
    "**Basıklık (kurtosis)**, bir dağılımın ortalamaya göre **ne kadar sivri veya basık olduğunu** ölçen istatistiksel bir ölçüdür.\n",
    "\n",
    "- **Sivri dağılım → Leptokurtik → Uç değerler daha sık**\n",
    "- **Normal dağılım → Mezokurtik → Dengeli**\n",
    "- **Basık dağılım → Platikurtik → Daha az uç değer**\n",
    "\n",
    "📌 Yani:\n",
    "- Eğer veri ortada çok toplanmışsa → sivri\n",
    "- Eğer veri daha geniş yayılmışsa → basık"
   ]
  },
  {
   "cell_type": "markdown",
   "id": "ad3e7f9d",
   "metadata": {},
   "source": [
    "## 🧮 Basıklık Nasıl Hesaplanır?\n",
    "\n",
    "### Temel Formül:\n",
    "\n",
    "$$\n",
    "\\text{Kurtosis} = \\frac{\\sum(x_i - \\bar{x})^4 / n}{\\sigma^4}\n",
    "$$\n",
    "\n",
    "Bu formülde:\n",
    "- $x_i$: Her bir veri noktası\n",
    "- $\\bar{x}$: Ortalama\n",
    "- $\\sigma$: Standart sapma\n",
    "- $n$: Veri sayısı\n",
    "\n",
    "📌 Ancak çoğu zaman **fazla basıklık (excess kurtosis)** kullanılır:\n",
    "- Fazla basıklık = Kurtosis - 3\n",
    "- Bu sayede normal dağılım için **0** değeri elde edilir."
   ]
  },
  {
   "cell_type": "markdown",
   "id": "99ad8935",
   "metadata": {},
   "source": [
    "## 💡 Gerçek Hayat Örnekleriyle Anlamak\n",
    "\n",
    "### 🎯 Örnek 1: Sınav Notları (Leptokurtik - Sivri)\n",
    "\n",
    "Notlar: `85, 88, 90, 92, 93, 95, 95, 96, 97, 98`\n",
    "\n",
    "- Ortalama = 92.5\n",
    "- Pek çok kişi ortalama civarında not aldı\n",
    "- Çok yüksek ve çok düşük not yok\n",
    "\n",
    "✅ Bu tür dağılımlara **leptokurtik** denir.  \n",
    "👉 Ortada yüksek tepe var, kuyruklar kalın değil ama uç değerler olabilir."
   ]
  },
  {
   "cell_type": "markdown",
   "id": "5b1f92e6",
   "metadata": {},
   "source": [
    "### 📉 Örnek 2: Hisselerde Getiri (Platikurtik - Basık)\n",
    "\n",
    "Getiriler: `-10%, -5%, -2%, 0%, +2%, +5%, +10%`\n",
    "\n",
    "- Değerler geniş aralıkta yayılmış\n",
    "- Ortada tek bir tepe yok\n",
    "- Uç değerler seyrekte\n",
    "\n",
    "✅ Bu tür dağılımlara **platikurtik** denir.  \n",
    "👉 Daha dengeli ama tahmin edilemezlik fazla."
   ]
  },
  {
   "cell_type": "markdown",
   "id": "eb0b52a1",
   "metadata": {},
   "source": [
    "## 📊 Basıklık Türleri\n",
    "\n",
    "| Tür | Açıklama | Grafik Görseli |\n",
    "|-----|----------|----------------|\n",
    "| **Mezokurtik** | Normal dağılım | Orta tepe, dengeli kuyruk |\n",
    "| **Leptokurtik** | Sivri tepe, kalın kuyruk | Uç değerler sıkça görülür |\n",
    "| **Platikurtik** | Düşük tepe, ince kuyruk | Yayılım geniş |\n",
    "\n",
    "📌 Görsel olarak şöyle düşün:\n",
    "\n",
    "```\n",
    "Leptokurtik:   ▲▲▲     → Sivri tepede toplanmış\n",
    "Mezokurtik:    ▲▲▲     → Normal çan eğrisi\n",
    "Platikurtik:  ▲   ▲     → Geniş yayılım, zayıf tepe\n",
    "```\n"
   ]
  },
  {
   "cell_type": "markdown",
   "id": "b1f71a4e",
   "metadata": {},
   "source": [
    "## 📈 Fazla Basıklık (Excess Kurtosis) ile Yorumlama\n",
    "\n",
    "| Aralık | Anlamı |\n",
    "|--------|---------|\n",
    "| **≈ 0** | Normal dağılım (Mezokurtik) |\n",
    "| **> 0** | Sivri dağılım (Leptokurtik) |\n",
    "| **< 0** | Basık dağılım (Platikurtik) |\n",
    "\n",
    "📌 Örnek:\n",
    "- **Fazla basıklık = 1.5** → Sivri tepe, uç değerler sıkça\n",
    "- **Fazla basıklık = -1** → Düzleşmiş tepe, uç değerler nadir\n"
   ]
  },
  {
   "cell_type": "markdown",
   "id": "2689b61f",
   "metadata": {},
   "source": [
    "## 📌 Nerelerde Kullanılır?\n",
    "\n",
    "| Alan | Kullanım Yeri |\n",
    "|------|----------------|\n",
    "| **Finans** | Hisse senedi getirilerinde risk analizi |\n",
    "| **Sigortacılık** | Sigorta taleplerinin dağılımı |\n",
    "| **Meteoroloji** | Rüzgar hızı, yağış miktarı gibi olayların sıklığı |\n",
    "| **Veri Bilimi** | Özelliklerin dağılımının anlaşılması |\n",
    "| **Mühendislik** | Sistem performansındaki varyasyonun incelenmesi |\n"
   ]
  },
  {
   "cell_type": "code",
   "execution_count": 2,
   "id": "6c1f43b0",
   "metadata": {},
   "outputs": [
    {
     "name": "stdout",
     "output_type": "stream",
     "text": [
      "Fazla basıklık: -0.71\n"
     ]
    }
   ],
   "source": [
    "# Python Uygulaması: Basıklığı Hesaplayalım\n",
    "\n",
    "import numpy as np\n",
    "from scipy.stats import kurtosis\n",
    "\n",
    "veri = [85, 88, 90, 92, 93, 95, 95, 96, 97, 98]\n",
    "\n",
    "basiklik = kurtosis(veri, fisher=True)  # Fisher=True → fazla basıklık\n",
    "print(f\"Fazla basıklık: {basiklik:.2f}\")\n"
   ]
  },
  {
   "cell_type": "markdown",
   "id": "2adc8bdc",
   "metadata": {},
   "source": [
    "📌 `fisher=True` seçeneği fazla basıklık (excess kurtosis) hesaplaması yapar.  \n",
    "📌 `fisher=False` ise ham kurtosis’i verir."
   ]
  },
  {
   "cell_type": "markdown",
   "id": "5e3896ec",
   "metadata": {},
   "source": [
    "## 📉 Basıklık ile Çarpıklık Arasındaki Fark\n",
    "\n",
    "| Özellik | Çarpıklık | Basıklık |\n",
    "|--------|-----------|----------|\n",
    "| Ne ölçer? | Simetri eksikliği | Sivrilik/basıklık |\n",
    "| Değer aralığı | Negatiften pozitife değişir | Negatiften pozitife değişir |\n",
    "| Yüksek değer ne anlama gelir? | Uzayan kuyruk var | Sivri tepe ve kalın kuyruk var |\n",
    "| Düşük değer ne anlama gelir? | Ters yönde çarpılma | Daha düzgün yayılım |\n"
   ]
  },
  {
   "cell_type": "markdown",
   "id": "a3185e27",
   "metadata": {},
   "source": [
    "## 📊 Basıklık ile İlgili Pratik Bilgiler\n",
    "\n",
    "| Terim | Açıklama |\n",
    "|-------|-----------|\n",
    "| **Leptokurtik** | Sivri tepe → veriler merkeze yakın toplanmış |\n",
    "| **Mezokurtik** | Normal dağılım → ideal çan eğrisi |\n",
    "| **Platikurtik** | Düz tepe → veriler geniş alana yayılmış |\n",
    "\n",
    "📌 Finansal getiriler eğer leptokurtik ise, **daha fazla risk** anlamına gelir."
   ]
  },
  {
   "cell_type": "code",
   "execution_count": 3,
   "id": "99fdddd1",
   "metadata": {},
   "outputs": [
    {
     "data": {
      "image/png": "[encoded data removed]",
      "text/plain": [
       "<Figure size 640x480 with 1 Axes>"
      ]
     },
     "metadata": {},
     "output_type": "display_data"
    }
   ],
   "source": [
    "# Histogram ile Görselleştirme\n",
    "\n",
    "import matplotlib.pyplot as plt\n",
    "\n",
    "plt.hist(veri, bins=10, color='lightgreen', edgecolor='black')\n",
    "plt.title(\"Not Dağılımı\")\n",
    "plt.xlabel(\"Not\")\n",
    "plt.ylabel(\"Frekans\")\n",
    "plt.show()\n",
    "\n",
    "# Histogram üzerinden tepe noktasını ve kuyrukları gözlemleyerek dağılımın şeklini tahmin edebilirsin."
   ]
  },
  {
   "cell_type": "markdown",
   "id": "92d3beab",
   "metadata": {},
   "source": [
    " “Basıklık, verinin ‘nerede kaldığını’ gösteren haritadır. Sivriyse veri merkeze çok yakındır, basıksa uzaktır.”"
   ]
  },
  {
   "cell_type": "markdown",
   "id": "e031dc8f",
   "metadata": {},
   "source": []
  }
 ],
 "metadata": {
  "kernelspec": {
   "display_name": "base",
   "language": "python",
   "name": "python3"
  },
  "language_info": {
   "codemirror_mode": {
    "name": "ipython",
    "version": 3
   },
   "file_extension": ".py",
   "mimetype": "text/x-python",
   "name": "python",
   "nbconvert_exporter": "python",
   "pygments_lexer": "ipython3",
   "version": "3.12.9"
  }
 },
 "nbformat": 4,
 "nbformat_minor": 5
}
