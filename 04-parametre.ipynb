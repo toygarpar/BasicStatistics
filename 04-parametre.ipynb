{
 "cells": [
  {
   "cell_type": "markdown",
   "id": "f2c48b2b",
   "metadata": {},
   "source": [
    "# 🔢 Parametre: Ana Kütledeki Gizli Gerçek Sayı\n",
    "\n",
    "## Gerçek Sayıyı Biliyor musun?\n",
    "\n",
    "Bir ülkede herkesin ortalama gelirini bilmek istiyorsun. Fakat bu ülkede 80 milyon kişi var. Herkese ulaşmak mümkün değil. O zaman ne yaparsın? Bir örnekleme başvurursın. Ama asıl sayıyı, yani “gerçek ortalama geliri” bulamazsın. Çünkü o sayı, **ana kütle parametresidir** , gizlidir."
   ]
  },
  {
   "cell_type": "markdown",
   "id": "522e0c2e",
   "metadata": {},
   "source": [
    "## 📌 Parametre Nedir?\n",
    "\n",
    "**Parametre** , bir **ana kütlenin gerçek ve sabit sayısal özelliğidir** .  Yani tüm evreni temsil eden bir ölçüdür. Genellikle Yunan alfabesiyle gösterilir:\n",
    "\n",
    "|Özellik|Sembol|Açıklama|\n",
    "|---|---|---|\n",
    "|Ortalama|μ (mu)|Ana kütle ortalaması|\n",
    "|Standart Sapma|σ (sigma)|Ana kütle standart sapması|\n",
    "|Varyans|σ² (sigma kare)|Yayılım ölçüsü|\n",
    "|Oran|P|Belirli bir özelliği taşıyanların oranı|\n",
    "|Korelasyon|ρ (ro)|İki değişken arasındaki ilişki|\n",
    "\n",
    "Parametre, ana kütleye ait tek ve sabit bir gerçektir.\n",
    "\n",
    "Ana kütlenin gerçek sayısal özelliğidir"
   ]
  },
  {
   "cell_type": "markdown",
   "id": "7df0624d",
   "metadata": {},
   "source": [
    "## 💡 Örnek ile Anlamak\n",
    "\n",
    "### 🎯 Türkiye'deki üniversite öğrencilerinin yaş ortalaması nedir?\n",
    "\n",
    "- **Ana kütle:** Türkiye’deki tüm üniversite öğrencileri → N = 7 milyon\n",
    "- **Parametre:** Gerçek ortalama yaş → μ = ?  \n",
    "    (Bu sayıyı tam olarak bilemeyiz çünkü tamsayım yapılamaz.)"
   ]
  },
  {
   "cell_type": "markdown",
   "id": "c2a61ace",
   "metadata": {},
   "source": [
    "## ⚖️ Parametre mi, İstatistik mi?\n",
    "\n",
    "|Terim|Tanım|Kimden elde edilir?|Nasıl gösterilir?|\n",
    "|---|---|---|---|\n",
    "|**Parametre**|Ana kütlenin gerçek sayısıdır|Ana kütle|Yunan harfleri (μ, σ, P)|\n",
    "|**İstatistik**|Örneklemden hesaplanan tahmini değerdir|Örneklem|Latin harfleri (x̄, s, p)|\n",
    "\n",
    "### Örnek:\n",
    "\n",
    "- Ana kütle ortalaması: **μ**\n",
    "- Örneklem ortalaması: **x̄** (x bar)\n",
    "- Ana kütle standart sapması: **σ**\n",
    "- Örneklem standart sapması: **s**\n",
    "\n",
    "> “Parametre bir gerçeklik, istatistik ise ona yaklaşmanın yolu.”"
   ]
  },
  {
   "cell_type": "markdown",
   "id": "72027760",
   "metadata": {},
   "source": [
    "## 🧠 Parametreleri Neden Kullanıyoruz?\n",
    "\n",
    "Çünkü:\n",
    "\n",
    "- **Parametreler** , ana kütlenin genel yapısını anlamamızı sağlar.\n",
    "- Gerçek değeri bulmak çok zor olduğundan, **istatistiklerle tahmin ederiz** .\n",
    "- Parametreler sabittir ama biz onlara farklı örneklemelerle yaklaşıp anlayabiliriz.\n",
    "\n",
    "---\n",
    "\n",
    "## 📊 Tablo ile Karşılaştırma\n",
    "\n",
    "|Özellik|Parametre|İstatistik|\n",
    "|---|---|---|\n",
    "|Kaynağı|Ana kütle|Örneklem|\n",
    "|Sabit mi?|Evet|Hayır (örnekleme göre değişebilir)|\n",
    "|Gösterimi|Yunan harfi|Latin harfi|\n",
    "|Örnek|μ = 25.4 yaş|x̄ = 26.1 yaş|\n",
    "|Kullanımı|Gerçek durumu tanımlar|Tahmin için kullanılır|\n"
   ]
  },
  {
   "cell_type": "markdown",
   "id": "bb66046e",
   "metadata": {},
   "source": [
    "# Basit Python Uygulaması: Parametre vs İstatistik\n",
    "\n",
    "Önceki örnekten devam edelim. Diyelim ki gerçek ana kütle ortalaması μ = 350 TL . Ancak biz bunu bilmiyoruz. Onun yerine bir örneklem alarak bu değeri tahmin edeceğiz."
   ]
  },
  {
   "cell_type": "code",
   "execution_count": 4,
   "id": "6cb4f35d",
   "metadata": {},
   "outputs": [
    {
     "name": "stdout",
     "output_type": "stream",
     "text": [
      "Gerçek parametre (μ): 349.63 TL\n",
      "Tahmini istatistik (x̄): 347.57 TL\n"
     ]
    }
   ],
   "source": [
    "# Bu kodda, ana kütleden aldığımız gerçek ortalama olan parametreyi ve örneklem üzerinden hesapladığımız istatistiği karşılaştırıyoruz.\n",
    "\n",
    "import random\n",
    "import numpy as np\n",
    "\n",
    "# Ana kütleyi oluşturalım (gizli gerçek dünya)\n",
    "ana_kitle = [random.gauss(350, 100) for _ in range(10000)]  # μ=350, σ=100\n",
    "\n",
    "# Gerçek parametre: Ana kütle ortalaması\n",
    "gercek_ortalama = np.mean(ana_kitle)\n",
    "print(f\"Gerçek parametre (μ): {gercek_ortalama:.2f} TL\")\n",
    "\n",
    "# Rastgele örneklem alma\n",
    "orneklem = random.sample(ana_kitle, 500)\n",
    "\n",
    "# İstatistik: Örneklem ortalaması\n",
    "tahmini_ortalama = np.mean(orneklem)\n",
    "print(f\"Tahmini istatistik (x̄): {tahmini_ortalama:.2f} TL\")\n",
    "\n",
    "\n",
    "# Parametre, veri dünyasındaki ‘gerçek’ rakamdır. Ama bu gerçek çoğu zaman bize doğrudan görünmez. Onun için de örneklem alır, istatistik hesaplarız. "
   ]
  },
  {
   "cell_type": "code",
   "execution_count": null,
   "id": "ed421e5b",
   "metadata": {},
   "outputs": [],
   "source": []
  }
 ],
 "metadata": {
  "kernelspec": {
   "display_name": "base",
   "language": "python",
   "name": "python3"
  },
  "language_info": {
   "codemirror_mode": {
    "name": "ipython",
    "version": 3
   },
   "file_extension": ".py",
   "mimetype": "text/x-python",
   "name": "python",
   "nbconvert_exporter": "python",
   "pygments_lexer": "ipython3",
   "version": "3.12.9"
  }
 },
 "nbformat": 4,
 "nbformat_minor": 5
}
