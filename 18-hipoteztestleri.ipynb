{
 "cells": [
  {
   "cell_type": "markdown",
   "id": "4d0b0e6b",
   "metadata": {},
   "source": [
    "# 🔍 Hipotez Testleri: Gerçek mi, Rastlantı mı, Boş Bir İddia mı?\n",
    "\n",
    "## Giriş: Veriyle Karar Almak\n",
    "\n",
    "Diyelim ki bir ilaç firması, yeni bir ilacın ortalama iyileşme süresini artırdığını iddia ediyor. Peki bu iddiayı nasıl ispatlayabiliriz? Gözlemleyip tahmin yaparak değil, veriyle ve sistematik bir yöntemle.\n",
    "\n",
    "İşte tam burada devreye **hipotez testleri** girer.\n",
    "\n",
    "> “Hipotez testi, verinin ne kadar güçlü olduğunu anlamak için kurulan bir sınamadır.”  \n",
    "\n",
    "\n",
    "İddianın veriyle sınandığı süreçtir."
   ]
  },
  {
   "cell_type": "markdown",
   "id": "96103621",
   "metadata": {},
   "source": [
    "## 🧠 Hipotez Nedir?\n",
    "\n",
    "Bir hipotez, **bilinmeyen bir durum hakkında kurulan bir varsayımdır.**\n",
    "\n",
    "- \"Bu ürün daha iyi satışa sahip.\"\n",
    "- \"Yeni algoritma hızlı çalışıyor.\"\n",
    "- \"Bu ilacın etkisi daha fazla.\"\n",
    "\n",
    "Ama bunların hepsi **iddia**. Gerçek olup olmadığını **veriyle** test etmemiz gerekir."
   ]
  },
  {
   "cell_type": "markdown",
   "id": "d0f14fc9",
   "metadata": {},
   "source": [
    "## 🎯 Sıfır ve Alternatif Hipotez\n",
    "\n",
    "### ✅ Sıfır Hipotezi (H₀)\n",
    "Ne değiştiğini sorgular.  \n",
    "“Eski ile yeni aynı performansı gösteriyor.”  \n",
    "“Asıl fark yok diyerek başlarız, kanıt gelene kadar.”\n",
    "\n",
    "Test etmek istediğimiz iddiayı ifade eder. Genellikle \"bir değişiklik yoktur\" veya \"bir fark yoktur\" şeklinde formüle edilir. Örneğin, \"yeni bir ilacın etkisi yoktur\" veya \"iki grubun ortalamaları eşittir\".\n",
    "\n",
    "### ❌ Alternatif Hipotez (H₁ veya Hₐ)\n",
    "Kurduğumuz iddiamız.  \n",
    "“Yeni ilacın etkisi var.”  \n",
    "“Müşteri memnuniyeti arttı.”  \n",
    "“Ortalama harcama yükseldi.”\n",
    "\n",
    "Sıfır hipotezinin aksini ifade eder. Test etmek istediğimiz etkinin veya farkın varlığını gösterir. Örneğin, \"yeni ilacın etkisi vardır\" veya \"iki grubun ortalamaları farklıdır\".\n",
    "\n",
    "📌 Özetle:\n",
    "> H₀ → Yokluk hipotezi  \n",
    "> H₁ → Değişim hipotezi"
   ]
  },
  {
   "cell_type": "markdown",
   "id": "fc7cca2c",
   "metadata": {},
   "source": [
    "## ⚖️ Hipotez Testi Adımları: Veriyle Mantık Kurmak\n",
    "\n",
    "1. **Hipotezleri Oluştur:** Ne iddia ediyorum?\n",
    "2. **Anlamlılık Düzeyini Belirle:** Yanılma payımız ne kadar? (%5 → α = 0.05)\n",
    "3. **Uygun Testi Seç:** t-testi mi? z-testi mi? ki-kare mi?\n",
    "4. **p-değerini Hesapla:** Bu sonucun rastgele çıkma ihtimali nedir?\n",
    "5. **Karar Ver:** p < 0.05 ise sıfır hipotezini reddederiz."
   ]
  },
  {
   "cell_type": "markdown",
   "id": "880f0582",
   "metadata": {},
   "source": [
    "## 💡 Gerçek Hayat Örneği: Yeni İlacın Etkisi\n",
    "\n",
    "### 📌 Senaryo:\n",
    "\n",
    "Bir ağrı kesicinin ortalama etki süresi şu an 8 saat.  \n",
    "Yeni geliştirilen ağrı kesici, 10 kişi üzerinde denendi ve ortalama etki süresi 9.5 saat çıktı.\n",
    "\n",
    "Firma iddia ediyor ki:  \n",
    "✅ “Yeni ilaç, eskiye göre daha uzun süre etki ediyor!”"
   ]
  },
  {
   "cell_type": "markdown",
   "id": "90d6470d",
   "metadata": {},
   "source": [
    "### 🧮 Hipotezleri Kuruyoruz:\n",
    "\n",
    "- **H₀ (Sıfır Hipotezi):** Ortalama etki süresi ≤ 8 saat\n",
    "- **H₁ (Alternatif Hipotez):** Ortalama etki süresi > 8 saat\n",
    "\n",
    "> Böylece, “etki gerçekten var mı?” sorusuna yanıt arıyoruz."
   ]
  },
  {
   "cell_type": "markdown",
   "id": "59c3988c",
   "metadata": {},
   "source": [
    "## 📊 Hipotez Testinde Temel Kavramlar\n",
    "\n",
    "| Terim | Açıklama |\n",
    "|-------|-----------|\n",
    "| **Test İstatistiği** | Örneklem verisinden hesaplanan değer (örneğin: t-skoru, z-skoru) |\n",
    "| **p-değeri** | Eldeki verinin sıfır hipotezine uygun çıkma olasılığı |\n",
    "| **Anlamlılık düzeyi (α)** | Yanılma sınırı → genellikle 0.05 olarak belirlenir |\n",
    "| **I. Tip Hata** | H₀ doğru ama onu reddettik → yanlış pozitif → α hatası |\n",
    "| **II. Tip Hata** | H₀ yanlış ama onu reddetmedik → yanlış negatif → β hatası |\n",
    "\n",
    "📌 **Hedef:**  \n",
    "Veri, H₀’yu desteklemiyorsa onu reddedebilmek. Ve gerçek değişimi yakalayabilmek!"
   ]
  },
  {
   "cell_type": "markdown",
   "id": "0484c906",
   "metadata": {},
   "source": [
    "## 🧪 Yaygın Hipotez Testleri\n",
    "\n",
    "| Test Türü | Kullanım Alanı |\n",
    "|------------|------------------|\n",
    "| **t-testi** | Küçük örneklemlerde ortalamaları karşılamak için |\n",
    "| **z-testi** | Büyük örneklemlerde ortalamaları karşılamak için |\n",
    "| **Ki-Kare Testi** | Kategorik veriler arasında ilişki olup olmadığını görmek için |\n",
    "| **ANOVA** | 3'ten fazla grubun ortalamalarını karşılamak için |\n",
    "\n",
    "📌 Hangi testi kullanacağımız, **veri türüne** ve **hipotezin şekline** bağlıdır."
   ]
  },
  {
   "cell_type": "markdown",
   "id": "45e3e8bc",
   "metadata": {},
   "source": [
    "## 📈 Tek Kuyruk mu, İki Kuyruk mu?\n",
    "\n",
    "| Tür | Kullanım | Örnek |\n",
    "|------|----------|--------|\n",
    "| **Tek Kuyruklu Test** | Yön belirtildiğinde | “Yeni ilacın etkisi **artmıştır**” |\n",
    "| **İki Kuyruklu Test** | Sadece fark varsa | “İki grubun etkisi **farklıdır**” |\n",
    "\n",
    "📌 Tek kuyruklu test → tek yönlü beklenti  \n",
    "📌 İki kuyruklu test → fark var ama yönü belli değil"
   ]
  },
  {
   "cell_type": "markdown",
   "id": "77dfa566",
   "metadata": {},
   "source": [
    "## 📊 Örnek: T-Testi ile Karşılaştırma\n",
    "\n",
    "Klasik senaryo:  \n",
    "Bir şirket yeni bir yazılım sundu. Kullanıcıların işlem yapma süresi önce 20 saniye idi, sonra 17 saniye oldu. Bu fark gerçekten anlamlı mı?"
   ]
  },
  {
   "cell_type": "code",
   "execution_count": 1,
   "id": "a22dba61",
   "metadata": {},
   "outputs": [
    {
     "name": "stdout",
     "output_type": "stream",
     "text": [
      "t-skoru: -32.23\n",
      "p-değeri: 0.0000\n",
      "Sonuç anlamlı! Yeni yazılım işe yarıyor.\n"
     ]
    }
   ],
   "source": [
    "from scipy.stats import ttest_1samp\n",
    "\n",
    "# Eski zaman verisi (örnek veri):\n",
    "orneklem = [16.5, 17.3, 17.0, 16.8, 17.5, 16.9, 17.1, 17.2, 17.0, 16.7]\n",
    "\n",
    "# Tek örneklem t-testi\n",
    "t_skoru, p_degeri = ttest_1samp(orneklem, 20)\n",
    "\n",
    "print(f\"t-skoru: {t_skoru:.2f}\")\n",
    "print(f\"p-değeri: {p_degeri:.4f}\")\n",
    "\n",
    "# Karar verme\n",
    "if p_degeri < 0.05:\n",
    "    print(\"Sonuç anlamlı! Yeni yazılım işe yarıyor.\")\n",
    "else:\n",
    "    print(\"Sonuç anlamsız. Fark tesadüfi olabilir.\")"
   ]
  },
  {
   "cell_type": "markdown",
   "id": "1d31d10e",
   "metadata": {},
   "source": [
    "📌 Bu kod, bizim H₀'yu test etmemizi sağlar.  \n",
    "Yani: “Ortalama hâlâ 20 midir?”"
   ]
  },
  {
   "cell_type": "markdown",
   "id": "72582a94",
   "metadata": {},
   "source": [
    "## 📉 Hipotez Testi Nasıl Yorumlanır?\n",
    "\n",
    "| Durum | Anlamı |\n",
    "|--------|---------|\n",
    "| **p < α** | Sıfır hipotezini reddederiz! Bir fark var. |\n",
    "| **p ≥ α** | Sıfır hipotezini reddedemeyiz. Yeterli kanıt yok. |\n",
    "\n",
    "📌 Burada α genellikle **0.05** alınır.  \n",
    "Yani %5 hata payı ile karar veriyoruz.\n"
   ]
  },
  {
   "cell_type": "markdown",
   "id": "42771bc1",
   "metadata": {},
   "source": [
    "## 🤔 Hipotez Testinde Dikkat Edilmesi Gerekenler\n",
    "\n",
    "| Konu | Açıklama |\n",
    "|------|----------|\n",
    "| ✅ Yeterli veri toplanmalı | Küçük veri yanıltıcı sonuç verebilir |\n",
    "| ✅ Uygun test seçilmeli | Veri tipi ve hipoteze göre değişir |\n",
    "| ✅ Sonuçlar net yorumlanmalı | “Belki”, “Sanırım”, “Muhtemelen” yerine sayısal dayanağını olmalı |\n",
    "| ⚠️ Yanılma payı her zaman göz önünde bulundurulmalı | Hiçbir test %100 güven sağlamaz |\n",
    "| ⚠️ Testin gücü önemlidir | II. tip hata riski düşükse, testin gücü yüksektir |\n"
   ]
  },
  {
   "cell_type": "markdown",
   "id": "6ad24bde",
   "metadata": {},
   "source": [
    "## 📌 Nerelerde Kullanılır?\n",
    "\n",
    "| Alan | Kullanım Yeri |\n",
    "|------|----------------|\n",
    "| **Tıp** | Tedavi etkisinin ölçülmesi |\n",
    "| **Pazarlama** | A/B testleri, kampanya etkisi |\n",
    "| **Eğitim** | Eğitim yönteminin başarı üzerindeki etkisi |\n",
    "| **Finans** | Yatırım getirilerinin karşılaştırılması |\n",
    "| **Veri Bilimi** | Özelliklerin model üzerindeki etkisi |\n"
   ]
  },
  {
   "cell_type": "markdown",
   "id": "d663a0c7",
   "metadata": {},
   "source": [
    "## 💬 Son Söz:\n",
    "\n",
    "> “Hipotez testi, veri dünyasında ‘iddialara cevap vermenin’ en bilimsel yoludur.”\n",
    ">\n",
    "> “Gerçekten bir şey değiştiyse, veriyle o değişimi görebilirsin. Ama bu yolda ilk adım, doğru hipotezi kurmaktır.”"
   ]
  },
  {
   "cell_type": "markdown",
   "id": "9afe4fda",
   "metadata": {},
   "source": []
  }
 ],
 "metadata": {
  "kernelspec": {
   "display_name": "base",
   "language": "python",
   "name": "python3"
  },
  "language_info": {
   "codemirror_mode": {
    "name": "ipython",
    "version": 3
   },
   "file_extension": ".py",
   "mimetype": "text/x-python",
   "name": "python",
   "nbconvert_exporter": "python",
   "pygments_lexer": "ipython3",
   "version": "3.12.9"
  }
 },
 "nbformat": 4,
 "nbformat_minor": 5
}
