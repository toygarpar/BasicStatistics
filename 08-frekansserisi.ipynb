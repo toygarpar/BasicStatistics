{
 "cells": [
  {
   "cell_type": "markdown",
   "id": "bcb1a60e",
   "metadata": {},
   "source": [
    "# 📊 Frekans Serilerinde Aritmetik Ortalama: Gruplanmış Veride Dengenin Noktası\n",
    "\n",
    "## Giriş: Sayılar Değil, Sınıflarla Çalışıyoruz!\n",
    "\n",
    "Bazı veriler tek tek sayılar halinde değil de, **gruplanmış** veya **sınıflandırılmış** biçimde gelir. Örneğin:\n",
    "\n",
    "> “10 kişi 50-60 arası aldı, 15 kişi 60-70 arası aldı…”\n",
    "\n",
    "Bu durumda her öğrencinin notunu bilmek yerine, **not aralıkları ve kaç kişinin o aralıkta olduğunu** biliyoruz. İşte böyle verilerle ortalama hesaplamak için özel bir yöntem kullanıyoruz: **Frekans Serisinde Aritmetik Ortalama**\n",
    "\n",
    "> “Veri gizlenmiş gibi görünse de, dikkatli adımlarla gerçek ortalamaya yaklaşabilirsin.”  \n",
    "\n",
    "Gruplanmış verilerde ortalama tahminidir."
   ]
  },
  {
   "cell_type": "markdown",
   "id": "ed675576",
   "metadata": {},
   "source": [
    "## 🔍 Frekans Serisi Nedir?\n",
    "\n",
    "Frekans serisi, verilerin **belirli sınıflara ayrıldığı** ve her sınıfın **kaç kez tekrar ettiğinin (frekansının)** gösterildiği tablodur.\n",
    "\n",
    "### Örnek Tablo:\n",
    "| Not Aralığı | Frekans (Öğrenci Sayısı) |\n",
    "|-------------|--------------------------|\n",
    "| 50 - 59     | 5                        |\n",
    "| 60 - 69     | 10                       |\n",
    "| 70 - 79     | 20                       |\n",
    "| 80 - 89     | 7                        |\n",
    "| 90 - 100    | 3                        |\n",
    "\n",
    "Burada her öğrencinin notunu bilmiyoruz ama hangi aralıkta kaç kişi olduğunu biliyoruz. Bu da bizim **ortalama tahminimizi** yapmamızı sağlıyor."
   ]
  },
  {
   "cell_type": "markdown",
   "id": "6a174139",
   "metadata": {},
   "source": [
    "## 🧮 Nasıl Hesaplanır? Adım Adım Yöntem\n",
    "\n",
    "Gruplanmış verilerde ortalama almak için şu adımları izleyeceğiz:\n",
    "\n",
    "### 1. **Sınıf Orta Noktalarını Bulalım**\n",
    "Her sınıfın alt ve üst sınırının ortasını alarak sınıfın \"temsilci sayısını\" buluruz.\n",
    "\n",
    "📌 Örnek: 50-59 sınıfı → (50 + 59) / 2 = **54.5**\n",
    "\n",
    "### 2. **Orta Noktayı Frekansla Çarpalım**\n",
    "Her sınıfın orta noktası ile frekansı çarparız.\n",
    "\n",
    "📌 Örnek: 54.5 × 5 = **272.5**\n",
    "\n",
    "### 3. **Tüm Çarpımları Toplayalım**\n",
    "Tüm sınıf çarpımlarını toplarız.\n",
    "\n",
    "📌 Örnek: 272.5 + 645 + ... = **Toplam x.f**\n",
    "\n",
    "### 4. **Toplam Frekansa Bölerek Ortalama Hesaplayalım**\n",
    "$$\n",
    "\\bar{x} = \\frac{\\sum f.x}{\\sum f}\n",
    "$$\n"
   ]
  },
  {
   "cell_type": "markdown",
   "id": "be4b6a10",
   "metadata": {},
   "source": [
    "## 💡 Gerçek Hayat Örneği ile Uygulama\n",
    "\n",
    "Aşağıdaki tabloyu kullanalım:\n",
    "\n",
    "| Not Aralığı | Orta Nokta (x) | Frekans (f) | f.x (frekans × ortalama) |\n",
    "|-------------|----------------|-------------|---------------------------|\n",
    "| 50 - 59     | 54.5           | 5           | 272.5                     |\n",
    "| 60 - 69     | 64.5           | 10          | 645                       |\n",
    "| 70 - 79     | 74.5           | 20          | 1490                      |\n",
    "| 80 - 89     | 84.5           | 7           | 591.5                     |\n",
    "| 90 - 100    | 95             | 3           | 285                       |\n",
    "| **Toplam**  |                | **Σf = 45** | **Σf.x = 3284**           |\n",
    "\n",
    "Şimdi formülü uygulayalım:\n",
    "\n",
    "$$\n",
    "\\bar{x} = \\frac{3284}{45} \\approx 72.98\n",
    "$$\n",
    "\n",
    "📌 Bu sınıftaki öğrencilerin **ortalama notu yaklaşık 73’tür**."
   ]
  },
  {
   "cell_type": "markdown",
   "id": "6ddee470",
   "metadata": {},
   "source": [
    "## ⚠️ Dikkat Etmemiz Gerekenler\n",
    "\n",
    "| Konu | Açıklama |\n",
    "|------|----------|\n",
    "| **Sınıf Aralıkları Eşit Olmalı** | Eğer eşit değilse, hesaplama daha karmaşık hale gelir. |\n",
    "| **Ortalama Tahmini Bir Değerdir** | Gerçek değerden farklı olabilir çünkü sınıf içindeki dağılımı bilmiyoruz. |\n",
    "| **Orta Nokta Varsayımı** | Her sınıf içindeki tüm verilerin orta noktada olduğu varsayılır. Gerçek dağılım farklı olabilir. |\n"
   ]
  },
  {
   "cell_type": "code",
   "execution_count": 1,
   "id": "401cace1",
   "metadata": {},
   "outputs": [
    {
     "name": "stdout",
     "output_type": "stream",
     "text": [
      "Frekans serisinde aritmetik ortalama: 72.98\n"
     ]
    }
   ],
   "source": [
    "# Python Uygulaması: Frekans Serisinde Ortalama Hesaplamak\n",
    "\n",
    "import pandas as pd\n",
    "\n",
    "# Gruplanmış veri\n",
    "veri = {\n",
    "    'sinif_araligi': ['50-59', '60-69', '70-79', '80-89', '90-100'],\n",
    "    'alt_sinir': [50, 60, 70, 80, 90],\n",
    "    'ust_sinir': [59, 69, 79, 89, 100],\n",
    "    'frekans': [5, 10, 20, 7, 3]\n",
    "}\n",
    "\n",
    "df = pd.DataFrame(veri)\n",
    "\n",
    "# Orta noktaları hesapla\n",
    "df['orta_nokta'] = (df['alt_sinir'] + df['ust_sinir']) / 2\n",
    "\n",
    "# f.x kolonunu ekle\n",
    "df['fx'] = df['frekans'] * df['orta_nokta']\n",
    "\n",
    "# Toplamları al\n",
    "toplam_f = df['frekans'].sum()\n",
    "toplam_fx = df['fx'].sum()\n",
    "\n",
    "# Ortalama hesapla\n",
    "ortalama = toplam_fx / toplam_f\n",
    "\n",
    "print(f\"Frekans serisinde aritmetik ortalama: {ortalama:.2f}\")\n",
    "\n",
    "# Bu kod, gruplanmış veri setinde ortalama hesaplamayı otomatikleştirir."
   ]
  },
  {
   "cell_type": "markdown",
   "id": "1bc7f7bf",
   "metadata": {},
   "source": [
    "> “Frekans serisi, veri dünyasında gizlenmiş olanı açığa çıkarmak için kullanılan ustaca bir yöntemdir.”\n",
    ">\n",
    "> “Sayıları bilmeseniz bile, doğru adımlarla onların neye benzediğini anlayabilirsiniz. İstatistikte önemli olan, tam bilgiye sahip olmak değil, eksik bilgiyle bile en iyi tahmini yapabilmektir.”"
   ]
  },
  {
   "cell_type": "markdown",
   "id": "96ff16ac",
   "metadata": {},
   "source": []
  }
 ],
 "metadata": {
  "kernelspec": {
   "display_name": "base",
   "language": "python",
   "name": "python3"
  },
  "language_info": {
   "codemirror_mode": {
    "name": "ipython",
    "version": 3
   },
   "file_extension": ".py",
   "mimetype": "text/x-python",
   "name": "python",
   "nbconvert_exporter": "python",
   "pygments_lexer": "ipython3",
   "version": "3.12.9"
  }
 },
 "nbformat": 4,
 "nbformat_minor": 5
}
