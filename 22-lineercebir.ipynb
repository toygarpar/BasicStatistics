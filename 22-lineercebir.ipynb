{
 "cells": [
  {
   "cell_type": "markdown",
   "id": "38c25a8a",
   "metadata": {},
   "source": [
    "# 🧮 Lineer Cebir: Veri Dünyasının Dilini Öğrenmek\n",
    "\n",
    "## Giriş: Neden Her Veri Bilimcisi Lineer Cebir Bilmeli?\n",
    "\n",
    "Diyelim ki bir yapay zeka modeli eğitiyorsun. Ya da çok boyutlu veriler üzerinde çalışıyorsun.  \n",
    "İşte o zaman karşına çıkacak olan şey, **sayıların değil, vektörlerin ve matrislerin dili** olacaktır.\n",
    "\n"
   ]
  },
  {
   "cell_type": "markdown",
   "id": "e10a97bb",
   "metadata": {},
   "source": [
    "## 🔍 Lineer Cebir Nedir?\n",
    "\n",
    "**Lineer cebir**, yönü ve büyüklüğü olan **vektörler**, onları işlemek için kullanılan **matrisler**, ve bunlar üzerindeki işlemlerden oluşan bir matematik dalıdır.\n",
    "\n",
    "### Temel olarak:\n",
    "- **Vektörler:** Yön + Büyüklük = Hareketin yönü\n",
    "- **Matrisler:** Sayıların satır-sütun düzeninde saklandığı yapılardır\n",
    "- **Doğrusal dönüşümler:** Bir uzaydan başka bir uzaya geçiş sağlayan fonksiyonlardır\n",
    "- **Denklem sistemleri:** Birden fazla değişkenli denklemleri çözmek için kullanılır\n",
    "\n",
    "📌 Lineer cebir, hem soyut düşünmeyi öğretir hem de uygulamada **veri işleme gücünü** artırır.\n",
    "\n",
    "\n",
    "Lineer yani Doğrusal cebirin temelinde vektörlerin incelenmesi yer alır.\n",
    "\n",
    "Sayılar teorisi, analizi, geometreyi içerisinde bulunduran ve sembolleri de kullanarak denklem kurarak yapılan aritmetik işlemlere cebir adı verilir. Matematiğin vektörler, matrisler, vektör uzayları gibi alanlarını inceleyen dalıdır.\n",
    "\n",
    "Doğrusal cebirin temelinde vektörlerin incelenmesi yer alır.\n",
    "\n",
    "Cebir sayıların önünde yer alan + ve - işaretleri onların sıfıra göre yönlerini ve uzaklıklarını gösterir.\n",
    "\n",
    "Cebir denklemleri bilinen yardımıyla bilinmeyenleri bulmaya da olanak sağlar.\n",
    "\n",
    "\n",
    "**Lineer cebir, matematiğin vektörler, vektör uzayları, doğrusal dönüşümler, doğrusal denklem sistemleri ve matrisleri inceleyen dalıdır. Modern matematiğin temel taşlarından biridir ve fen bilimleri, mühendislik, bilgisayar bilimi, ekonomi ve daha birçok alanda geniş uygulama alanlarına sahiptir."
   ]
  },
  {
   "cell_type": "markdown",
   "id": "748eef5b",
   "metadata": {},
   "source": [
    "## 🎯 Neden Önemlidir?\n",
    "\n",
    "| Alan | Lineer Cebir Ne İşe Yarar? |\n",
    "|------|-----------------------------|\n",
    "| **Veri Bilimi** | Çok boyutlu verileri temsil etmek ve işlemek için |\n",
    "| **Yapay Zeka / Makine Öğrenmesi** | Özellikleri vektörle ifade edip ağırlıkları matrislerle hesaplamak için |\n",
    "| **Bilgisayar Grafikleri** | 3D objeleri döndürmek, kaydırmak, ölçeklendirmek için |\n",
    "| **Finans** | Portföy optimizasyonu, risk analizi için |\n",
    "| **Fizik ve Mühendislik** | Kuvvet, hız, yer değiştirme gibi nicelikleri modellemek için |\n",
    "\n",
    "📌 Kısacası:  \n",
    "> Lineer cebir, **verinin şekillendiği matematiksel alandır.**"
   ]
  },
  {
   "cell_type": "markdown",
   "id": "1cf9f6b0",
   "metadata": {},
   "source": [
    "## 📌 Ana Yapı Taşları\n",
    "\n",
    "### 1️⃣ Vektörler (Vectors)\n",
    "- Hem **büyüklük**, hem de **yöne sahip** nesnelerdir.\n",
    "- Örnek: `(3,5)` → x=3, y=5 yönünde hareket\n",
    "\n",
    "```python\n",
    "v = [3, 5]  # 2 boyutlu vektör\n",
    "```\n",
    "\n",
    "📌 Görselde okla gösterilir. Ucu nereye gidiyor?"
   ]
  },
  {
   "cell_type": "markdown",
   "id": "96940c1e",
   "metadata": {},
   "source": [
    "### 2️⃣ Matrisler (Matrices)\n",
    "- Satır ve sütunlardan oluşan sayı tablolarıdır.\n",
    "- Doğrusal dönüşümleri, veri kümelerini temsil eder.\n",
    "\n",
    "```python\n",
    "A = [\n",
    "     [2, 1],\n",
    "     [1, -1]\n",
    "]  # 2x2 matris\n",
    "```\n",
    "\n",
    "📌 Bu matris, iki denklemi temsil edebilir:\n",
    "\n",
    "```\n",
    "2x + y = ?\n",
    " x - y = ?\n",
    "```\n"
   ]
  },
  {
   "cell_type": "markdown",
   "id": "f571f33c",
   "metadata": {},
   "source": [
    "### 3️⃣ Vektör Uzayları\n",
    "- Sonsuz vektörün tanımlandığı alan.\n",
    "- Burada toplama, skaler çarpım gibi işlemleri yapabilirsin.\n",
    "\n",
    "📌 Örnek:\n",
    "- 2D uzay: (x,y) koordinat sistemi\n",
    "- 3D uzay: (x,y,z)\n",
    "- Daha yüksek boyutlarda: Örneğin yüzlerce özellik içeren veri setleri!"
   ]
  },
  {
   "cell_type": "markdown",
   "id": "4ab58025",
   "metadata": {},
   "source": [
    "### 4️⃣ Doğrusal Dönüşümler (Linear Transformations)\n",
    "- Bir vektörü başka bir vektöre dönüştüren işlemlerdir.\n",
    "- Örneğin: Rotasyon (döndürme), scaling (ölçekleme), yansıma (reflection)\n",
    "\n",
    "📌 Bu dönüşümleri genellikle **matris ile çarparak** yaparsın.\n"
   ]
  },
  {
   "cell_type": "markdown",
   "id": "b2020321",
   "metadata": {},
   "source": [
    "### 5️⃣ Doğrusal Denklem Sistemleri\n",
    "- Birden fazla denklemi aynı anda çözmek demektir.\n",
    "- Lineer cebir sayesinde bu sistemleri hızlıca çözebilirsin.\n",
    "\n",
    "Örnek:\n",
    "```\n",
    "2x + y = 5  \n",
    "x - y = 1\n",
    "```\n",
    "\n",
    "Bu denklemi matris formunda yazalım:\n",
    "\n",
    "$$\n",
    "\\begin{bmatrix}\n",
    "2 & 1 \\\\\n",
    "1 & -1\n",
    "\\end{bmatrix}\n",
    "\\cdot\n",
    "\\begin{bmatrix}\n",
    "x \\\\\n",
    "y\n",
    "\\end{bmatrix}\n",
    "=\n",
    "\\begin{bmatrix}\n",
    "5 \\\\\n",
    "1\n",
    "\\end{bmatrix}\n",
    "$$\n",
    "\n",
    "✅ Bu sistem çözüldüğünde:  \n",
    "→ `x = 2`, `y = 1` çıkar."
   ]
  },
  {
   "cell_type": "markdown",
   "id": "156e3353",
   "metadata": {},
   "source": [
    "## 📊 Lineer Cebir ve Veri Bilimi Arasındaki Bağ\n",
    "\n",
    "| Konsept | Veri Bilimindeki Rolü |\n",
    "|--------|------------------------|\n",
    "| **Vektörler** | Özellikler → Örnek: müşteri verisi `[yaş, gelir, harcama]` |\n",
    "| **Matrisler** | Veri setleri → Her satır bir gözlem, her sütun bir özellik |\n",
    "| **Çarpım** | Özellikler ile ağırlıklar arasında ilişki kurmak için |\n",
    "| **Determinant** | Veri içinde bağımsızlık kontrolü için |\n",
    "| **Eigenvalue / Eigenvector** | Boyut indirgeme (PCA) ve grafik işleme için |\n",
    "\n",
    "📌 Özetle:\n",
    "> Lineer cebir, makine öğrenmesi modellerinin matematiksel dilidir.\n"
   ]
  },
  {
   "cell_type": "markdown",
   "id": "ead53955",
   "metadata": {},
   "source": [
    "## 💡 Gerçek Hayat Örnekleriyle Anlamak\n",
    "\n",
    "### 🏦 Örnek 1: Müşteri Profili\n",
    "\n",
    "Bir müşterinin profili şöyle olsun:\n",
    "\n",
    "```python\n",
    "[35, 8000, 4] → [Yaş, Gelir, Alışveriş Frekansı]\n",
    "```\n",
    "\n",
    "👉 Bu vektör, 3 boyutlu bir **özelliği temsil eder**.  \n",
    "Makine öğrenmesi modelleri bu vektörlerle çalışır."
   ]
  },
  {
   "cell_type": "markdown",
   "id": "663bc38d",
   "metadata": {},
   "source": [
    "### 🎥 Örnek 2: Görseldeki Renk Değerleri\n",
    "\n",
    "Her piksel aslında bir **vektördür**:\n",
    "\n",
    "```python\n",
    "[255, 0, 0] → Kırmızı renk\n",
    "```\n",
    "\n",
    "📌 Görüntü işlemede bu vektörler matrislerle işlenir.  \n",
    "Kamera sensöründen görsel filtreleme, her şey lineer cebirle başlar."
   ]
  },
  {
   "cell_type": "markdown",
   "id": "864df2c3",
   "metadata": {},
   "source": [
    "### 🤖 Örnek 3: Yapay Zeka’da Tahmin\n",
    "\n",
    "Bir ev fiyat tahmini modeli var:\n",
    "\n"
   ]
  },
  {
   "cell_type": "code",
   "execution_count": 3,
   "id": "c265c7c0",
   "metadata": {},
   "outputs": [
    {
     "name": "stdout",
     "output_type": "stream",
     "text": [
      "Fiyat Tahmini: 105000\n"
     ]
    }
   ],
   "source": [
    "ağırlıklar = [200, 10000, 5000]  # metre kare, konum, oda sayısı\n",
    "özellikler = [100, 7, 3]          # 100 m², konum skoru 7, 3 oda\n",
    "\n",
    "fiyat_tahmini = sum(a * b for a, b in zip(ağırlıklar, özellikler))\n",
    "print(\"Fiyat Tahmini:\", fiyat_tahmini)"
   ]
  },
  {
   "cell_type": "markdown",
   "id": "39d9d107",
   "metadata": {},
   "source": [
    "📌 Bu işlem aslında bir **vektör-matris çarpımıdır**.  \n",
    "Ve buradan çıkan sonuç, yapay zekanın tahminidir."
   ]
  },
  {
   "cell_type": "code",
   "execution_count": 5,
   "id": "a8dd1c7e",
   "metadata": {},
   "outputs": [
    {
     "name": "stdout",
     "output_type": "stream",
     "text": [
      "Vektör: [3 5]\n",
      "Matris:\n",
      " [[ 2  1]\n",
      " [ 1 -1]]\n",
      "Sonuç vektörü: [11 -2]\n",
      "Determinant: -2.9999999999999996\n",
      "Ters matris:\n",
      " [[ 0.33333333  0.33333333]\n",
      " [ 0.33333333 -0.66666667]]\n"
     ]
    }
   ],
   "source": [
    "# Python ile Pratik Uygulama: Matris ve Vektör İşlemleri\n",
    "\n",
    "# lineer cebirdeki temel işlemler\n",
    "\n",
    "import numpy as np\n",
    "\n",
    "# Vektör oluşturma\n",
    "v = np.array([3, 5])\n",
    "print(\"Vektör:\", v)\n",
    "\n",
    "# Matris oluşturma\n",
    "A = np.array([[2, 1], [1, -1]])\n",
    "print(\"Matris:\\n\", A)\n",
    "\n",
    "# Matris ile vektör çarpımı\n",
    "b = np.dot(A, v)\n",
    "print(\"Sonuç vektörü:\", b)\n",
    "\n",
    "# Determinant hesaplama\n",
    "det = np.linalg.det(A)\n",
    "print(\"Determinant:\", det)\n",
    "\n",
    "# Ters alma\n",
    "inv = np.linalg.inv(A)\n",
    "print(\"Ters matris:\\n\", inv)"
   ]
  },
  {
   "cell_type": "markdown",
   "id": "92634fd7",
   "metadata": {},
   "source": [
    "## 🧠 Lineer Cebiri Akılda Kalıcı Hale Getiren Yöntemler\n",
    "\n",
    "| Kavram | Benzetme |\n",
    "|--------|-----------|\n",
    "| **Vektör** | \"Git\" emri → Hangi yöne ne kadar gideceğini söyler |\n",
    "| **Matris** | \"Harita\" → Dönüşümü sağlar, veriyi yeniden şekillendirir |\n",
    "| **Matris Çarpımı** | “Yolculuk” → Bir yerden diğerine gitmeni sağlar |\n",
    "| **Determinant** | “Alan büyüklüğü” → Veri içinde bağımsızlığı ölçer |\n",
    "| **Ters Matris** | “Geri dönüş” → Başa nasıl dönersin? |\n",
    "\n",
    "📌 Lineer cebirde soyut olan, doğru benzetmelerle somutlaşır."
   ]
  },
  {
   "cell_type": "markdown",
   "id": "c4f20935",
   "metadata": {},
   "source": [
    "## 📚 Lineer Cebirin Kullanım Alanları\n",
    "\n",
    "| Alan | Kullanım Yeri |\n",
    "|------|----------------|\n",
    "| **Makine Öğrenmesi** | Özelliklerin ağırlıklandırılması, regresyon, sınıflandırma |\n",
    "| **Derin Öğrenme** | Ağ katmanlarında veri aktarımı |\n",
    "| **Bilgisayar Grafikleri** | 3D dönüşümler, animasyonlar |\n",
    "| **Oyun Geliştirme** | Nesnelerin hareketi ve yönü |\n",
    "| **Sinyal İşleme** | Ses, görüntü gibi verilerin dönüşümü |\n",
    "| **Ekonomi ve Finans** | Portföy optimizasyonu, trend analizi |\n"
   ]
  },
  {
   "cell_type": "markdown",
   "id": "2043869a",
   "metadata": {},
   "source": []
  }
 ],
 "metadata": {
  "kernelspec": {
   "display_name": "base",
   "language": "python",
   "name": "python3"
  },
  "language_info": {
   "codemirror_mode": {
    "name": "ipython",
    "version": 3
   },
   "file_extension": ".py",
   "mimetype": "text/x-python",
   "name": "python",
   "nbconvert_exporter": "python",
   "pygments_lexer": "ipython3",
   "version": "3.12.9"
  }
 },
 "nbformat": 4,
 "nbformat_minor": 5
}
