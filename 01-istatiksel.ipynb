{
 "cells": [
  {
   "cell_type": "markdown",
   "id": "081c1161",
   "metadata": {},
   "source": [
    "# 📊 İstatistiksel Düşünce: Veriyle Akıl Yürütmenin Sanatı\n",
    "\n",
    "## Giriş: Neden İstatistiksel Düşünce?\n",
    "\n",
    "Hayatın her alanında karşımıza çıkan kararlar vardır. Peki bu kararları neye göre veriyoruz? Bazılarımız iç sesine kulak verirken, bazılarımız deneyime dayalı hareket eder. Ancak en sağlam kararlar genellikle **veriye dayalı** dır.\n",
    "\n",
    "İşte burada devreye **istatistiksel düşünce** girer. Bu düşünce biçimi, sadece sayılarla değil, aynı zamanda anlam çıkararak, mantıkla ve öngörü ile düşünerek karar almanıza yardımcı olur.\n",
    "\n",
    "Veriyle analiz sürecini doğru tanımlamak ve sonuca ulaşmak."
   ]
  },
  {
   "cell_type": "markdown",
   "id": "934b8b28",
   "metadata": {},
   "source": [
    "## 🧠 İstatistiksel Düşünce Nedir?\n",
    "\n",
    "İstatistiksel düşünce, **verilerle analiz yapma sürecinin her aşamasını doğru tanımlamak** , **sorgulamak** ve **sonuca ulaşmak** demektir. Bu düşünce biçimi, analitik düşünme yeteneğini artırır, sorgulama becerisini geliştirir ve karmaşık sorunlara hızlı çözümler üretmeyi sağlar.\n",
    "\n",
    "### Örnek:\n",
    "\n",
    "Bir e-ticaret sitesinde satışların düştüğünü fark ettiniz. Ne yaparsınız? Sadece hissetmekle kalmaz, hangi ürünlerde düşüş olduğunu, hangi günlerde olduğunu ve kullanıcı davranışlarında değişiklik olup olmadığını incelersiniz. İşte bu, istatistiksel düşünceyle yaklaşımdır."
   ]
  },
  {
   "cell_type": "markdown",
   "id": "cca54f26",
   "metadata": {},
   "source": [
    "## 📌 5 Adımda İstatistiksel Analiz Süreci\n",
    "\n",
    "Her analiz süreci belirli adımlardan geçer. Bu adımları takip etmek, işinizi hem sistematikleştirir hem de daha doğru sonuçlar elde etmenizi sağlar.\n",
    "\n",
    "1. **Projenin İçeriğini Belirleme**  \n",
    "    _“Ne hakkında analiz yapacağız?”_  \n",
    "    Hedefinizi net belirlemek çok önemlidir. Örneğin; müşteri memnuniyeti mi? Satış performansı mı?\n",
    "    \n",
    "2. **Verilerin Belirlenmesi**  \n",
    "    _“Hangi verilere ihtiyacımız var?”_  \n",
    "    Gerekli olan verileri toplamaya başlayalım. Müşteri yorumları, satış rakamları, tıklama oranları vs.\n",
    "    \n",
    "3. **Verilerin Gruplandırılması**  \n",
    "    _“Veriyi nasıl organize edeceğiz?”_  \n",
    "    Verileri anlamlı gruplara ayırıyoruz. Zaman dilimleri, coğrafi bölgeler ya da ürün kategorileri gibi.\n",
    "    \n",
    "4. **Verinin Analiz Edilmesi**  \n",
    "    _“Verideki desenleri görebilecek miyiz?”_  \n",
    "    Burada grafikler, tablolar, ortalamalar gibi tekniklerle veriyi anlamaya çalışıyoruz.\n",
    "    \n",
    "5. **Verinin Bilgiye Dönüşmesi**  \n",
    "    _“Bu veri bize ne söylüyor?”_  \n",
    "    Sonuçları yorumlamak ve bunlardan **bilgiye dönüşecek** stratejiler oluşturmak için önemli."
   ]
  },
  {
   "cell_type": "markdown",
   "id": "dc61fa69",
   "metadata": {},
   "source": [
    "## 🔍 İstatistik Neye Göre Ayrışır?\n",
    "\n",
    "İstatistiksel düşünce, iki ana dalda kendini gösterir:\n",
    "\n",
    "### 1. Tanımlayıcı İstatistik (Descriptive Statistics)\n",
    "\n",
    "Verileri **toplama, sunma ve açıklama** sürecidir. Ortalama, medyan, standart sapma gibi ölçümler burada kullanılır.\n",
    "\n",
    "📌 Örnek: Bir sınıftaki öğrencilerin notlarının ortalamasını hesaplamak.\n",
    "\n",
    "### 2. Çıkarımsal İstatistik (Inferential Statistics)\n",
    "\n",
    "Kitle yerine **örnekleme** dayalı olarak genellemeler yapma sürecidir. Küçük bir örneklemden büyük bir sonuca gitmek.\n",
    "\n",
    "📌 Örnek: Seçim öncesi halkın tercihlerini yansıtmak için yapılan anketler."
   ]
  },
  {
   "cell_type": "markdown",
   "id": "227200c0",
   "metadata": {},
   "source": [
    "## 💡 İstatistiksel Düşünce Bize Ne Kazandırır?\n",
    "\n",
    "- **Analitik düşünme** yeteneği kazandırır.\n",
    "- **Sorgulama** alışkanlığını geliştirir.\n",
    "- **Karmaşık problemleri küçük parçalara ayırıp çözmeyi** öğretir.\n",
    "- En önemlisi: **Doğru soruları sormayı** öğretilir!"
   ]
  },
  {
   "cell_type": "markdown",
   "id": "72611bb4",
   "metadata": {},
   "source": [
    "## 🎯 Veri Bilimciliğin Has Noktası/Esası: Doğru Soruyu Sormak\n",
    "\n",
    "Veri bilimcinin en büyük gücü, **doğru soruyu sormaktır** . Çünkü yanlış soruya verilen doğru cevap, çoğu zaman gereksizdir.\n",
    "\n",
    "💡 Soru Örneği:  \n",
    "Yanlış: “Bu ay kaç kişi siteye girdi?”  \n",
    "Doğru: “Bu ay siteye giriş yapan kullanıcıların %kaçı satın alma yaptı?”"
   ]
  },
  {
   "cell_type": "markdown",
   "id": "268d4dba",
   "metadata": {},
   "source": [
    "## 📚 Sonuç: İstatistiksel Düşünce Herkes İçin Olmalı\n",
    "\n",
    "İstatistiksel düşünce, sadece veri bilimcilerin değil, her yöneticinin, öğretmenin, girişimcinin ve öğrencinin sahip olması gereken bir yetenektir. Çünkü **veri artık her şeyde var** , ama ondan anlam çıkabilmek ayrı bir sanat. İstatistiksel düşünce, doğru sorular sormanın ve doğru kararlar almanın yolunu gösterir. Bu nedenle, veri üzerinde bilinçli ve anlamlı bir şekilde çalışmak için istatistiksel düşünceyi özelleştireceğiz."
   ]
  },
  {
   "cell_type": "markdown",
   "id": "c1489e66",
   "metadata": {},
   "source": [
    "### 🧠 Pratik Uygulama Örnek: Python ile İstatistiksel Düşünce\n",
    "\n",
    "Python kullanarak temel istatistiklere şöyle bir göz atalım\n",
    "\n"
   ]
  },
  {
   "cell_type": "code",
   "execution_count": 2,
   "id": "de1534ec",
   "metadata": {},
   "outputs": [],
   "source": [
    "# 1. **Veri Setini Oluşturma**\n",
    "import numpy as np\n",
    "import pandas as pd\n",
    "data = [10, 20, 20, 30, 30, 30, 40, 50]"
   ]
  },
  {
   "cell_type": "code",
   "execution_count": 3,
   "id": "7bd4d49b",
   "metadata": {},
   "outputs": [
    {
     "name": "stdout",
     "output_type": "stream",
     "text": [
      "Ortalama: 28.75\n"
     ]
    }
   ],
   "source": [
    "# 2. **Ortalama Hesaplama**\n",
    "mean_value = np.mean(data)\n",
    "print(\"Ortalama:\", mean_value)"
   ]
  },
  {
   "cell_type": "code",
   "execution_count": 4,
   "id": "e055de20",
   "metadata": {},
   "outputs": [
    {
     "name": "stdout",
     "output_type": "stream",
     "text": [
      "Medyan: 30.0\n"
     ]
    }
   ],
   "source": [
    "# 3. **Medyan Hesaplama**   \n",
    "median_value = np.median(data)\n",
    "print(\"Medyan:\", median_value)"
   ]
  },
  {
   "cell_type": "code",
   "execution_count": 5,
   "id": "f5305930",
   "metadata": {},
   "outputs": [
    {
     "name": "stdout",
     "output_type": "stream",
     "text": [
      "Mod: 30\n"
     ]
    }
   ],
   "source": [
    "# 4. **Mod Hesaplama**\n",
    "from scipy import stats\n",
    "mode_value = stats.mode(data)\n",
    "print(\"Mod:\", mode_value[0])"
   ]
  },
  {
   "cell_type": "code",
   "execution_count": 6,
   "id": "0cdb301c",
   "metadata": {},
   "outputs": [
    {
     "name": "stdout",
     "output_type": "stream",
     "text": [
      "Standart Sapma: 11.659223816361019\n"
     ]
    }
   ],
   "source": [
    "# 5. **Standart Sapma Hesaplama**\n",
    "std_deviation = np.std(data)\n",
    "print(\"Standart Sapma:\", std_deviation)"
   ]
  },
  {
   "cell_type": "code",
   "execution_count": 7,
   "id": "344bd02a",
   "metadata": {},
   "outputs": [
    {
     "name": "stdout",
     "output_type": "stream",
     "text": [
      "Varyans: 135.9375\n"
     ]
    }
   ],
   "source": [
    "# 6. **Varyans Hesaplama**\n",
    "variance = np.var(data)\n",
    "print(\"Varyans:\", variance)"
   ]
  },
  {
   "cell_type": "code",
   "execution_count": 9,
   "id": "68d775b6",
   "metadata": {},
   "outputs": [
    {
     "name": "stdout",
     "output_type": "stream",
     "text": [
      "Korelasyon: 0.9722718241315028\n"
     ]
    }
   ],
   "source": [
    "# 7. **Korelasyon Hesaplama**\n",
    "x = [1, 2, 3, 4, 5]\n",
    "y = [2, 3, 5, 7, 11]\n",
    "correlation = np.corrcoef(x, y)[0, 1]\n",
    "print(\"Korelasyon:\", correlation)"
   ]
  },
  {
   "cell_type": "code",
   "execution_count": 10,
   "id": "937c3051",
   "metadata": {},
   "outputs": [
    {
     "data": {
      "image/png": "[encoded data removed]",
      "text/plain": [
       "<Figure size 640x480 with 1 Axes>"
      ]
     },
     "metadata": {},
     "output_type": "display_data"
    }
   ],
   "source": [
    "# 8. **Histogram Çizme**\n",
    "import matplotlib.pyplot as plt\n",
    "plt.hist(data, bins=4, edgecolor='black')\n",
    "plt.title('Histogram')\n",
    "plt.xlabel('Değerler')\n",
    "plt.ylabel('Frekans')\n",
    "plt.show()"
   ]
  },
  {
   "cell_type": "code",
   "execution_count": 11,
   "id": "04e83463",
   "metadata": {},
   "outputs": [
    {
     "data": {
      "image/png": "[encoded data removed]",
      "text/plain": [
       "<Figure size 640x480 with 1 Axes>"
      ]
     },
     "metadata": {},
     "output_type": "display_data"
    }
   ],
   "source": [
    "# 9. **Box Plot Çizme**\n",
    "plt.boxplot(data)\n",
    "plt.title('Box Plot')\n",
    "plt.ylabel('Değerler')\n",
    "plt.show()"
   ]
  },
  {
   "cell_type": "code",
   "execution_count": null,
   "id": "d8eac535",
   "metadata": {},
   "outputs": [],
   "source": []
  }
 ],
 "metadata": {
  "kernelspec": {
   "display_name": "base",
   "language": "python",
   "name": "python3"
  },
  "language_info": {
   "codemirror_mode": {
    "name": "ipython",
    "version": 3
   },
   "file_extension": ".py",
   "mimetype": "text/x-python",
   "name": "python",
   "nbconvert_exporter": "python",
   "pygments_lexer": "ipython3",
   "version": "3.12.9"
  }
 },
 "nbformat": 4,
 "nbformat_minor": 5
}
