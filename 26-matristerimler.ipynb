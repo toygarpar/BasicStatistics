{
 "cells": [
  {
   "cell_type": "markdown",
   "id": "cfc9ad8d",
   "metadata": {},
   "source": [
    "# 📐 Matris ile İlgili Temel Terimler: Sayıların Dünyasındaki Dil\n",
    "\n",
    "## Giriş: Matris Nedir?\n",
    "\n",
    "Matris, sayıların **satır ve sütunlara göre dizilmesidir.**  \n",
    "Bir tablodur, evet.  \n",
    "Ama sadece tablo değildir.  \n",
    "Matris, verinin nasıl işlediğini gösteren **ilk dil**dir."
   ]
  },
  {
   "cell_type": "markdown",
   "id": "4d923bd2",
   "metadata": {},
   "source": [
    "## 🔍 Matrisin Yapı Taşları\n",
    "\n",
    "# Matrisle ilgili Terimler\n",
    "\n",
    "- **Matris:** Sayıların (veya sembollerin) dikdörtgen bir tablo şeklinde düzenlenmesidir.\n",
    "- **Eleman (Giriş):** Matris içindeki her bir sayıya eleman veya giriş denir.\n",
    "- **Satır:** Matristeki yatay sıralardır.\n",
    "- **Sütun:** Matristeki dikey sıralardır.\n",
    "- **Boyut (Ölçü):** Bir matrisin boyutu, satır sayısı ve sütun sayısı ile belirtilir. Örneğin, _m_ satır ve _n_ sütundan oluşan bir matris _m x n_ boyutundadır.\n",
    "- **Kare Matris:** Satır ve sütun sayıları eşit olan matrislerdir.\n",
    "- **Ana Köşegen (Asıl Köşegen):** Bir kare matrisin sol üst köşesinden sağ alt köşesine uzanan elemanlarıdır.\n",
    "- **Köşegen Elemanları:** Ana köşegen üzerindeki elemanlardır.\n",
    "- **Köşegen Dışı Elemanlar:** Ana köşegenin dışındaki elemanlardır.\n",
    "\n",
    "### ✅ Eleman (Giriş)\n",
    "Matristeki her bir hücredeki sayıya eleman denir.  \n",
    "Veriler burada saklanır.  \n",
    "Her eleman, bir gerçekliği taşır.\n",
    "\n",
    "```\n",
    "[1 2]  \n",
    "[3 4]\n",
    "→ 1, 2, 3, 4 → hepsi birer elemandır.\n",
    "```\n"
   ]
  },
  {
   "cell_type": "markdown",
   "id": "463de3ad",
   "metadata": {},
   "source": [
    "### ✅ Satır\n",
    "Yatay sıralar.  \n",
    "Satır sayısı arttıkça, veri boyutu büyür.\n",
    "\n",
    "```\n",
    "[1 2 3] ← satır  \n",
    "[4 5 6]\n",
    "```\n"
   ]
  },
  {
   "cell_type": "markdown",
   "id": "cfd71b9b",
   "metadata": {},
   "source": [
    "### ✅ Sütun\n",
    "Dikey sıralar.  \n",
    "Sütunlar, özelliklerin tahtasıdır.\n",
    "\n",
    "```\n",
    "[1 2]  \n",
    "[3 4]  \n",
    "↑ ↑ sütun\n",
    "```\n"
   ]
  },
  {
   "cell_type": "markdown",
   "id": "4d8781f8",
   "metadata": {},
   "source": [
    "### ✅ Boyut (m x n)\n",
    "Satır sayısı × Sütun sayısı → m x n  \n",
    "Örneğin:\n",
    "- 2x3 matris → 2 satır, 3 sütun  \n",
    "- 4x4 → kare matris  \n",
    "- 1x5 → satır matrisi  \n",
    "\n",
    "📌 Python’da `shape` ile anılır."
   ]
  },
  {
   "cell_type": "markdown",
   "id": "ade14ffc",
   "metadata": {},
   "source": [
    "### ✅ Kare Matris\n",
    "Satır = Sütun → dengeli yapı\n",
    "\n",
    "```\n",
    "[1 2]  \n",
    "[3 4]\n",
    "```\n",
    "\n",
    "📌 Determinant, özdeğer, rank gibi işlemler için şarttır."
   ]
  },
  {
   "cell_type": "markdown",
   "id": "6c65542a",
   "metadata": {},
   "source": [
    "### ✅ Ana Köşegen (Asıl Köşegen)\n",
    "Sol üstten sağ alta doğru gider.\n",
    "\n",
    "```\n",
    "[1 _ ]  \n",
    "[_ 4]\n",
    "```\n",
    "\n",
    "👉 Bu köşegen, iz (trace), köşegen matris, determinant gibi işlemlerde rol oynar."
   ]
  },
  {
   "cell_type": "markdown",
   "id": "054125d8",
   "metadata": {},
   "source": [
    "### ✅ Köşegen Elemanları\n",
    "Ana köşegende yer alan değerlerdir.\n",
    "\n",
    "```\n",
    "[1 0]  \n",
    "[0 4]\n",
    "→ 1 ve 4 köşegen elemanlardır.\n",
    "```\n"
   ]
  },
  {
   "cell_type": "markdown",
   "id": "f661cdb4",
   "metadata": {},
   "source": [
    "### ✅ Köşegen Dışı Elemanlar\n",
    "Ana köşegenin dışında kalanlar.\n",
    "\n",
    "```\n",
    "[1 2]  \n",
    "[3 4]\n",
    "→ 2 ve 3 köşegen dışı elemanlardır.\n",
    "```\n"
   ]
  },
  {
   "cell_type": "markdown",
   "id": "e06493e0",
   "metadata": {},
   "source": [
    "## 🧠 Matris İşlemleri: \n",
    "\n",
    "**Matris İşlemleri ve İlgili Terimler:**\n",
    "\n",
    "- **Matris Toplamı:** Aynı boyuttaki iki matrisin karşılık gelen elemanlarının toplanmasıyla elde edilen matristir.\n",
    "- **Skalerle Çarpma:** Bir matrisin tüm elemanlarının bir skaler (sayı) ile çarpılmasıdır.\n",
    "- **Matris Çarpımı:** İki matrisin belirli kurallara göre çarpılmasıyla elde edilen matristir. Matris çarpımının yapılabilmesi için, ilk matrisin sütun sayısının ikinci matrisin satır sayısına eşit olması gerekir.\n",
    "- **Transpoz (Devrik):** Bir matrisin satır ve sütunlarının yer değiştirilmesiyle elde edilen matristir. `A` matrisinin transpozu `Aᵀ` veya `A'` ile gösterilir.\n",
    "- **Determinant:** Sadece kare matrislere özgü bir sayıdır. Matrisin bazı özelliklerini (örneğin, tersinin olup olmadığını) belirlemek için kullanılır.\n",
    "- **Ters Matris (İnvers):** Bir `A` kare matrisinin, `A * A⁻¹ = I` (burada `I` birim matristir) eşitliğini sağlayan `A⁻¹` matrisine ters matris denir. Sadece determinantı sıfırdan farklı olan kare matrislerin tersi vardır (tekil olmayan matrisler).\n",
    "- **Tekil Matris (Singüler Matris):** Determinantı sıfır olan kare matrislerdir. Tersleri yoktur.\n",
    "- **İz (Trace):** Bir kare matrisin ana köşegenindeki elemanlarının toplamıdır.\n",
    "- **Rank (Mertebe):** Bir matrisin lineer bağımsız satır veya sütun sayısına denir.\n",
    "- **Özvektör (Eigenvektör):** Bir `A` matrisi ile çarpıldığında yönü değişmeyen ve sadece bir skalerle (özdeğer) çarpılan sıfırdan farklı bir vektördür.\n",
    "- **Özdeğer (Eigendeğer):** Bir özvektörün `A` matrisi ile çarpıldığında çarpıldığı skalere denir.\n",
    "\n",
    "### ✅ Toplama & Çıkarma\n",
    "İki matris aynı boyutta olmalı.  \n",
    "Elemanlar karşılıklı toplanır/çıkarılır.\n",
    "\n",
    "```\n",
    "A = [1 2]   B = [5 6]  \n",
    "    [3 4]       [7 8]\n",
    "\n",
    "A + B = [6  8]  \n",
    "        [10 12]\n",
    "```\n",
    "\n",
    "📌 Birinci sınıf aritmetiği gibi görünür ama sistemin içinde çok büyük güç vardır."
   ]
  },
  {
   "cell_type": "code",
   "execution_count": 8,
   "id": "d4a9b688",
   "metadata": {},
   "outputs": [
    {
     "name": "stdout",
     "output_type": "stream",
     "text": [
      "Toplam Matris:\n",
      " [[ 6  8]\n",
      " [10 12]]\n",
      "Fark Matrisi:\n",
      " [[-4 -4]\n",
      " [-4 -4]]\n"
     ]
    }
   ],
   "source": [
    "import numpy as np\n",
    "\n",
    "A = np.array([[1, 2], [3, 4]])\n",
    "B = np.array([[5, 6], [7, 8]])\n",
    "\n",
    "print(\"Toplam Matris:\\n\", A + B)\n",
    "print(\"Fark Matrisi:\\n\", A - B)"
   ]
  },
  {
   "cell_type": "markdown",
   "id": "2de928da",
   "metadata": {},
   "source": [
    "### ✅ Skalerle Çarpma\n",
    "Matristeki her eleman sabit bir sayıyla çarpılır.\n",
    "\n",
    "```\n",
    "A = [1 2] → 2 ile çarparsak → [2 4]  \n",
    "    [3 4]                     [6 8]\n",
    "```\n",
    "\n",
    "📌 Basit gibi ama yapay zekanın ağırlıkları böyle ayarlanır.\n",
    "\n",
    "“Skalerle çarpma, tüm veride aynı yönde bir baskı uygulamaktır.  \n",
    "Yön değişmez ama şiddet artar.”  "
   ]
  },
  {
   "cell_type": "code",
   "execution_count": 9,
   "id": "8f7519da",
   "metadata": {},
   "outputs": [
    {
     "name": "stdout",
     "output_type": "stream",
     "text": [
      "Skaler Çarpım (x2):\n",
      " [[2 4]\n",
      " [6 8]]\n"
     ]
    }
   ],
   "source": [
    "print(\"Skaler Çarpım (x2):\\n\", A * 2)"
   ]
  },
  {
   "cell_type": "markdown",
   "id": "16f9b8b3",
   "metadata": {},
   "source": [
    "### ✅ Matris Çarpımı\n",
    "Bu işlem, lineer cebirin kalbidir.\n",
    "\n",
    "A × B → satır × sütun işlemini yaparız.  \n",
    "Ancak kuralları vardır:\n",
    "\n",
    "> “A’nın sütunu, B’nin satırına eşit olmalı.  \n",
    "Eşit değilse, çarpım olmaz!”  \n",
    "\n",
    "```\n",
    "A = [1 2]   B = [5 6]  \n",
    "    [3 4]       [7 8]\n",
    "```\n",
    "\n",
    "Çarpım için:  \n",
    "A’nın sütun sayısı = B’nin satır sayısı  \n",
    "Sonuçta yeni bir matris çıkar.\n",
    "\n",
    "📌 Bu işlem, doğrusal dönüşümlerin kapısıdır.  "
   ]
  },
  {
   "cell_type": "code",
   "execution_count": 10,
   "id": "3e87a1de",
   "metadata": {},
   "outputs": [
    {
     "name": "stdout",
     "output_type": "stream",
     "text": [
      "Matris Çarpımı:\n",
      " [[19 22]\n",
      " [43 50]]\n"
     ]
    }
   ],
   "source": [
    "\n",
    "C = np.array([[5, 6], [7, 8]])\n",
    "carpim = np.dot(A, C)  # A x C\n",
    "\n",
    "print(\"Matris Çarpımı:\\n\", carpim)"
   ]
  },
  {
   "cell_type": "markdown",
   "id": "57345dd3",
   "metadata": {},
   "source": [
    "### ✅ Transpoz (Devrik) Matris\n",
    "Satır ve sütunlar yer değiştirir. Satırlar sütun olur, sütunlar satır.\n",
    "\n",
    "```\n",
    "A = [1 2] → Aᵀ = [1 3]  \n",
    "    [3 4]          [2 4]\n",
    "```\n"
   ]
  },
  {
   "cell_type": "code",
   "execution_count": 11,
   "id": "47719587",
   "metadata": {},
   "outputs": [
    {
     "name": "stdout",
     "output_type": "stream",
     "text": [
      "Transpoz Matris:\n",
      " [[1 3]\n",
      " [2 4]]\n"
     ]
    }
   ],
   "source": [
    "print(\"Transpoz Matris:\\n\", A.T)"
   ]
  },
  {
   "cell_type": "markdown",
   "id": "e1cdff52",
   "metadata": {},
   "source": [
    "### ✅ Determinant\n",
    "Kare matrisin karakterini belgeler.\n",
    "\n",
    "```\n",
    "|A| = ad - bc\n",
    "```\n",
    "\n",
    "📌 Determinant sıfırsa → matris tekildir → tersi yoktur  \n",
    "📌 Sıfırdan farklıysa → ters alınabilir → sistem çözülebilir"
   ]
  },
  {
   "cell_type": "code",
   "execution_count": 12,
   "id": "f78e3253",
   "metadata": {},
   "outputs": [
    {
     "name": "stdout",
     "output_type": "stream",
     "text": [
      "Determinant: -2.0000000000000004\n"
     ]
    }
   ],
   "source": [
    "det_A = np.linalg.det(A)\n",
    "print(\"Determinant:\", det_A)"
   ]
  },
  {
   "cell_type": "markdown",
   "id": "570438bc",
   "metadata": {},
   "source": [
    "### ✅ Ters Matris (A⁻¹)\n",
    "Matrisin tersi, orijinaliyle çarpıldığında birim matrisi verir. Tekil olmayan (determinantı sıfırdan farklı olan) kare matrislere yapılır.\n",
    "\n",
    "```\n",
    "A * A⁻¹ = I\n",
    "```\n",
    "\n",
    "📌 Ters alma işlemi, regresyon, optimizasyon gibi modellerde hayati öneme sahiptir."
   ]
  },
  {
   "cell_type": "code",
   "execution_count": 13,
   "id": "6b82f30e",
   "metadata": {},
   "outputs": [
    {
     "name": "stdout",
     "output_type": "stream",
     "text": [
      "Ters Matris:\n",
      " [[-2.   1. ]\n",
      " [ 1.5 -0.5]]\n"
     ]
    }
   ],
   "source": [
    "\n",
    "A_ters = np.linalg.inv(A)\n",
    "print(\"Ters Matris:\\n\", A_ters)\n"
   ]
  },
  {
   "cell_type": "markdown",
   "id": "fb89bac5",
   "metadata": {},
   "source": [
    "### ✅ Tekil Matris (Singüler)\n",
    "Tersi alınamaz çünkü determinantı sıfırdır.\n",
    "\n",
    "```\n",
    "[1 2] → det(A) = 1×4 - 2×2 = 0 → tekil\n",
    "[2 4]\n",
    "```\n",
    "\n",
    "📌 Bu tür matrislerle çözüm yapılamaz.  \n",
    "Gerçeklikte çelişki var demektir."
   ]
  },
  {
   "cell_type": "markdown",
   "id": "4799deb3",
   "metadata": {},
   "source": [
    "### ✅ İz (Trace)\n",
    "Kare matrisin ana köşegenindeki elemanların toplamıdır. Ana köşegen üzerindeki değerlerin toplamıdır.\n",
    "\n",
    "```\n",
    "A = [1 2] → trace(A) = 1 + 4 = 5\n",
    "    [3 4]\n",
    "```\n",
    "\n",
    "📌 İz, özdeğerlerin toplamına eşittir.  \n",
    "“Matrisin karakterinin ne kadar yoğun olduğunu” söyler."
   ]
  },
  {
   "cell_type": "code",
   "execution_count": 14,
   "id": "6da7c2e7",
   "metadata": {},
   "outputs": [
    {
     "name": "stdout",
     "output_type": "stream",
     "text": [
      "İz (Trace): 5\n"
     ]
    }
   ],
   "source": [
    "trace_A = np.trace(A)\n",
    "print(\"İz (Trace):\", trace_A)"
   ]
  },
  {
   "cell_type": "markdown",
   "id": "b46a75d6",
   "metadata": {},
   "source": [
    "### ✅ Rank (Mertebe)\n",
    "Lineer bağımsız satır ya da sütun sayısını gösterir.\n",
    "\n",
    "```\n",
    "A = [1 2] → rank = 2  \n",
    "    [3 4]\n",
    "\n",
    "B = [1 2] → rank = 1  \n",
    "    [2 4]\n",
    "```\n",
    "\n",
    "📌 Rank düşükse → bilgi azalmıştır  \n",
    "📌 Rank tam ise → bilgi korunmuştur"
   ]
  },
  {
   "cell_type": "code",
   "execution_count": 15,
   "id": "0fa717fe",
   "metadata": {},
   "outputs": [
    {
     "name": "stdout",
     "output_type": "stream",
     "text": [
      "Rank: 2\n"
     ]
    }
   ],
   "source": [
    "rank_A = np.linalg.matrix_rank(A)\n",
    "print(\"Rank:\", rank_A)\n"
   ]
  },
  {
   "cell_type": "markdown",
   "id": "94d3391f",
   "metadata": {},
   "source": [
    "### ✅ Özvektör (Eigenvector) ve Özdeğer (Eigenvalue)\n",
    "Özvektör, yönü değişmeyen ama uzayan/kısalan vektördür.  \n",
    "Özdeğer ise bu yöndeki büyüme oranıdır.\n",
    "\n",
    "📌 Yapay zekada en önemli kavramlardan biridir.  \n",
    "PCA, Google PageRank, görüntü işleme → hep buradan başlar.\n",
    "\n",
    "📌 Özdeğer → yön değişmeden büyüme oranı  \n",
    "📌 Özvektör → yön korunan özel vektör"
   ]
  },
  {
   "cell_type": "markdown",
   "id": "35502562",
   "metadata": {},
   "source": [
    "**Özvektör ve Özdeğerleri Bulmak**\n",
    "Bu, yapay zekanın beynidir."
   ]
  },
  {
   "cell_type": "code",
   "execution_count": 16,
   "id": "bbb13b5a",
   "metadata": {},
   "outputs": [
    {
     "name": "stdout",
     "output_type": "stream",
     "text": [
      "Özdeğerler: [-0.37228132  5.37228132]\n",
      "Özvektörler:\n",
      " [[-0.82456484 -0.41597356]\n",
      " [ 0.56576746 -0.90937671]]\n"
     ]
    }
   ],
   "source": [
    "from numpy import linalg as LA\n",
    "\n",
    "ozdegerler, ozvektorler = LA.eig(A)\n",
    "print(\"Özdeğerler:\", ozdegerler)\n",
    "print(\"Özvektörler:\\n\", ozvektorler)"
   ]
  },
  {
   "cell_type": "markdown",
   "id": "0afca2e5",
   "metadata": {},
   "source": [
    "\n",
    "## 📊 Özet Tablo\n",
    "\n",
    "| İşlem | Açıklama | Python Kodu |\n",
    "|--------|----------|-------------|\n",
    "| Toplama / Çıkarma | Karşılıklı elemanlar toplanır/çıkarılır | `A + B`, `A - B` |\n",
    "| Skaler Çarpma | Tüm elemanlar bir skalerle çarpılır | `A * 2` |\n",
    "| Matris Çarpımı | Satır × Sütun → yeni matris oluşur | `np.dot(A, B)` |\n",
    "| Transpoz | Satır ve sütun yer değiştirir | `A.T` |\n",
    "| Determinant | Matrisin çözülebilirliğini gösterir | `np.linalg.det(A)` |\n",
    "| Ters Alma | Eğer determinant sıfırdan farklıysa yapılır | `np.linalg.inv(A)` |\n",
    "| İz (Trace) | Ana köşegenin toplamıdır | `np.trace(A)` |\n",
    "| Rank | Lineer bağımsız satır/sütun sayısıdır | `np.linalg.matrix_rank(A)` |\n",
    "| Özdeğer / Özvektör | Dönüşümün anahtarlarıdır | `np.linalg.eig(A)` |\n"
   ]
  },
  {
   "cell_type": "markdown",
   "id": "6d31d913",
   "metadata": {},
   "source": [
    "## 💡 Neden Bu İşlemler Önemli?\n",
    "\n",
    "| İşlem | Kullanım Alanı |\n",
    "|--------|----------------|\n",
    "| **Matris Çarpımı** | Yapay zeka, sinir ağları, regresyon |\n",
    "| **Transpoz** | Özellikler ile ağırlıkların çarpımı |\n",
    "| **Determinant** | Terslenebilirlik kontrolü |\n",
    "| **Ters Matris** | Regresyon, optimizasyon |\n",
    "| **İz (Trace)** | Özdeğer toplamı anlamına gelir |\n",
    "| **Rank** | Veri bağımsızlığı ve bilgi bütünlüğü |\n",
    "| **Özvektör/Özdeğer** | PCA, PageRank, görüntü işleme |\n",
    "\n",
    "📌 Her işlem, bir soyut gerçeği açıklar.  \n",
    "Ve o soyut gerçek, **veri dünyasının diliyle konuşmayı sağlar.**\n"
   ]
  },
  {
   "cell_type": "markdown",
   "id": "de02a194",
   "metadata": {},
   "source": []
  }
 ],
 "metadata": {
  "kernelspec": {
   "display_name": "base",
   "language": "python",
   "name": "python3"
  },
  "language_info": {
   "codemirror_mode": {
    "name": "ipython",
    "version": 3
   },
   "file_extension": ".py",
   "mimetype": "text/x-python",
   "name": "python",
   "nbconvert_exporter": "python",
   "pygments_lexer": "ipython3",
   "version": "3.12.9"
  }
 },
 "nbformat": 4,
 "nbformat_minor": 5
}
