{
 "cells": [
  {
   "cell_type": "markdown",
   "id": "b088bf3d",
   "metadata": {},
   "source": [
    "# 📏 Değişim Aralığı: Verinin En Uç Noktaları Arasındaki Fark\n",
    "\n",
    "## Giriş: Veri Ne Kadar Yayılmış?\n",
    "\n",
    "Diyelim ki bir sınıftaki öğrencilerin sınav notlarını incelemek istiyorsun. Ortalama 70 çıktı ama bazıları 100 aldı, bazıları ise 40 aldı. Bu durumda veri nasıl yayılmış? İşte tam burada devreye **değişim aralığı** giriyor.\n",
    "\n",
    "> “Değişim aralığı, verinin en uç iki noktası arasında kalan mesafeyi gösterir. Yani veri ne kadar geniş alana yayılmışsa onu bize söyler.”  "
   ]
  },
  {
   "cell_type": "markdown",
   "id": "75369ef5",
   "metadata": {},
   "source": [
    "## 🔍 Değişim Aralığı Nedir?\n",
    "\n",
    "**Değişim aralığı**, bir veri kümesindeki **en büyük değer ile en küçük değer arasındaki farktır.**\n",
    "\n",
    "Değişim aralığı (İngilizcede \"range\"), bir veri kümesindeki en büyük değer ile en küçük değer arasındaki farktır. Verilerin ne kadar yayıldığını veya dağıldığını gösteren en basit ölçülerden biridir. Ancak, sadece en uçtaki iki değeri dikkate aldığı için, verilerin dağılımı hakkında tam bir resim vermez ve aykırı değerlerden (çok büyük veya çok küçük değerlerden) önemli ölçüde etkilenir.\n",
    "\n",
    "### Formülü:\n",
    "$$\n",
    "\\text{Değişim Aralığı} = X_{\\text{max}} - X_{\\text{min}}\n",
    "$$\n",
    "\n",
    "- $X_{\\text{max}}$: En yüksek değer\n",
    "- $X_{\\text{min}}$: En düşük değer\n",
    "\n",
    "📌 Çok basit bir formül ama çok hızlı bir fikir verir:  \n",
    "“Veri dar mı yayılmış, yoksa geniş mi?”\n"
   ]
  },
  {
   "cell_type": "markdown",
   "id": "00e5d007",
   "metadata": {},
   "source": [
    "## 💡 Gerçek Hayat Örnekleriyle Anlamak\n",
    "\n",
    "### 🎯 Örnek 1: Sınıf Notları\n",
    "\n",
    "Bir sınıfta alınan notlar:\n",
    "```\n",
    "55, 60, 70, 75, 80, 85, 95\n",
    "```\n",
    "\n",
    "Adım adım:\n",
    "- En yüksek not = 95\n",
    "- En düşük not = 55\n",
    "- Değişim aralığı = 95 - 55 = **40**\n",
    "\n",
    "✅ Bu sınıfın notları **40 puanlık bir aralıkta dağılmış**."
   ]
  },
  {
   "cell_type": "markdown",
   "id": "d2cbff1b",
   "metadata": {},
   "source": [
    "### 🏀 Örnek 2: Basketbol Oyuncusu Skorları\n",
    "\n",
    "Maç başına attığı sayılar:\n",
    "```\n",
    "10, 12, 15, 16, 18, 20, 35\n",
    "```\n",
    "\n",
    "Adım adım:\n",
    "- En yüksek = 35\n",
    "- En düşük = 10\n",
    "- Değişim aralığı = 35 - 10 = **25**\n",
    "\n",
    "✅ Bu oyuncunun performansı **25 sayı aralığında değişmiş**."
   ]
  },
  {
   "cell_type": "markdown",
   "id": "3ab78e07",
   "metadata": {},
   "source": [
    "## ⚠️ Avantajları ve Dezavantajları\n",
    "\n",
    "| Özellik | Açıklama |\n",
    "|--------|----------|\n",
    "| ✅ Kolay hesaplanır | Sadece iki değeri çıkarman yeterli |\n",
    "| ✅ Hızlı fikir verir | Verinin genel yayılımı hakkında |\n",
    "| ❌ Aykırı değerlere hassas | En uç noktaları dikkate aldığı için yanıltıcı olabilir |\n",
    "| ❌ Tüm veriyi yansıtmaz | Sadece iki değeri dikkate alır |\n",
    "\n",
    "📌 **Özet:**  \n",
    "- Değişim aralığı hızlı ve kolaydır.\n",
    "- Ancak aykırı değerler varsa yanıltıcı olabilir.\n",
    "- Daha kapsamlı analizler için standart sapma veya IQR daha doğru sonuç verir.\n",
    "\n",
    "\n",
    "Değişim aralığının dezavantajlarını gidermek için aşağıdaki yayılım ölçüleri daha sık kullanılır:\n",
    "\n",
    "- **Kartiller Arası Aralık (IQR):** Verilerin orta %50'sinin yayılımını gösterir ve aykırı değerlerden daha az etkilenir.\n",
    "- **Standart Sapma:** Verilerin ortalamadan ne kadar saptığını gösterir.\n",
    "- **Varyans:** Standart sapmanın karesidir.\n"
   ]
  },
  {
   "cell_type": "markdown",
   "id": "3127ffdc",
   "metadata": {},
   "source": [
    "## 🛠️ Nerelerde Kullanılır?\n",
    "\n",
    "| Alan | Kullanım Yeri |\n",
    "|------|----------------|\n",
    "| **Hava Durumu** | En yüksek ve en düşük sıcaklık farkı |\n",
    "| **Finans** | Hisse senedi fiyatlarının günlük dalgalanması |\n",
    "| **Kalite Kontrolü** | Ürün boyutlarındaki varyasyon kontrolü |\n",
    "| **Eğitim** | Öğrenci notlarının genel yayılımı |\n",
    "| **Spor Analizi** | Bir oyuncunun maçlardaki skor yayılımı |\n"
   ]
  },
  {
   "cell_type": "code",
   "execution_count": 1,
   "id": "a5b27988",
   "metadata": {},
   "outputs": [
    {
     "name": "stdout",
     "output_type": "stream",
     "text": [
      "En yüksek değer: 95\n",
      "En düşük değer: 55\n",
      "Değişim aralığı: 40\n"
     ]
    }
   ],
   "source": [
    "# Python Uygulaması: Değişim Aralığı Nasıl Hesaplanır?\n",
    "\n",
    "veri = [55, 60, 70, 75, 80, 85, 95]\n",
    "\n",
    "en_yuksek = max(veri)\n",
    "en_dusuk = min(veri)\n",
    "degisim_araligi = en_yuksek - en_dusuk\n",
    "\n",
    "print(f\"En yüksek değer: {en_yuksek}\")\n",
    "print(f\"En düşük değer: {en_dusuk}\")\n",
    "print(f\"Değişim aralığı: {degisim_araligi}\")"
   ]
  },
  {
   "cell_type": "code",
   "execution_count": 2,
   "id": "1fb3f4a5",
   "metadata": {},
   "outputs": [
    {
     "name": "stdout",
     "output_type": "stream",
     "text": [
      "Değişim aralığı: 40\n"
     ]
    }
   ],
   "source": [
    "# Alternatif olarak `numpy` ile:\n",
    "\n",
    "import numpy as np\n",
    "\n",
    "degisim = np.max(veri) - np.min(veri)\n",
    "print(f\"Değişim aralığı: {degisim}\")"
   ]
  },
  {
   "cell_type": "markdown",
   "id": "46e558d2",
   "metadata": {},
   "source": [
    "## 📈 Değişim Aralığı vs Diğer Yayılım Ölçüleri\n",
    "\n",
    "| Ölçü | Açıklama | Avantaj | Dezavantaj |\n",
    "|------|----------|---------|------------|\n",
    "| **Değişim Aralığı** | Max - Min farkı | Basit, hızlı | Aykırı değerlere duyarlı |\n",
    "| **IQR (Kartiller Arası Aralık)** | Q3 - Q1 farkı | Aykırılardan etkilenmez | Orta %50’yi gösterir |\n",
    "| **Standart Sapma** | Ortalamadan sapmayı gösterir | Detaylı analiz | Daha karmaşık |\n",
    "| **Varyans** | Standart sapmanın karesi | İstatistiksel modellerde kullanılır | Yorumlanması zordur |\n"
   ]
  },
  {
   "cell_type": "markdown",
   "id": "8ba21ff3",
   "metadata": {},
   "source": [
    "## 💬  Son Söz:\n",
    "\n",
    "> \"Unutmayın; veride sadece uç noktalara bakmak bazen yanılgıya neden olabilir. Daha derin anlayış için diğer yayılım ölçüleriyle birlikte kullanmalısınız.”"
   ]
  },
  {
   "cell_type": "markdown",
   "id": "544d2d03",
   "metadata": {},
   "source": []
  }
 ],
 "metadata": {
  "kernelspec": {
   "display_name": "base",
   "language": "python",
   "name": "python3"
  },
  "language_info": {
   "codemirror_mode": {
    "name": "ipython",
    "version": 3
   },
   "file_extension": ".py",
   "mimetype": "text/x-python",
   "name": "python",
   "nbconvert_exporter": "python",
   "pygments_lexer": "ipython3",
   "version": "3.12.9"
  }
 },
 "nbformat": 4,
 "nbformat_minor": 5
}
